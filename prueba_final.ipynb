{
 "cells": [
  {
   "cell_type": "markdown",
   "metadata": {},
   "source": [
    "# Prueba Final, Bootcamp Fundamentos DS, Academia Desafio Latam, Agosto 2018"
   ]
  },
  {
   "cell_type": "markdown",
   "metadata": {},
   "source": [
    "## Primer Problema"
   ]
  },
  {
   "cell_type": "markdown",
   "metadata": {},
   "source": [
    "### Preliminares"
   ]
  },
  {
   "cell_type": "markdown",
   "metadata": {},
   "source": [
    "El objetivo es generar un modelo predictivo sobre la probabilidad que un individuo presente salarios por sobre o bajo los 50.000 dólares anuales, en base a una serie de atributos sociodemográficos. Dado que se trata de una variable binaria (>50k, <50k), se utilizará un modelo de regresión logística, utilizando como métricas de desempeño F1 y el área bajo la curva ROC. Para depurar el modelo, primero se hará un análisis descriptivo de sus variables, y luego se ejecutará un modelamiento descriptivo, para conocer cuales son sus variables más significativas."
   ]
  },
  {
   "cell_type": "markdown",
   "metadata": {},
   "source": [
    "### Aspectos computacionales\n"
   ]
  },
  {
   "cell_type": "code",
   "execution_count": 4,
   "metadata": {},
   "outputs": [],
   "source": [
    "import pandas as pd\n",
    "import numpy as np\n",
    "import matplotlib.pyplot as plt\n",
    "import seaborn as sns\n",
    "from sklearn.model_selection import train_test_split\n",
    "from sklearn.preprocessing import StandardScaler\n",
    "from sklearn.linear_model import LogisticRegression\n",
    "from sklearn.metrics import confusion_matrix\n",
    "from sklearn.metrics import classification_report\n",
    "from sklearn.metrics import roc_curve\n",
    "from sklearn.preprocessing import PolynomialFeatures\n",
    "import warnings\n",
    "import scipy.stats as stats\n",
    "import statsmodels.api as sm\n",
    "import statsmodels.formula.api as smf\n",
    "warnings.filterwarnings(action=\"ignore\")\n",
    "import functions as fxpy"
   ]
  },
  {
   "cell_type": "markdown",
   "metadata": {},
   "source": [
    "Se trae la tríada de bibliotecas de DS (pandas, numpy y matplotlib), además de seaborn para ayudarnos en los gráficos. Por otro lado, se trae statsmodels para poder generar el modelo descriptivo y bibliotecas de sklearn para implementar el modelo de regresión y medir sus métricas de desempeño.\n",
    "Finalmente, se crearon funciones especialmente para este notebook, que nos ayudarán a generar gráficos para todo el df y no trabajar columna a columna."
   ]
  },
  {
   "cell_type": "markdown",
   "metadata": {},
   "source": [
    "### Descripción"
   ]
  },
  {
   "cell_type": "markdown",
   "metadata": {},
   "source": [
    "Primero leemos el archivo income-db.csv, reemplazando los valores '?' por NaN. Ademśa recodificamos las variables 'occupation', 'workclass', 'education' y marital status"
   ]
  },
  {
   "cell_type": "code",
   "execution_count": 2,
   "metadata": {},
   "outputs": [],
   "source": [
    "df = pd.read_csv('income-db.csv').replace('?', np.nan)\n",
    "\n",
    "df['collars'] = df['occupation']\n",
    "df['collars'] = df['collars'].replace(['Prof-specialty', 'Exec-managerial', 'Adm-clerical', 'Sales', 'Tech-support'], 'white-collar')\n",
    "df['collars'] = df['collars'].replace(['Craft-repair', 'Machine-op-inspct', 'Transport-moving', 'Handlers-cleaners', 'Farming-fishing', 'Protective-serv', 'Priv-house-serv'], 'blue-collar')\n",
    "df['collars'] = df['collars'].replace(['Other-service', 'Armed-Forces'], 'others')\n",
    "\n",
    "df['workclass_recod'] = df['workclass']\n",
    "df['workclass_recod'] = df['workclass_recod'].replace(['Federal-gov'], 'federal-gov')\n",
    "df['workclass_recod'] = df['workclass_recod'].replace(['State-gov','Local-gov'], 'state-level-gov')\n",
    "df['workclass_recod'] = df['workclass_recod'].replace(['Self-emp-not-inc','Self-emp-inc'], 'self-employed')\n",
    "df['workclass_recod'] = df['workclass_recod'].replace(['Never-worked','Without-pay'], 'unemployed')\n",
    "\n",
    "df['educ_recod'] = df['education']\n",
    "df['educ_recod'] = df['educ_recod'].replace(['Preschool'], 'preschool')\n",
    "df['educ_recod'] = df['educ_recod'].replace(['1st-4th', '5th-6th'], 'elementary-school')\n",
    "df['educ_recod'] = df['educ_recod'].replace(['7th-8th', '9th', '10th','11th', '12th', 'HS-grad'], 'high-school')\n",
    "df['educ_recod'] = df['educ_recod'].replace(['Assoc-voc', 'Assoc-acdm', 'Some-college'], 'college')\n",
    "df['educ_recod'] = df['educ_recod'].replace(['Bachelors', 'Masters', 'Prof-school', 'Doctorate'], 'university')\n",
    "\n",
    "df['civstatus'] = df['marital-status']\n",
    "df['civstatus'] = np.where(df['civstatus'].str.contains('Married'),'married',df['civstatus'])\n",
    "df['civstatus'] = df['civstatus'].str.lower()"
   ]
  },
  {
   "cell_type": "markdown",
   "metadata": {},
   "source": [
    "Ahora utilizando el archivo paises.csv clasificamos por regiones y binarizamos la variable 'income'"
   ]
  },
  {
   "cell_type": "code",
   "execution_count": 3,
   "metadata": {},
   "outputs": [],
   "source": [
    "paises = pd.read_csv('paises.csv')\n",
    "\n",
    "paises = paises.rename(columns={'continente': 'region'})\n",
    "\n",
    "df = df.merge(paises, left_on='native-country', right_on='pais')\n",
    "\n",
    "df['income'] = np.where(df['income']=='<=50K',0,1)"
   ]
  },
  {
   "cell_type": "code",
   "execution_count": 4,
   "metadata": {},
   "outputs": [
    {
     "data": {
      "text/html": [
       "<div>\n",
       "<style scoped>\n",
       "    .dataframe tbody tr th:only-of-type {\n",
       "        vertical-align: middle;\n",
       "    }\n",
       "\n",
       "    .dataframe tbody tr th {\n",
       "        vertical-align: top;\n",
       "    }\n",
       "\n",
       "    .dataframe thead th {\n",
       "        text-align: right;\n",
       "    }\n",
       "</style>\n",
       "<table border=\"1\" class=\"dataframe\">\n",
       "  <thead>\n",
       "    <tr style=\"text-align: right;\">\n",
       "      <th></th>\n",
       "      <th>age</th>\n",
       "      <th>fnlwgt</th>\n",
       "      <th>educational-num</th>\n",
       "      <th>capital-gain</th>\n",
       "      <th>capital-loss</th>\n",
       "      <th>hours-per-week</th>\n",
       "      <th>income</th>\n",
       "    </tr>\n",
       "  </thead>\n",
       "  <tbody>\n",
       "    <tr>\n",
       "      <th>count</th>\n",
       "      <td>47985.000000</td>\n",
       "      <td>4.798500e+04</td>\n",
       "      <td>47985.000000</td>\n",
       "      <td>47985.000000</td>\n",
       "      <td>47985.000000</td>\n",
       "      <td>47985.000000</td>\n",
       "      <td>47985.000000</td>\n",
       "    </tr>\n",
       "    <tr>\n",
       "      <th>mean</th>\n",
       "      <td>38.641284</td>\n",
       "      <td>1.895940e+05</td>\n",
       "      <td>10.067229</td>\n",
       "      <td>1067.032093</td>\n",
       "      <td>87.370553</td>\n",
       "      <td>40.411483</td>\n",
       "      <td>0.238971</td>\n",
       "    </tr>\n",
       "    <tr>\n",
       "      <th>std</th>\n",
       "      <td>13.729622</td>\n",
       "      <td>1.057605e+05</td>\n",
       "      <td>2.560534</td>\n",
       "      <td>7373.256663</td>\n",
       "      <td>402.681462</td>\n",
       "      <td>12.391073</td>\n",
       "      <td>0.426459</td>\n",
       "    </tr>\n",
       "    <tr>\n",
       "      <th>min</th>\n",
       "      <td>17.000000</td>\n",
       "      <td>1.228500e+04</td>\n",
       "      <td>1.000000</td>\n",
       "      <td>0.000000</td>\n",
       "      <td>0.000000</td>\n",
       "      <td>1.000000</td>\n",
       "      <td>0.000000</td>\n",
       "    </tr>\n",
       "    <tr>\n",
       "      <th>25%</th>\n",
       "      <td>28.000000</td>\n",
       "      <td>1.173490e+05</td>\n",
       "      <td>9.000000</td>\n",
       "      <td>0.000000</td>\n",
       "      <td>0.000000</td>\n",
       "      <td>40.000000</td>\n",
       "      <td>0.000000</td>\n",
       "    </tr>\n",
       "    <tr>\n",
       "      <th>50%</th>\n",
       "      <td>37.000000</td>\n",
       "      <td>1.781000e+05</td>\n",
       "      <td>10.000000</td>\n",
       "      <td>0.000000</td>\n",
       "      <td>0.000000</td>\n",
       "      <td>40.000000</td>\n",
       "      <td>0.000000</td>\n",
       "    </tr>\n",
       "    <tr>\n",
       "      <th>75%</th>\n",
       "      <td>48.000000</td>\n",
       "      <td>2.377200e+05</td>\n",
       "      <td>12.000000</td>\n",
       "      <td>0.000000</td>\n",
       "      <td>0.000000</td>\n",
       "      <td>45.000000</td>\n",
       "      <td>0.000000</td>\n",
       "    </tr>\n",
       "    <tr>\n",
       "      <th>max</th>\n",
       "      <td>90.000000</td>\n",
       "      <td>1.490400e+06</td>\n",
       "      <td>16.000000</td>\n",
       "      <td>99999.000000</td>\n",
       "      <td>4356.000000</td>\n",
       "      <td>99.000000</td>\n",
       "      <td>1.000000</td>\n",
       "    </tr>\n",
       "  </tbody>\n",
       "</table>\n",
       "</div>"
      ],
      "text/plain": [
       "                age        fnlwgt  educational-num  capital-gain  \\\n",
       "count  47985.000000  4.798500e+04     47985.000000  47985.000000   \n",
       "mean      38.641284  1.895940e+05        10.067229   1067.032093   \n",
       "std       13.729622  1.057605e+05         2.560534   7373.256663   \n",
       "min       17.000000  1.228500e+04         1.000000      0.000000   \n",
       "25%       28.000000  1.173490e+05         9.000000      0.000000   \n",
       "50%       37.000000  1.781000e+05        10.000000      0.000000   \n",
       "75%       48.000000  2.377200e+05        12.000000      0.000000   \n",
       "max       90.000000  1.490400e+06        16.000000  99999.000000   \n",
       "\n",
       "       capital-loss  hours-per-week        income  \n",
       "count  47985.000000    47985.000000  47985.000000  \n",
       "mean      87.370553       40.411483      0.238971  \n",
       "std      402.681462       12.391073      0.426459  \n",
       "min        0.000000        1.000000      0.000000  \n",
       "25%        0.000000       40.000000      0.000000  \n",
       "50%        0.000000       40.000000      0.000000  \n",
       "75%        0.000000       45.000000      0.000000  \n",
       "max     4356.000000       99.000000      1.000000  "
      ]
     },
     "execution_count": 4,
     "metadata": {},
     "output_type": "execute_result"
    }
   ],
   "source": [
    "df.describe()"
   ]
  },
  {
   "cell_type": "markdown",
   "metadata": {},
   "source": [
    "Notamos que en las variables numéricas tenemos todos los datos, pero que las variables capital-gain y capital-loss se comportan de manera extraña, ya que más de un 75% de los datos están en 0."
   ]
  },
  {
   "cell_type": "code",
   "execution_count": 5,
   "metadata": {},
   "outputs": [
    {
     "data": {
      "text/html": [
       "<div>\n",
       "<style scoped>\n",
       "    .dataframe tbody tr th:only-of-type {\n",
       "        vertical-align: middle;\n",
       "    }\n",
       "\n",
       "    .dataframe tbody tr th {\n",
       "        vertical-align: top;\n",
       "    }\n",
       "\n",
       "    .dataframe thead th {\n",
       "        text-align: right;\n",
       "    }\n",
       "</style>\n",
       "<table border=\"1\" class=\"dataframe\">\n",
       "  <thead>\n",
       "    <tr style=\"text-align: right;\">\n",
       "      <th></th>\n",
       "      <th>workclass</th>\n",
       "      <th>education</th>\n",
       "      <th>marital-status</th>\n",
       "      <th>occupation</th>\n",
       "      <th>relationship</th>\n",
       "      <th>race</th>\n",
       "      <th>gender</th>\n",
       "      <th>native-country</th>\n",
       "      <th>collars</th>\n",
       "      <th>workclass_recod</th>\n",
       "      <th>educ_recod</th>\n",
       "      <th>civstatus</th>\n",
       "      <th>pais</th>\n",
       "      <th>region</th>\n",
       "    </tr>\n",
       "  </thead>\n",
       "  <tbody>\n",
       "    <tr>\n",
       "      <th>count</th>\n",
       "      <td>45232</td>\n",
       "      <td>47985</td>\n",
       "      <td>47985</td>\n",
       "      <td>45222</td>\n",
       "      <td>47985</td>\n",
       "      <td>47985</td>\n",
       "      <td>47985</td>\n",
       "      <td>47985</td>\n",
       "      <td>45222</td>\n",
       "      <td>45232</td>\n",
       "      <td>47985</td>\n",
       "      <td>47985</td>\n",
       "      <td>47985</td>\n",
       "      <td>47870</td>\n",
       "    </tr>\n",
       "    <tr>\n",
       "      <th>unique</th>\n",
       "      <td>8</td>\n",
       "      <td>16</td>\n",
       "      <td>7</td>\n",
       "      <td>14</td>\n",
       "      <td>6</td>\n",
       "      <td>5</td>\n",
       "      <td>2</td>\n",
       "      <td>41</td>\n",
       "      <td>3</td>\n",
       "      <td>5</td>\n",
       "      <td>5</td>\n",
       "      <td>5</td>\n",
       "      <td>41</td>\n",
       "      <td>3</td>\n",
       "    </tr>\n",
       "    <tr>\n",
       "      <th>top</th>\n",
       "      <td>Private</td>\n",
       "      <td>HS-grad</td>\n",
       "      <td>Married-civ-spouse</td>\n",
       "      <td>Craft-repair</td>\n",
       "      <td>Husband</td>\n",
       "      <td>White</td>\n",
       "      <td>Male</td>\n",
       "      <td>United-States</td>\n",
       "      <td>white-collar</td>\n",
       "      <td>Private</td>\n",
       "      <td>high-school</td>\n",
       "      <td>married</td>\n",
       "      <td>United-States</td>\n",
       "      <td>America</td>\n",
       "    </tr>\n",
       "    <tr>\n",
       "      <th>freq</th>\n",
       "      <td>33307</td>\n",
       "      <td>15586</td>\n",
       "      <td>21971</td>\n",
       "      <td>6020</td>\n",
       "      <td>19371</td>\n",
       "      <td>41189</td>\n",
       "      <td>32041</td>\n",
       "      <td>43832</td>\n",
       "      <td>24360</td>\n",
       "      <td>33307</td>\n",
       "      <td>21069</td>\n",
       "      <td>22603</td>\n",
       "      <td>43832</td>\n",
       "      <td>46109</td>\n",
       "    </tr>\n",
       "  </tbody>\n",
       "</table>\n",
       "</div>"
      ],
      "text/plain": [
       "       workclass education      marital-status    occupation relationship  \\\n",
       "count      45232     47985               47985         45222        47985   \n",
       "unique         8        16                   7            14            6   \n",
       "top      Private   HS-grad  Married-civ-spouse  Craft-repair      Husband   \n",
       "freq       33307     15586               21971          6020        19371   \n",
       "\n",
       "         race gender native-country       collars workclass_recod  \\\n",
       "count   47985  47985          47985         45222           45232   \n",
       "unique      5      2             41             3               5   \n",
       "top     White   Male  United-States  white-collar         Private   \n",
       "freq    41189  32041          43832         24360           33307   \n",
       "\n",
       "         educ_recod civstatus           pais   region  \n",
       "count         47985     47985          47985    47870  \n",
       "unique            5         5             41        3  \n",
       "top     high-school   married  United-States  America  \n",
       "freq          21069     22603          43832    46109  "
      ]
     },
     "execution_count": 5,
     "metadata": {},
     "output_type": "execute_result"
    }
   ],
   "source": [
    "df.describe(exclude=np.number)"
   ]
  },
  {
   "cell_type": "markdown",
   "metadata": {},
   "source": [
    "Notamos que los numeros de datos difieren de variable en variable, lo que puede significar valores perdidos. Estados uUnidos es el que tiene mayor representación, con 43832 datos de un total de 47985. Eventualmente esto puede significar que esté sobrerrepresentado y que nuestros modelos puedan predecir muy bien la situación en USA pero no en otros países, lo mismo para las razas"
   ]
  },
  {
   "cell_type": "code",
   "execution_count": 6,
   "metadata": {},
   "outputs": [
    {
     "data": {
      "image/png": "[encoded data removed]",
      "text/plain": [
       "<Figure size 432x288 with 1 Axes>"
      ]
     },
     "metadata": {},
     "output_type": "display_data"
    },
    {
     "data": {
      "image/png": "[encoded data removed]",
      "text/plain": [
       "<Figure size 432x288 with 1 Axes>"
      ]
     },
     "metadata": {},
     "output_type": "display_data"
    },
    {
     "data": {
      "image/png": "[encoded data removed]",
      "text/plain": [
       "<Figure size 432x288 with 1 Axes>"
      ]
     },
     "metadata": {},
     "output_type": "display_data"
    },
    {
     "data": {
      "image/png": "[encoded data removed]",
      "text/plain": [
       "<Figure size 432x288 with 1 Axes>"
      ]
     },
     "metadata": {},
     "output_type": "display_data"
    },
    {
     "data": {
      "image/png": "[encoded data removed]",
      "text/plain": [
       "<Figure size 432x288 with 1 Axes>"
      ]
     },
     "metadata": {},
     "output_type": "display_data"
    },
    {
     "data": {
      "image/png": "[encoded data removed]",
      "text/plain": [
       "<Figure size 432x288 with 1 Axes>"
      ]
     },
     "metadata": {},
     "output_type": "display_data"
    },
    {
     "data": {
      "image/png": "[encoded data removed]",
      "text/plain": [
       "<Figure size 432x288 with 1 Axes>"
      ]
     },
     "metadata": {},
     "output_type": "display_data"
    }
   ],
   "source": [
    "fxpy.histograms(df)"
   ]
  },
  {
   "cell_type": "markdown",
   "metadata": {},
   "source": [
    "Si bien la mayor parte de las variables están concentradas cerca de la media, no hay ninguna que se comporte de forma parecida a la normal. Las variables capitalgain y capitalloss tienen la mayor parte de datos con valor 0. Graficaremos boxplots para revisar si hay outliers"
   ]
  },
  {
   "cell_type": "code",
   "execution_count": 10,
   "metadata": {},
   "outputs": [
    {
     "data": {
      "image/png": "[encoded data removed]",
      "text/plain": [
       "<Figure size 432x288 with 1 Axes>"
      ]
     },
     "metadata": {},
     "output_type": "display_data"
    },
    {
     "data": {
      "image/png": "[encoded data removed]",
      "text/plain": [
       "<Figure size 432x288 with 1 Axes>"
      ]
     },
     "metadata": {},
     "output_type": "display_data"
    },
    {
     "data": {
      "image/png": "[encoded data removed]",
      "text/plain": [
       "<Figure size 432x288 with 1 Axes>"
      ]
     },
     "metadata": {},
     "output_type": "display_data"
    },
    {
     "data": {
      "image/png": "[encoded data removed]",
      "text/plain": [
       "<Figure size 432x288 with 1 Axes>"
      ]
     },
     "metadata": {},
     "output_type": "display_data"
    },
    {
     "data": {
      "image/png": "[encoded data removed]",
      "text/plain": [
       "<Figure size 432x288 with 1 Axes>"
      ]
     },
     "metadata": {},
     "output_type": "display_data"
    },
    {
     "data": {
      "image/png": "[encoded data removed]",
      "text/plain": [
       "<Figure size 432x288 with 1 Axes>"
      ]
     },
     "metadata": {},
     "output_type": "display_data"
    },
    {
     "data": {
      "image/png": "[encoded data removed]",
      "text/plain": [
       "<Figure size 432x288 with 1 Axes>"
      ]
     },
     "metadata": {},
     "output_type": "display_data"
    }
   ],
   "source": [
    "fxpy.boxplots(df)"
   ]
  },
  {
   "cell_type": "markdown",
   "metadata": {},
   "source": [
    "Las variales fnlwgt, capital gain, capital loss, hours per week presentan una gran cantidad de Outliers.  \n",
    "    Ahora contemos la cantidad de datos perdidos que tenemos"
   ]
  },
  {
   "cell_type": "code",
   "execution_count": 11,
   "metadata": {},
   "outputs": [
    {
     "name": "stdout",
     "output_type": "stream",
     "text": [
      "workclass :\n",
      "Private             33307\n",
      "Self-emp-not-inc     3796\n",
      "Local-gov            3100\n",
      "NaN                  2753\n",
      "State-gov            1946\n",
      "Self-emp-inc         1646\n",
      "Federal-gov          1406\n",
      "Without-pay            21\n",
      "Never-worked           10\n",
      "Name: workclass, dtype: int64\n",
      "\n",
      "\n",
      "education :\n",
      "HS-grad         15586\n",
      "Some-college    10723\n",
      "Bachelors        7815\n",
      "Masters          2579\n",
      "Assoc-voc        2038\n",
      "11th             1800\n",
      "Assoc-acdm       1579\n",
      "10th             1372\n",
      "7th-8th           931\n",
      "Prof-school       808\n",
      "9th               745\n",
      "12th              635\n",
      "Doctorate         562\n",
      "5th-6th           490\n",
      "1st-4th           240\n",
      "Preschool          82\n",
      "Name: education, dtype: int64\n",
      "\n",
      "\n",
      "marital-status :\n",
      "Married-civ-spouse       21971\n",
      "Never-married            15816\n",
      "Divorced                  6561\n",
      "Separated                 1507\n",
      "Widowed                   1498\n",
      "Married-spouse-absent      595\n",
      "Married-AF-spouse           37\n",
      "Name: marital-status, dtype: int64\n",
      "\n",
      "\n",
      "occupation :\n",
      "Craft-repair         6020\n",
      "Prof-specialty       6008\n",
      "Exec-managerial      5984\n",
      "Adm-clerical         5540\n",
      "Sales                5408\n",
      "Other-service        4808\n",
      "Machine-op-inspct    2970\n",
      "NaN                  2763\n",
      "Transport-moving     2316\n",
      "Handlers-cleaners    2046\n",
      "Farming-fishing      1480\n",
      "Tech-support         1420\n",
      "Protective-serv       976\n",
      "Priv-house-serv       232\n",
      "Armed-Forces           14\n",
      "Name: occupation, dtype: int64\n",
      "\n",
      "\n",
      "relationship :\n",
      "Husband           19371\n",
      "Not-in-family     12353\n",
      "Own-child          7491\n",
      "Unmarried          5041\n",
      "Wife               2277\n",
      "Other-relative     1452\n",
      "Name: relationship, dtype: int64\n",
      "\n",
      "\n",
      "race :\n",
      "White                 41189\n",
      "Black                  4553\n",
      "Asian-Pac-Islander     1391\n",
      "Amer-Indian-Eskimo      470\n",
      "Other                   382\n",
      "Name: race, dtype: int64\n",
      "\n",
      "\n",
      "gender :\n",
      "Male      32041\n",
      "Female    15944\n",
      "Name: gender, dtype: int64\n",
      "\n",
      "\n",
      "native-country :\n",
      "United-States                 43832\n",
      "Mexico                          951\n",
      "Philippines                     295\n",
      "Germany                         206\n",
      "Puerto-Rico                     184\n",
      "Canada                          182\n",
      "El-Salvador                     155\n",
      "India                           151\n",
      "Cuba                            138\n",
      "England                         127\n",
      "China                           122\n",
      "South                           115\n",
      "Jamaica                         106\n",
      "Italy                           105\n",
      "Dominican-Republic              103\n",
      "Japan                            92\n",
      "Guatemala                        88\n",
      "Poland                           87\n",
      "Vietnam                          86\n",
      "Columbia                         85\n",
      "Haiti                            75\n",
      "Portugal                         67\n",
      "Taiwan                           65\n",
      "Iran                             59\n",
      "Greece                           49\n",
      "Nicaragua                        49\n",
      "Peru                             46\n",
      "Ecuador                          45\n",
      "France                           38\n",
      "Ireland                          37\n",
      "Hong                             30\n",
      "Thailand                         30\n",
      "Cambodia                         28\n",
      "Trinadad&Tobago                  27\n",
      "Laos                             23\n",
      "Outlying-US(Guam-USVI-etc)       23\n",
      "Yugoslavia                       23\n",
      "Scotland                         21\n",
      "Honduras                         20\n",
      "Hungary                          19\n",
      "Holand-Netherlands                1\n",
      "Name: native-country, dtype: int64\n",
      "\n",
      "\n",
      "collars :\n",
      "white-collar    24360\n",
      "blue-collar     16040\n",
      "others           4822\n",
      "NaN              2763\n",
      "Name: collars, dtype: int64\n",
      "\n",
      "\n",
      "workclass_recod :\n",
      "Private            33307\n",
      "self-employed       5442\n",
      "state-level-gov     5046\n",
      "NaN                 2753\n",
      "federal-gov         1406\n",
      "unemployed            31\n",
      "Name: workclass_recod, dtype: int64\n",
      "\n",
      "\n",
      "educ_recod :\n",
      "high-school          21069\n",
      "college              14340\n",
      "university           11764\n",
      "elementary-school      730\n",
      "preschool               82\n",
      "Name: educ_recod, dtype: int64\n",
      "\n",
      "\n",
      "civstatus :\n",
      "married          22603\n",
      "never-married    15816\n",
      "divorced          6561\n",
      "separated         1507\n",
      "widowed           1498\n",
      "Name: civstatus, dtype: int64\n",
      "\n",
      "\n",
      "pais :\n",
      "United-States                 43832\n",
      "Mexico                          951\n",
      "Philippines                     295\n",
      "Germany                         206\n",
      "Puerto-Rico                     184\n",
      "Canada                          182\n",
      "El-Salvador                     155\n",
      "India                           151\n",
      "Cuba                            138\n",
      "England                         127\n",
      "China                           122\n",
      "South                           115\n",
      "Jamaica                         106\n",
      "Italy                           105\n",
      "Dominican-Republic              103\n",
      "Japan                            92\n",
      "Guatemala                        88\n",
      "Poland                           87\n",
      "Vietnam                          86\n",
      "Columbia                         85\n",
      "Haiti                            75\n",
      "Portugal                         67\n",
      "Taiwan                           65\n",
      "Iran                             59\n",
      "Greece                           49\n",
      "Nicaragua                        49\n",
      "Peru                             46\n",
      "Ecuador                          45\n",
      "France                           38\n",
      "Ireland                          37\n",
      "Hong                             30\n",
      "Thailand                         30\n",
      "Cambodia                         28\n",
      "Trinadad&Tobago                  27\n",
      "Laos                             23\n",
      "Outlying-US(Guam-USVI-etc)       23\n",
      "Yugoslavia                       23\n",
      "Scotland                         21\n",
      "Honduras                         20\n",
      "Hungary                          19\n",
      "Holand-Netherlands                1\n",
      "Name: pais, dtype: int64\n",
      "\n",
      "\n",
      "region :\n",
      "America    46109\n",
      "Asia         981\n",
      "Europa       780\n",
      "NaN          115\n",
      "Name: region, dtype: int64\n",
      "\n",
      "\n"
     ]
    }
   ],
   "source": [
    "fxpy.valores_ds1(df)"
   ]
  },
  {
   "cell_type": "markdown",
   "metadata": {},
   "source": [
    "occupation, collars, workclass y region tienen altos valores de missing values, los agruparé por regiṕn para saber si es pérdida aleatoria o está concentrada en alguna región en particular"
   ]
  },
  {
   "cell_type": "code",
   "execution_count": 14,
   "metadata": {},
   "outputs": [
    {
     "name": "stdout",
     "output_type": "stream",
     "text": [
      "workclass :\n",
      "region   workclass       \n",
      "America  Private             0.693834\n",
      "         Self-emp-not-inc    0.078770\n",
      "         Local-gov           0.065670\n",
      "         NaN                 0.057386\n",
      "         State-gov           0.040513\n",
      "         Self-emp-inc        0.033855\n",
      "         Federal-gov         0.029322\n",
      "         Without-pay         0.000434\n",
      "         Never-worked        0.000217\n",
      "Asia     Private             0.723751\n",
      "         Self-emp-not-inc    0.059123\n",
      "         State-gov           0.056065\n",
      "         NaN                 0.051988\n",
      "         Self-emp-inc        0.037717\n",
      "         Local-gov           0.035678\n",
      "         Federal-gov         0.034659\n",
      "         Without-pay         0.001019\n",
      "Europa   Private             0.701282\n",
      "         Self-emp-not-inc    0.100000\n",
      "         NaN                 0.053846\n",
      "         Local-gov           0.047436\n",
      "         Self-emp-inc        0.046154\n",
      "         State-gov           0.028205\n",
      "         Federal-gov         0.023077\n",
      "Name: workclass, dtype: float64\n",
      "\n",
      "\n",
      "education :\n",
      "region   education   \n",
      "America  HS-grad         0.328266\n",
      "         Some-college    0.226030\n",
      "         Bachelors       0.159665\n",
      "         Masters         0.052116\n",
      "         Assoc-voc       0.042703\n",
      "         11th            0.038127\n",
      "         Assoc-acdm      0.032792\n",
      "         10th            0.029105\n",
      "         7th-8th         0.019215\n",
      "         Prof-school     0.016092\n",
      "         9th             0.015745\n",
      "         12th            0.013338\n",
      "         Doctorate       0.010779\n",
      "         5th-6th         0.009803\n",
      "         1st-4th         0.004641\n",
      "         Preschool       0.001583\n",
      "Asia     Bachelors       0.279307\n",
      "         HS-grad         0.185525\n",
      "         Some-college    0.161060\n",
      "         Masters         0.117227\n",
      "         Prof-school     0.051988\n",
      "         Doctorate       0.045872\n",
      "         Assoc-acdm      0.033639\n",
      "         Assoc-voc       0.026504\n",
      "         11th            0.022426\n",
      "         5th-6th         0.020387\n",
      "         7th-8th         0.012232\n",
      "         1st-4th         0.011213\n",
      "         10th            0.010194\n",
      "         9th             0.009174\n",
      "         Preschool       0.008155\n",
      "         12th            0.005097\n",
      "Europa   HS-grad         0.296154\n",
      "         Bachelors       0.191026\n",
      "         Some-college    0.152564\n",
      "         Masters         0.066667\n",
      "         Assoc-voc       0.051282\n",
      "         Assoc-acdm      0.042308\n",
      "         7th-8th         0.041026\n",
      "         10th            0.025641\n",
      "         5th-6th         0.023077\n",
      "         Doctorate       0.023077\n",
      "         11th            0.021795\n",
      "         1st-4th         0.019231\n",
      "         12th            0.016667\n",
      "         Prof-school     0.016667\n",
      "         9th             0.012821\n",
      "Name: education, dtype: float64\n",
      "\n",
      "\n",
      "marital-status :\n",
      "region   marital-status       \n",
      "America  Married-civ-spouse       0.455074\n",
      "         Never-married            0.331302\n",
      "         Divorced                 0.138650\n",
      "         Separated                0.031773\n",
      "         Widowed                  0.031165\n",
      "         Married-spouse-absent    0.011256\n",
      "         Married-AF-spouse        0.000781\n",
      "Asia     Married-civ-spouse       0.539246\n",
      "         Never-married            0.303772\n",
      "         Divorced                 0.064220\n",
      "         Married-spouse-absent    0.050968\n",
      "         Separated                0.020387\n",
      "         Widowed                  0.020387\n",
      "         Married-AF-spouse        0.001019\n",
      "Europa   Married-civ-spouse       0.519231\n",
      "         Never-married            0.260256\n",
      "         Divorced                 0.120513\n",
      "         Widowed                  0.046154\n",
      "         Married-spouse-absent    0.028205\n",
      "         Separated                0.025641\n",
      "Name: marital-status, dtype: float64\n",
      "\n",
      "\n",
      "occupation :\n",
      "region   occupation       \n",
      "America  Craft-repair         0.125854\n",
      "         Exec-managerial      0.124141\n",
      "         Prof-specialty       0.122644\n",
      "         Adm-clerical         0.115704\n",
      "         Sales                0.113492\n",
      "         Other-service        0.099655\n",
      "         Machine-op-inspct    0.061571\n",
      "         NaN                  0.057603\n",
      "         Transport-moving     0.049535\n",
      "         Handlers-cleaners    0.043094\n",
      "         Farming-fishing      0.031556\n",
      "         Tech-support         0.029539\n",
      "         Protective-serv      0.020582\n",
      "         Priv-house-serv      0.004728\n",
      "         Armed-Forces         0.000304\n",
      "Asia     Prof-specialty       0.224261\n",
      "         Other-service        0.128440\n",
      "         Adm-clerical         0.127421\n",
      "         Exec-managerial      0.116208\n",
      "         Sales                0.091743\n",
      "         Craft-repair         0.086646\n",
      "         Machine-op-inspct    0.069317\n",
      "         NaN                  0.051988\n",
      "         Tech-support         0.036697\n",
      "         Handlers-cleaners    0.025484\n",
      "         Transport-moving     0.014271\n",
      "         Farming-fishing      0.012232\n",
      "         Protective-serv      0.012232\n",
      "         Priv-house-serv      0.003058\n",
      "Europa   Exec-managerial      0.162821\n",
      "         Craft-repair         0.155128\n",
      "         Prof-specialty       0.152564\n",
      "         Adm-clerical         0.096154\n",
      "         Other-service        0.092308\n",
      "         Machine-op-inspct    0.075641\n",
      "         Sales                0.071795\n",
      "         NaN                  0.053846\n",
      "         Handlers-cleaners    0.039744\n",
      "         Tech-support         0.028205\n",
      "         Transport-moving     0.021795\n",
      "         Protective-serv      0.019231\n",
      "         Farming-fishing      0.016667\n",
      "         Priv-house-serv      0.014103\n",
      "Name: occupation, dtype: float64\n",
      "\n",
      "\n",
      "relationship :\n",
      "region   relationship  \n",
      "America  Husband           0.402394\n",
      "         Not-in-family     0.258496\n",
      "         Own-child         0.157670\n",
      "         Unmarried         0.105641\n",
      "         Wife              0.046650\n",
      "         Other-relative    0.029148\n",
      "Asia     Husband           0.432212\n",
      "         Not-in-family     0.209990\n",
      "         Own-child         0.121305\n",
      "         Unmarried         0.085627\n",
      "         Other-relative    0.077472\n",
      "         Wife              0.073394\n",
      "Europa   Husband           0.450000\n",
      "         Not-in-family     0.269231\n",
      "         Own-child         0.103846\n",
      "         Unmarried         0.092308\n",
      "         Wife              0.058974\n",
      "         Other-relative    0.025641\n",
      "Name: relationship, dtype: float64\n",
      "\n",
      "\n",
      "race :\n",
      "region   race              \n",
      "America  White                 0.874580\n",
      "         Black                 0.097964\n",
      "         Amer-Indian-Eskimo    0.010085\n",
      "         Asian-Pac-Islander    0.009608\n",
      "         Other                 0.007764\n",
      "Asia     Asian-Pac-Islander    0.841998\n",
      "         White                 0.125382\n",
      "         Other                 0.019368\n",
      "         Black                 0.011213\n",
      "         Amer-Indian-Eskimo    0.002039\n",
      "Europa   White                 0.947436\n",
      "         Black                 0.030769\n",
      "         Asian-Pac-Islander    0.015385\n",
      "         Other                 0.005128\n",
      "         Amer-Indian-Eskimo    0.001282\n",
      "Name: race, dtype: float64\n",
      "\n",
      "\n",
      "gender :\n",
      "region   gender\n",
      "America  Male      0.667072\n",
      "         Female    0.332928\n",
      "Asia     Male      0.696228\n",
      "         Female    0.303772\n",
      "Europa   Male      0.678205\n",
      "         Female    0.321795\n",
      "Name: gender, dtype: float64\n",
      "\n",
      "\n",
      "native-country :\n",
      "region   native-country            \n",
      "America  United-States                 0.950617\n",
      "         Mexico                        0.020625\n",
      "         Puerto-Rico                   0.003991\n",
      "         Canada                        0.003947\n",
      "         El-Salvador                   0.003362\n",
      "         Cuba                          0.002993\n",
      "         Jamaica                       0.002299\n",
      "         Dominican-Republic            0.002234\n",
      "         Guatemala                     0.001909\n",
      "         Columbia                      0.001843\n",
      "         Haiti                         0.001627\n",
      "         Nicaragua                     0.001063\n",
      "         Peru                          0.000998\n",
      "         Ecuador                       0.000976\n",
      "         Trinadad&Tobago               0.000586\n",
      "         Outlying-US(Guam-USVI-etc)    0.000499\n",
      "         Honduras                      0.000434\n",
      "Asia     Philippines                   0.300714\n",
      "         India                         0.153925\n",
      "         China                         0.124363\n",
      "         Japan                         0.093782\n",
      "         Vietnam                       0.087666\n",
      "         Taiwan                        0.066259\n",
      "         Iran                          0.060143\n",
      "         Hong                          0.030581\n",
      "         Thailand                      0.030581\n",
      "         Cambodia                      0.028542\n",
      "         Laos                          0.023445\n",
      "Europa   Germany                       0.264103\n",
      "         England                       0.162821\n",
      "         Italy                         0.134615\n",
      "         Poland                        0.111538\n",
      "         Portugal                      0.085897\n",
      "         Greece                        0.062821\n",
      "         France                        0.048718\n",
      "         Ireland                       0.047436\n",
      "         Yugoslavia                    0.029487\n",
      "         Scotland                      0.026923\n",
      "         Hungary                       0.024359\n",
      "         Holand-Netherlands            0.001282\n",
      "Name: native-country, dtype: float64\n",
      "\n",
      "\n",
      "collars :\n",
      "region   collars     \n",
      "America  white-collar    0.505520\n",
      "         blue-collar     0.336919\n",
      "         others          0.099959\n",
      "         NaN             0.057603\n",
      "Asia     white-collar    0.596330\n",
      "         blue-collar     0.223242\n",
      "         others          0.128440\n",
      "         NaN             0.051988\n",
      "Europa   white-collar    0.511538\n",
      "         blue-collar     0.342308\n",
      "         others          0.092308\n",
      "         NaN             0.053846\n",
      "Name: collars, dtype: float64\n",
      "\n",
      "\n",
      "workclass_recod :\n",
      "region   workclass_recod\n",
      "America  Private            0.693834\n",
      "         self-employed      0.112624\n",
      "         state-level-gov    0.106183\n",
      "         NaN                0.057386\n",
      "         federal-gov        0.029322\n",
      "         unemployed         0.000651\n",
      "Asia     Private            0.723751\n",
      "         self-employed      0.096840\n",
      "         state-level-gov    0.091743\n",
      "         NaN                0.051988\n",
      "         federal-gov        0.034659\n",
      "         unemployed         0.001019\n",
      "Europa   Private            0.701282\n",
      "         self-employed      0.146154\n",
      "         state-level-gov    0.075641\n",
      "         NaN                0.053846\n",
      "         federal-gov        0.023077\n",
      "Name: workclass_recod, dtype: float64\n",
      "\n",
      "\n",
      "educ_recod :\n",
      "region   educ_recod       \n",
      "America  high-school          0.443796\n",
      "         college              0.301525\n",
      "         university           0.238652\n",
      "         elementary-school    0.014444\n",
      "         preschool            0.001583\n",
      "Asia     university           0.494393\n",
      "         high-school          0.244648\n",
      "         college              0.221203\n",
      "         elementary-school    0.031600\n",
      "         preschool            0.008155\n",
      "Europa   high-school          0.414103\n",
      "         university           0.297436\n",
      "         college              0.246154\n",
      "         elementary-school    0.042308\n",
      "Name: educ_recod, dtype: float64\n",
      "\n",
      "\n",
      "civstatus :\n",
      "region   civstatus    \n",
      "America  married          0.467111\n",
      "         never-married    0.331302\n",
      "         divorced         0.138650\n",
      "         separated        0.031773\n",
      "         widowed          0.031165\n",
      "Asia     married          0.591233\n",
      "         never-married    0.303772\n",
      "         divorced         0.064220\n",
      "         separated        0.020387\n",
      "         widowed          0.020387\n",
      "Europa   married          0.547436\n",
      "         never-married    0.260256\n",
      "         divorced         0.120513\n",
      "         widowed          0.046154\n",
      "         separated        0.025641\n",
      "Name: civstatus, dtype: float64\n",
      "\n",
      "\n",
      "pais :\n"
     ]
    },
    {
     "name": "stdout",
     "output_type": "stream",
     "text": [
      "region   pais                      \n",
      "America  United-States                 0.950617\n",
      "         Mexico                        0.020625\n",
      "         Puerto-Rico                   0.003991\n",
      "         Canada                        0.003947\n",
      "         El-Salvador                   0.003362\n",
      "         Cuba                          0.002993\n",
      "         Jamaica                       0.002299\n",
      "         Dominican-Republic            0.002234\n",
      "         Guatemala                     0.001909\n",
      "         Columbia                      0.001843\n",
      "         Haiti                         0.001627\n",
      "         Nicaragua                     0.001063\n",
      "         Peru                          0.000998\n",
      "         Ecuador                       0.000976\n",
      "         Trinadad&Tobago               0.000586\n",
      "         Outlying-US(Guam-USVI-etc)    0.000499\n",
      "         Honduras                      0.000434\n",
      "Asia     Philippines                   0.300714\n",
      "         India                         0.153925\n",
      "         China                         0.124363\n",
      "         Japan                         0.093782\n",
      "         Vietnam                       0.087666\n",
      "         Taiwan                        0.066259\n",
      "         Iran                          0.060143\n",
      "         Hong                          0.030581\n",
      "         Thailand                      0.030581\n",
      "         Cambodia                      0.028542\n",
      "         Laos                          0.023445\n",
      "Europa   Germany                       0.264103\n",
      "         England                       0.162821\n",
      "         Italy                         0.134615\n",
      "         Poland                        0.111538\n",
      "         Portugal                      0.085897\n",
      "         Greece                        0.062821\n",
      "         France                        0.048718\n",
      "         Ireland                       0.047436\n",
      "         Yugoslavia                    0.029487\n",
      "         Scotland                      0.026923\n",
      "         Hungary                       0.024359\n",
      "         Holand-Netherlands            0.001282\n",
      "Name: pais, dtype: float64\n",
      "\n",
      "\n"
     ]
    }
   ],
   "source": [
    "fxpy.valores_ds1_grouped(df)"
   ]
  },
  {
   "cell_type": "markdown",
   "metadata": {},
   "source": [
    "En promedio, los \"missing-values\" son un 5% en cada región, lo que nos asegura que si los eliminamos no estamos dejando a una región subrepresentada (más de lo que ya está la muestra original), decidimos eliminar todos los datos nulos.\n",
    "REcodificamos a variables binarias."
   ]
  },
  {
   "cell_type": "code",
   "execution_count": 15,
   "metadata": {},
   "outputs": [],
   "source": [
    "df['female'] = np.where(df['gender'] == 'Female', 1, 0)\n",
    "df_drop = df.dropna()\n",
    "df_drop.columns = df_drop.columns.map(lambda x: str(x).lower().replace('-', '_'))\n",
    "df_drop.head()\n",
    "df_dummies = pd.get_dummies(df_drop, columns=['region','collars','educ_recod','civstatus'])\n",
    "df_dummies.columns = df_dummies.columns.map(lambda x: str(x).lower().replace('-', '_'))\n",
    "df_dummies = df_dummies.dropna()\n"
   ]
  },
  {
   "cell_type": "markdown",
   "metadata": {},
   "source": [
    "### Modelación descriptiva  \n",
    "Decidimos utilizar una regresión logística para predecir la variable binaria 'income'"
   ]
  },
  {
   "cell_type": "code",
   "execution_count": 16,
   "metadata": {},
   "outputs": [
    {
     "name": "stdout",
     "output_type": "stream",
     "text": [
      "Optimization terminated successfully.\n",
      "         Current function value: 0.337908\n",
      "         Iterations 12\n"
     ]
    },
    {
     "data": {
      "text/html": [
       "<table class=\"simpletable\">\n",
       "<caption>Logit Regression Results</caption>\n",
       "<tr>\n",
       "  <th>Dep. Variable:</th>      <td>income</td>      <th>  No. Observations:  </th>  <td> 45121</td> \n",
       "</tr>\n",
       "<tr>\n",
       "  <th>Model:</th>               <td>Logit</td>      <th>  Df Residuals:      </th>  <td> 45101</td> \n",
       "</tr>\n",
       "<tr>\n",
       "  <th>Method:</th>               <td>MLE</td>       <th>  Df Model:          </th>  <td>    19</td> \n",
       "</tr>\n",
       "<tr>\n",
       "  <th>Date:</th>          <td>Sat, 11 Aug 2018</td> <th>  Pseudo R-squ.:     </th>  <td>0.3967</td> \n",
       "</tr>\n",
       "<tr>\n",
       "  <th>Time:</th>              <td>01:10:20</td>     <th>  Log-Likelihood:    </th> <td> -15247.</td>\n",
       "</tr>\n",
       "<tr>\n",
       "  <th>converged:</th>           <td>True</td>       <th>  LL-Null:           </th> <td> -25273.</td>\n",
       "</tr>\n",
       "<tr>\n",
       "  <th> </th>                      <td> </td>        <th>  LLR p-value:       </th>  <td> 0.000</td> \n",
       "</tr>\n",
       "</table>\n",
       "<table class=\"simpletable\">\n",
       "<tr>\n",
       "                <td></td>                  <th>coef</th>     <th>std err</th>      <th>z</th>      <th>P>|z|</th>  <th>[0.025</th>    <th>0.975]</th>  \n",
       "</tr>\n",
       "<tr>\n",
       "  <th>Intercept</th>                    <td>   -7.8339</td> <td>    0.289</td> <td>  -27.143</td> <td> 0.000</td> <td>   -8.400</td> <td>   -7.268</td>\n",
       "</tr>\n",
       "<tr>\n",
       "  <th>age</th>                          <td>    0.0244</td> <td>    0.001</td> <td>   18.768</td> <td> 0.000</td> <td>    0.022</td> <td>    0.027</td>\n",
       "</tr>\n",
       "<tr>\n",
       "  <th>fnlwgt</th>                       <td> 7.016e-07</td> <td> 1.37e-07</td> <td>    5.107</td> <td> 0.000</td> <td> 4.32e-07</td> <td> 9.71e-07</td>\n",
       "</tr>\n",
       "<tr>\n",
       "  <th>educational_num</th>              <td>    0.2829</td> <td>    0.016</td> <td>   17.735</td> <td> 0.000</td> <td>    0.252</td> <td>    0.314</td>\n",
       "</tr>\n",
       "<tr>\n",
       "  <th>capital_gain</th>                 <td>    0.0003</td> <td> 8.61e-06</td> <td>   37.544</td> <td> 0.000</td> <td>    0.000</td> <td>    0.000</td>\n",
       "</tr>\n",
       "<tr>\n",
       "  <th>capital_loss</th>                 <td>    0.0007</td> <td> 3.07e-05</td> <td>   21.697</td> <td> 0.000</td> <td>    0.001</td> <td>    0.001</td>\n",
       "</tr>\n",
       "<tr>\n",
       "  <th>hours_per_week</th>               <td>    0.0282</td> <td>    0.001</td> <td>   21.951</td> <td> 0.000</td> <td>    0.026</td> <td>    0.031</td>\n",
       "</tr>\n",
       "<tr>\n",
       "  <th>female</th>                       <td>   -0.2950</td> <td>    0.042</td> <td>   -7.089</td> <td> 0.000</td> <td>   -0.377</td> <td>   -0.213</td>\n",
       "</tr>\n",
       "<tr>\n",
       "  <th>region_america</th>               <td>    0.2612</td> <td>    0.098</td> <td>    2.675</td> <td> 0.007</td> <td>    0.070</td> <td>    0.453</td>\n",
       "</tr>\n",
       "<tr>\n",
       "  <th>region_europa</th>                <td>    0.4393</td> <td>    0.142</td> <td>    3.095</td> <td> 0.002</td> <td>    0.161</td> <td>    0.717</td>\n",
       "</tr>\n",
       "<tr>\n",
       "  <th>collars_blue_collar</th>          <td>   -0.6407</td> <td>    0.035</td> <td>  -18.236</td> <td> 0.000</td> <td>   -0.710</td> <td>   -0.572</td>\n",
       "</tr>\n",
       "<tr>\n",
       "  <th>collars_others</th>               <td>   -1.3546</td> <td>    0.085</td> <td>  -15.954</td> <td> 0.000</td> <td>   -1.521</td> <td>   -1.188</td>\n",
       "</tr>\n",
       "<tr>\n",
       "  <th>educ_recod_college</th>           <td>   -0.0794</td> <td>    0.060</td> <td>   -1.316</td> <td> 0.188</td> <td>   -0.198</td> <td>    0.039</td>\n",
       "</tr>\n",
       "<tr>\n",
       "  <th>educ_recod_elementary_school</th> <td>    0.0534</td> <td>    0.265</td> <td>    0.202</td> <td> 0.840</td> <td>   -0.465</td> <td>    0.572</td>\n",
       "</tr>\n",
       "<tr>\n",
       "  <th>educ_recod_high_school</th>       <td>   -0.1347</td> <td>    0.086</td> <td>   -1.574</td> <td> 0.116</td> <td>   -0.303</td> <td>    0.033</td>\n",
       "</tr>\n",
       "<tr>\n",
       "  <th>educ_recod_preschool</th>         <td>   -4.8023</td> <td>    5.995</td> <td>   -0.801</td> <td> 0.423</td> <td>  -16.553</td> <td>    6.948</td>\n",
       "</tr>\n",
       "<tr>\n",
       "  <th>civstatus_divorced</th>           <td>   -0.0030</td> <td>    0.126</td> <td>   -0.024</td> <td> 0.981</td> <td>   -0.250</td> <td>    0.244</td>\n",
       "</tr>\n",
       "<tr>\n",
       "  <th>civstatus_married</th>            <td>    2.1509</td> <td>    0.121</td> <td>   17.839</td> <td> 0.000</td> <td>    1.915</td> <td>    2.387</td>\n",
       "</tr>\n",
       "<tr>\n",
       "  <th>civstatus_never_married</th>      <td>   -0.5082</td> <td>    0.128</td> <td>   -3.961</td> <td> 0.000</td> <td>   -0.760</td> <td>   -0.257</td>\n",
       "</tr>\n",
       "<tr>\n",
       "  <th>civstatus_separated</th>          <td>   -0.0714</td> <td>    0.168</td> <td>   -0.424</td> <td> 0.671</td> <td>   -0.401</td> <td>    0.258</td>\n",
       "</tr>\n",
       "</table>"
      ],
      "text/plain": [
       "<class 'statsmodels.iolib.summary.Summary'>\n",
       "\"\"\"\n",
       "                           Logit Regression Results                           \n",
       "==============================================================================\n",
       "Dep. Variable:                 income   No. Observations:                45121\n",
       "Model:                          Logit   Df Residuals:                    45101\n",
       "Method:                           MLE   Df Model:                           19\n",
       "Date:                Sat, 11 Aug 2018   Pseudo R-squ.:                  0.3967\n",
       "Time:                        01:10:20   Log-Likelihood:                -15247.\n",
       "converged:                       True   LL-Null:                       -25273.\n",
       "                                        LLR p-value:                     0.000\n",
       "================================================================================================\n",
       "                                   coef    std err          z      P>|z|      [0.025      0.975]\n",
       "------------------------------------------------------------------------------------------------\n",
       "Intercept                       -7.8339      0.289    -27.143      0.000      -8.400      -7.268\n",
       "age                              0.0244      0.001     18.768      0.000       0.022       0.027\n",
       "fnlwgt                        7.016e-07   1.37e-07      5.107      0.000    4.32e-07    9.71e-07\n",
       "educational_num                  0.2829      0.016     17.735      0.000       0.252       0.314\n",
       "capital_gain                     0.0003   8.61e-06     37.544      0.000       0.000       0.000\n",
       "capital_loss                     0.0007   3.07e-05     21.697      0.000       0.001       0.001\n",
       "hours_per_week                   0.0282      0.001     21.951      0.000       0.026       0.031\n",
       "female                          -0.2950      0.042     -7.089      0.000      -0.377      -0.213\n",
       "region_america                   0.2612      0.098      2.675      0.007       0.070       0.453\n",
       "region_europa                    0.4393      0.142      3.095      0.002       0.161       0.717\n",
       "collars_blue_collar             -0.6407      0.035    -18.236      0.000      -0.710      -0.572\n",
       "collars_others                  -1.3546      0.085    -15.954      0.000      -1.521      -1.188\n",
       "educ_recod_college              -0.0794      0.060     -1.316      0.188      -0.198       0.039\n",
       "educ_recod_elementary_school     0.0534      0.265      0.202      0.840      -0.465       0.572\n",
       "educ_recod_high_school          -0.1347      0.086     -1.574      0.116      -0.303       0.033\n",
       "educ_recod_preschool            -4.8023      5.995     -0.801      0.423     -16.553       6.948\n",
       "civstatus_divorced              -0.0030      0.126     -0.024      0.981      -0.250       0.244\n",
       "civstatus_married                2.1509      0.121     17.839      0.000       1.915       2.387\n",
       "civstatus_never_married         -0.5082      0.128     -3.961      0.000      -0.760      -0.257\n",
       "civstatus_separated             -0.0714      0.168     -0.424      0.671      -0.401       0.258\n",
       "================================================================================================\n",
       "\"\"\""
      ]
     },
     "execution_count": 16,
     "metadata": {},
     "output_type": "execute_result"
    }
   ],
   "source": [
    "model1 = smf.logit('income ~ age + fnlwgt + educational_num + capital_gain + capital_loss + hours_per_week + female + region_america + region_europa + collars_blue_collar + collars_others + educ_recod_college + educ_recod_elementary_school + educ_recod_high_school + educ_recod_preschool + civstatus_divorced + civstatus_married + civstatus_never_married + civstatus_separated', data = df_dummies).fit()\n",
    "model1.summary()"
   ]
  },
  {
   "cell_type": "markdown",
   "metadata": {},
   "source": [
    "En primera instancia notamos que hay variables no significativas, como educ_recod, civstatus_divorced y civstatus separated. Es interesante que las variables educativas no son significativas, probablemente porque ya se encuentra la variable educational number.  \n",
    "El hecho de que la región sea de Europa, influye casi en el doble que si la región es americana. Por otro lado, el hecho de haberse casado también influye positivamente, en cambio los no casados al parecer tienen menor probabilidad de tener ingresos sobre 50k"
   ]
  },
  {
   "cell_type": "markdown",
   "metadata": {},
   "source": [
    "### Modelación descriptiva"
   ]
  },
  {
   "cell_type": "markdown",
   "metadata": {},
   "source": [
    "Utilizaremos un modelo saturado para la primera iteración"
   ]
  },
  {
   "cell_type": "code",
   "execution_count": 28,
   "metadata": {},
   "outputs": [
    {
     "name": "stdout",
     "output_type": "stream",
     "text": [
      "Matriz de confusión: \n",
      " [[10406   821]\n",
      " [ 1466  2197]]\n",
      "\n",
      " Classification Report: \n",
      "\n",
      "             precision    recall  f1-score   support\n",
      "\n",
      "          0       0.88      0.93      0.90     11227\n",
      "          1       0.73      0.60      0.66      3663\n",
      "\n",
      "avg / total       0.84      0.85      0.84     14890\n",
      "\n"
     ]
    }
   ],
   "source": [
    "\n",
    "X_train, X_test, y_train, y_test = train_test_split(df_dummies[['age','educational_num','capital_gain','capital_loss','hours_per_week','female','region_asia', 'region_europa', 'collars_blue_collar', 'collars_others',\n",
    "       'educ_recod_college',\n",
    "       'educ_recod_elementary_school', 'educ_recod_high_school',\n",
    "       'educ_recod_preschool', 'civstatus_divorced',\n",
    "       'civstatus_married', 'civstatus_never_married', 'civstatus_separated']],\n",
    "                                                   df_dummies['income'],\n",
    "                                                   test_size=.33,\n",
    "                                                   random_state=3249436)\n",
    "\n",
    "\n",
    "# estandarizamos la matriz de entrenamiento\n",
    "X_train_std = StandardScaler().fit_transform(X_train)\n",
    "# estandarizamos la matriz de validación\n",
    "X_test_std = StandardScaler().fit_transform(X_test)\n",
    "\n",
    "# iniciamos el modelo con la clase LogisticRegression y pasamos los datos en fit.\n",
    "default_model = LogisticRegression().fit(X_train_std, y_train)\n",
    "\n",
    "yhat = default_model.predict(X_test_std)\n",
    "m1_confusion = confusion_matrix(y_test, yhat)\n",
    "print('Matriz de confusión: \\n',m1_confusion)\n",
    "print('\\n Classification Report: \\n')\n",
    "print(classification_report(y_test, yhat))"
   ]
  },
  {
   "cell_type": "markdown",
   "metadata": {},
   "source": [
    "Los verdaderos positivos y negativos son mucho mayores que los falsos positivos y negativos. Por otro lado, nuestro puntaje f1 es de un 0.84 %. Revisemos la curva ROC:"
   ]
  },
  {
   "cell_type": "code",
   "execution_count": 29,
   "metadata": {},
   "outputs": [
    {
     "name": "stdout",
     "output_type": "stream",
     "text": [
      "El área bajo la curva es: 0.9\n"
     ]
    },
    {
     "data": {
      "image/png": "[encoded data removed]",
      "text/plain": [
       "<Figure size 432x288 with 1 Axes>"
      ]
     },
     "metadata": {},
     "output_type": "display_data"
    }
   ],
   "source": [
    "# reestimamos los valores predichos de nuestro modelo para obtener la probabilidad entre 0 y 1.\n",
    "yhat = default_model.predict_proba(X_test_std)[:, 1]\n",
    "# generamos los objetos de roc_cruve\n",
    "false_positive, true_positive, threshold = roc_curve(y_test, yhat)\n",
    "# Plot ROC curve\n",
    "plt.title('Curva ROC')\n",
    "plt.plot(false_positive, true_positive, lw=1)\n",
    "plt.plot([0, 1], ls=\"--\", lw=1)\n",
    "plt.plot([0, 0], [1, 0] , c='limegreen', lw=3), plt.plot([1, 1] , c='limegreen', lw=3)\n",
    "plt.ylabel('Verdaderos Positivos')\n",
    "plt.xlabel('Falsos Positivos');\n",
    "from sklearn.metrics import roc_auc_score\n",
    "print('El área bajo la curva es:',round(roc_auc_score(y_test, yhat),2))"
   ]
  },
  {
   "cell_type": "markdown",
   "metadata": {},
   "source": [
    "0.9 habla muy bien de nuestro modelo predictivo (0.4 más efectivo que el caso aleatorio)  \n",
    "Depuraremos nuestro modelo ahora para intentar mejorarlo. Utilizaremos solo las variables significativas"
   ]
  },
  {
   "cell_type": "code",
   "execution_count": 33,
   "metadata": {},
   "outputs": [
    {
     "name": "stdout",
     "output_type": "stream",
     "text": [
      "Matriz de confusión: \n",
      " [[10408   819]\n",
      " [ 1466  2197]]\n",
      "\n",
      " Classification Report: \n",
      "\n",
      "             precision    recall  f1-score   support\n",
      "\n",
      "          0       0.88      0.93      0.90     11227\n",
      "          1       0.73      0.60      0.66      3663\n",
      "\n",
      "avg / total       0.84      0.85      0.84     14890\n",
      "\n"
     ]
    }
   ],
   "source": [
    "X_train, X_test, y_train, y_test = train_test_split(df_dummies[['age','educational_num','capital_gain','capital_loss','hours_per_week','female','region_asia', 'region_europa', 'collars_blue_collar', 'collars_others',\n",
    "    \n",
    "       'civstatus_married', 'civstatus_never_married']],\n",
    "                                                   df_dummies['income'],\n",
    "                                                   test_size=.33,\n",
    "                                                   random_state=3249436)\n",
    "\n",
    "\n",
    "# estandarizamos la matriz de entrenamiento\n",
    "X_train_std = StandardScaler().fit_transform(X_train)\n",
    "# estandarizamos la matriz de validación\n",
    "X_test_std = StandardScaler().fit_transform(X_test)\n",
    "\n",
    "# iniciamos el modelo con la clase LogisticRegression y pasamos los datos en fit.\n",
    "default_model = LogisticRegression().fit(X_train_std, y_train)\n",
    "\n",
    "yhat = default_model.predict(X_test_std)\n",
    "m1_confusion = confusion_matrix(y_test, yhat)\n",
    "print('Matriz de confusión: \\n',m1_confusion)\n",
    "print('\\n Classification Report: \\n')\n",
    "print(classification_report(y_test, yhat))"
   ]
  },
  {
   "cell_type": "markdown",
   "metadata": {},
   "source": [
    "EL modelo es muy similar, pero mejoramos su predicción en 2 casos positivos"
   ]
  },
  {
   "cell_type": "code",
   "execution_count": 34,
   "metadata": {},
   "outputs": [
    {
     "name": "stdout",
     "output_type": "stream",
     "text": [
      "El área bajo la curva es: 0.9\n"
     ]
    },
    {
     "data": {
      "image/png": "[encoded data removed]",
      "text/plain": [
       "<Figure size 432x288 with 1 Axes>"
      ]
     },
     "metadata": {},
     "output_type": "display_data"
    }
   ],
   "source": [
    "# reestimamos los valores predichos de nuestro modelo para obtener la probabilidad entre 0 y 1.\n",
    "yhat = default_model.predict_proba(X_test_std)[:, 1]\n",
    "\n",
    "# generamos los objetos de roc_cruve\n",
    "false_positive, true_positive, threshold = roc_curve(y_test, yhat)\n",
    "# Plot ROC curve\n",
    "plt.title('Curva ROC')\n",
    "plt.plot(false_positive, true_positive, lw=1)\n",
    "plt.plot([0, 1], ls=\"--\", lw=1)\n",
    "plt.plot([0, 0], [1, 0] , c='limegreen', lw=3), plt.plot([1, 1] , c='limegreen', lw=3)\n",
    "plt.ylabel('Verdaderos Positivos')\n",
    "plt.xlabel('Falsos Positivos');\n",
    "from sklearn.metrics import roc_auc_score\n",
    "print('El área bajo la curva es:',round(roc_auc_score(y_test, yhat),2))"
   ]
  },
  {
   "cell_type": "markdown",
   "metadata": {},
   "source": [
    "La curva ROC es similar también"
   ]
  },
  {
   "cell_type": "markdown",
   "metadata": {},
   "source": [
    "Para el 3er modelo compararemos un modelo polinomial de segundo grado, utilizando las mismas variables del modelo anterior (estadísticamente significativas)\n"
   ]
  },
  {
   "cell_type": "code",
   "execution_count": null,
   "metadata": {},
   "outputs": [
    {
     "name": "stdout",
     "output_type": "stream",
     "text": [
      "Orden: 1, cantidad de atributos estimables: 12. AUC estimada: 0.899\n",
      "Matriz de confusión: \n",
      " [[10405   822]\n",
      " [ 1463  2200]]\n",
      "\n",
      " Classification Report: \n",
      "\n",
      "             precision    recall  f1-score   support\n",
      "\n",
      "          0       0.88      0.93      0.90     11227\n",
      "          1       0.73      0.60      0.66      3663\n",
      "\n",
      "avg / total       0.84      0.85      0.84     14890\n",
      "\n",
      "Orden: 2, cantidad de atributos estimables: 90. AUC estimada: 0.906\n",
      "Matriz de confusión: \n",
      " [[10385   842]\n",
      " [ 1367  2296]]\n",
      "\n",
      " Classification Report: \n",
      "\n",
      "             precision    recall  f1-score   support\n",
      "\n",
      "          0       0.88      0.93      0.90     11227\n",
      "          1       0.73      0.63      0.68      3663\n",
      "\n",
      "avg / total       0.85      0.85      0.85     14890\n",
      "\n"
     ]
    }
   ],
   "source": [
    "std_matrix = StandardScaler().fit_transform(df_dummies[['age','educational_num','capital_gain','capital_loss','hours_per_week','female','region_asia', 'region_europa', 'collars_blue_collar', 'collars_others',\n",
    "    \n",
    "       'civstatus_married', 'civstatus_never_married']])\n",
    "polynomial_order = [1,2,3]\n",
    "# por cada elemento del array\n",
    "for i in polynomial_order:\n",
    "    #generamos muestras segmentadas\n",
    "    X_train_tmp, X_test_tmp, y_train_tmp, y_test_tmp = train_test_split(std_matrix,\n",
    "                                                   df_dummies['income'],\n",
    "                                                   test_size=.33,\n",
    "                                                   random_state=3249436)\n",
    "    # Transformamos la muestra de entrenamiento por i polinomio\n",
    "    X_train_tmp = PolynomialFeatures(degree=i,\n",
    "                                     interaction_only=False,\n",
    "                                     include_bias=False).fit_transform(X_train_tmp)\n",
    "    # Transformamos la muestra de evaluación por i polinomio\n",
    "    X_test_tmp = PolynomialFeatures(degree=i,\n",
    "                                    interaction_only=False,\n",
    "                                    include_bias=False).fit_transform(X_test_tmp)\n",
    "    # Generamos el modelo predictivo\n",
    "    tmp_model = LogisticRegression().fit(X_train_tmp, y_train_tmp)\n",
    "    # Guardamos las predicciones de probabilidad\n",
    "    tmp_pred = tmp_model.predict_proba(X_test_tmp)[:,1]\n",
    "    \n",
    "    #Generamos la matriz de confusión y el reporte de clasificación\n",
    "    yhat = tmp_model.predict(X_test_tmp)\n",
    "    m1_confusion = confusion_matrix(y_test_tmp, yhat)\n",
    "   \n",
    " \n",
    "    # generamos los arrays con roc_curve\n",
    "    false_positive, true_positive, threshold = roc_curve(y_test_tmp,\n",
    "                                                         tmp_pred)\n",
    " \n",
    "\n",
    "    # redondeamos los valores del puntaje AUC\n",
    "    roc_auc_tmp = round(roc_auc_score(y_test_tmp, tmp_pred), 3)\n",
    "    # graficamos\n",
    "    plt.plot(false_positive,\n",
    "             true_positive,\n",
    "             label = 'Orden: {0} - AUC: {1}'.format(i, roc_auc_tmp))\n",
    "    plt.plot([0, 1], ls=\"--\")\n",
    "    plt.plot([0, 0], [1, 0] , c='limegreen', lw=3),\n",
    "    plt.plot([1, 1] , c='limegreen', lw=3)\n",
    "    plt.ylabel('True Positive Rate')\n",
    "    plt.xlabel('False Positive Rate')\n",
    "    plt.legend()\n",
    "    # solicitamos información de iteración\n",
    "    print(\"Orden: {0}, cantidad de atributos estimables: {1}. AUC estimada: {2}\".format(i, X_train_tmp.shape[1], roc_auc_tmp))    \n",
    "    print('Matriz de confusión: \\n',m1_confusion)\n",
    "    print('\\n Classification Report: \\n')\n",
    "    print(classification_report(y_test, yhat))"
   ]
  },
  {
   "cell_type": "markdown",
   "metadata": {},
   "source": [
    "El modelo polinomial mejora el f1 en 0.01 y el área roc en 0.007. Tenemos menos verdaderos positivos pero es mejor predictor en el caso de los casos negativos. De todas maneras, nuestras métricas son la curva ROC y el F1, por lo que el modelo mejor comportado es el N°3, sólo variables relevantes y polinomial de grado 2"
   ]
  },
  {
   "cell_type": "markdown",
   "metadata": {},
   "source": [
    "## Segundo Problema"
   ]
  },
  {
   "cell_type": "markdown",
   "metadata": {},
   "source": [
    "### Preliminares\n",
    "El objetivo es generar un modelo predictivo que identifique aquellos alumnos que presentan un bajo desempeño académico. En este caso desarrollaremos una descripción y un modelo descriptivo de la muestra, para luego realizar una regresión lineal basada en los atributos más relevantes encontrados en la parte descriptiva. Para elegir el mejor modelo de regresión ocuparemos el MSE\n",
    "### Aspectos computacionales\n",
    "\n",
    "# PENDIENTE"
   ]
  },
  {
   "cell_type": "markdown",
   "metadata": {},
   "source": [
    "## Descripción"
   ]
  },
  {
   "cell_type": "markdown",
   "metadata": {},
   "source": [
    "Leemos el archivo csv y pasamos las variables age, health y goout a numéricas"
   ]
  },
  {
   "cell_type": "code",
   "execution_count": 2,
   "metadata": {},
   "outputs": [],
   "source": [
    "df = pd.read_csv('students.csv', sep = '|',index_col=0).replace(['sem validade', 'nulidade', 'zero'], np.nan).dropna()\n",
    "for i in ['age','health','goout','Medu','Fedu','traveltime','studytime','failures','famrel','freetime','absences','Dalc','Walc','G1','G3']:\n",
    "\n",
    "    df[i] = df[i].str.replace('\\\"', '').astype(int)"
   ]
  },
  {
   "cell_type": "code",
   "execution_count": 21,
   "metadata": {},
   "outputs": [
    {
     "data": {
      "text/plain": [
       "Index(['school', 'sex', 'age', 'address', 'famsize', 'Pstatus', 'Medu', 'Fedu',\n",
       "       'Mjob', 'Fjob', 'reason', 'guardian', 'traveltime', 'studytime',\n",
       "       'failures', 'schoolsup', 'famsup', 'paid', 'activities', 'nursery',\n",
       "       'higher', 'internet', 'romantic', 'famrel', 'freetime', 'goout', 'Dalc',\n",
       "       'Walc', 'health', 'absences', 'G1', 'G2', 'G3'],\n",
       "      dtype='object')"
      ]
     },
     "execution_count": 21,
     "metadata": {},
     "output_type": "execute_result"
    }
   ],
   "source": [
    "df.columns"
   ]
  },
  {
   "cell_type": "code",
   "execution_count": 47,
   "metadata": {},
   "outputs": [
    {
     "data": {
      "text/html": [
       "<div>\n",
       "<style scoped>\n",
       "    .dataframe tbody tr th:only-of-type {\n",
       "        vertical-align: middle;\n",
       "    }\n",
       "\n",
       "    .dataframe tbody tr th {\n",
       "        vertical-align: top;\n",
       "    }\n",
       "\n",
       "    .dataframe thead th {\n",
       "        text-align: right;\n",
       "    }\n",
       "</style>\n",
       "<table border=\"1\" class=\"dataframe\">\n",
       "  <thead>\n",
       "    <tr style=\"text-align: right;\">\n",
       "      <th></th>\n",
       "      <th>age</th>\n",
       "      <th>Medu</th>\n",
       "      <th>Fedu</th>\n",
       "      <th>traveltime</th>\n",
       "      <th>studytime</th>\n",
       "      <th>failures</th>\n",
       "      <th>famrel</th>\n",
       "      <th>freetime</th>\n",
       "      <th>goout</th>\n",
       "      <th>Dalc</th>\n",
       "      <th>Walc</th>\n",
       "      <th>health</th>\n",
       "      <th>absences</th>\n",
       "      <th>G1</th>\n",
       "      <th>G2</th>\n",
       "      <th>G3</th>\n",
       "    </tr>\n",
       "  </thead>\n",
       "  <tbody>\n",
       "    <tr>\n",
       "      <th>count</th>\n",
       "      <td>284.000000</td>\n",
       "      <td>284.000000</td>\n",
       "      <td>284.000000</td>\n",
       "      <td>284.000000</td>\n",
       "      <td>284.000000</td>\n",
       "      <td>284.000000</td>\n",
       "      <td>284.000000</td>\n",
       "      <td>284.00000</td>\n",
       "      <td>284.000000</td>\n",
       "      <td>284.000000</td>\n",
       "      <td>284.000000</td>\n",
       "      <td>284.000000</td>\n",
       "      <td>284.000000</td>\n",
       "      <td>284.000000</td>\n",
       "      <td>284.000000</td>\n",
       "      <td>284.000000</td>\n",
       "    </tr>\n",
       "    <tr>\n",
       "      <th>mean</th>\n",
       "      <td>16.707746</td>\n",
       "      <td>2.774648</td>\n",
       "      <td>2.521127</td>\n",
       "      <td>1.475352</td>\n",
       "      <td>2.049296</td>\n",
       "      <td>0.334507</td>\n",
       "      <td>3.940141</td>\n",
       "      <td>3.18662</td>\n",
       "      <td>3.084507</td>\n",
       "      <td>1.482394</td>\n",
       "      <td>2.239437</td>\n",
       "      <td>3.626761</td>\n",
       "      <td>5.588028</td>\n",
       "      <td>10.933099</td>\n",
       "      <td>10.640845</td>\n",
       "      <td>10.394366</td>\n",
       "    </tr>\n",
       "    <tr>\n",
       "      <th>std</th>\n",
       "      <td>1.284238</td>\n",
       "      <td>1.095409</td>\n",
       "      <td>1.091038</td>\n",
       "      <td>0.695334</td>\n",
       "      <td>0.843411</td>\n",
       "      <td>0.730994</td>\n",
       "      <td>0.881659</td>\n",
       "      <td>1.02117</td>\n",
       "      <td>1.076527</td>\n",
       "      <td>0.879512</td>\n",
       "      <td>1.285580</td>\n",
       "      <td>1.319113</td>\n",
       "      <td>8.156335</td>\n",
       "      <td>3.289199</td>\n",
       "      <td>3.789220</td>\n",
       "      <td>4.565902</td>\n",
       "    </tr>\n",
       "    <tr>\n",
       "      <th>min</th>\n",
       "      <td>15.000000</td>\n",
       "      <td>0.000000</td>\n",
       "      <td>0.000000</td>\n",
       "      <td>1.000000</td>\n",
       "      <td>1.000000</td>\n",
       "      <td>0.000000</td>\n",
       "      <td>1.000000</td>\n",
       "      <td>1.00000</td>\n",
       "      <td>1.000000</td>\n",
       "      <td>1.000000</td>\n",
       "      <td>1.000000</td>\n",
       "      <td>1.000000</td>\n",
       "      <td>0.000000</td>\n",
       "      <td>4.000000</td>\n",
       "      <td>0.000000</td>\n",
       "      <td>0.000000</td>\n",
       "    </tr>\n",
       "    <tr>\n",
       "      <th>25%</th>\n",
       "      <td>16.000000</td>\n",
       "      <td>2.000000</td>\n",
       "      <td>2.000000</td>\n",
       "      <td>1.000000</td>\n",
       "      <td>1.000000</td>\n",
       "      <td>0.000000</td>\n",
       "      <td>4.000000</td>\n",
       "      <td>3.00000</td>\n",
       "      <td>2.000000</td>\n",
       "      <td>1.000000</td>\n",
       "      <td>1.000000</td>\n",
       "      <td>3.000000</td>\n",
       "      <td>0.000000</td>\n",
       "      <td>8.000000</td>\n",
       "      <td>9.000000</td>\n",
       "      <td>8.000000</td>\n",
       "    </tr>\n",
       "    <tr>\n",
       "      <th>50%</th>\n",
       "      <td>17.000000</td>\n",
       "      <td>3.000000</td>\n",
       "      <td>3.000000</td>\n",
       "      <td>1.000000</td>\n",
       "      <td>2.000000</td>\n",
       "      <td>0.000000</td>\n",
       "      <td>4.000000</td>\n",
       "      <td>3.00000</td>\n",
       "      <td>3.000000</td>\n",
       "      <td>1.000000</td>\n",
       "      <td>2.000000</td>\n",
       "      <td>4.000000</td>\n",
       "      <td>4.000000</td>\n",
       "      <td>11.000000</td>\n",
       "      <td>10.500000</td>\n",
       "      <td>11.000000</td>\n",
       "    </tr>\n",
       "    <tr>\n",
       "      <th>75%</th>\n",
       "      <td>18.000000</td>\n",
       "      <td>4.000000</td>\n",
       "      <td>3.000000</td>\n",
       "      <td>2.000000</td>\n",
       "      <td>2.000000</td>\n",
       "      <td>0.000000</td>\n",
       "      <td>5.000000</td>\n",
       "      <td>4.00000</td>\n",
       "      <td>4.000000</td>\n",
       "      <td>2.000000</td>\n",
       "      <td>3.000000</td>\n",
       "      <td>5.000000</td>\n",
       "      <td>7.000000</td>\n",
       "      <td>13.000000</td>\n",
       "      <td>13.000000</td>\n",
       "      <td>13.000000</td>\n",
       "    </tr>\n",
       "    <tr>\n",
       "      <th>max</th>\n",
       "      <td>21.000000</td>\n",
       "      <td>4.000000</td>\n",
       "      <td>4.000000</td>\n",
       "      <td>4.000000</td>\n",
       "      <td>4.000000</td>\n",
       "      <td>3.000000</td>\n",
       "      <td>5.000000</td>\n",
       "      <td>5.00000</td>\n",
       "      <td>5.000000</td>\n",
       "      <td>5.000000</td>\n",
       "      <td>5.000000</td>\n",
       "      <td>5.000000</td>\n",
       "      <td>75.000000</td>\n",
       "      <td>19.000000</td>\n",
       "      <td>19.000000</td>\n",
       "      <td>20.000000</td>\n",
       "    </tr>\n",
       "  </tbody>\n",
       "</table>\n",
       "</div>"
      ],
      "text/plain": [
       "              age        Medu        Fedu  traveltime   studytime    failures  \\\n",
       "count  284.000000  284.000000  284.000000  284.000000  284.000000  284.000000   \n",
       "mean    16.707746    2.774648    2.521127    1.475352    2.049296    0.334507   \n",
       "std      1.284238    1.095409    1.091038    0.695334    0.843411    0.730994   \n",
       "min     15.000000    0.000000    0.000000    1.000000    1.000000    0.000000   \n",
       "25%     16.000000    2.000000    2.000000    1.000000    1.000000    0.000000   \n",
       "50%     17.000000    3.000000    3.000000    1.000000    2.000000    0.000000   \n",
       "75%     18.000000    4.000000    3.000000    2.000000    2.000000    0.000000   \n",
       "max     21.000000    4.000000    4.000000    4.000000    4.000000    3.000000   \n",
       "\n",
       "           famrel   freetime       goout        Dalc        Walc      health  \\\n",
       "count  284.000000  284.00000  284.000000  284.000000  284.000000  284.000000   \n",
       "mean     3.940141    3.18662    3.084507    1.482394    2.239437    3.626761   \n",
       "std      0.881659    1.02117    1.076527    0.879512    1.285580    1.319113   \n",
       "min      1.000000    1.00000    1.000000    1.000000    1.000000    1.000000   \n",
       "25%      4.000000    3.00000    2.000000    1.000000    1.000000    3.000000   \n",
       "50%      4.000000    3.00000    3.000000    1.000000    2.000000    4.000000   \n",
       "75%      5.000000    4.00000    4.000000    2.000000    3.000000    5.000000   \n",
       "max      5.000000    5.00000    5.000000    5.000000    5.000000    5.000000   \n",
       "\n",
       "         absences          G1          G2          G3  \n",
       "count  284.000000  284.000000  284.000000  284.000000  \n",
       "mean     5.588028   10.933099   10.640845   10.394366  \n",
       "std      8.156335    3.289199    3.789220    4.565902  \n",
       "min      0.000000    4.000000    0.000000    0.000000  \n",
       "25%      0.000000    8.000000    9.000000    8.000000  \n",
       "50%      4.000000   11.000000   10.500000   11.000000  \n",
       "75%      7.000000   13.000000   13.000000   13.000000  \n",
       "max     75.000000   19.000000   19.000000   20.000000  "
      ]
     },
     "execution_count": 47,
     "metadata": {},
     "output_type": "execute_result"
    }
   ],
   "source": [
    "df.describe()"
   ]
  },
  {
   "cell_type": "markdown",
   "metadata": {},
   "source": [
    "Tenemos 284 observaciones, con una media de dedad de 16,7 años. Se vislumbra una gran varianza en la variable 'absences' y haremos una observación de histogramas para ver de que forma se distribuyen las variables"
   ]
  },
  {
   "cell_type": "code",
   "execution_count": 6,
   "metadata": {},
   "outputs": [
    {
     "data": {
      "image/png": "[encoded data removed]",
      "text/plain": [
       "<Figure size 432x288 with 1 Axes>"
      ]
     },
     "metadata": {},
     "output_type": "display_data"
    },
    {
     "data": {
      "image/png": "[encoded data removed]",
      "text/plain": [
       "<Figure size 432x288 with 1 Axes>"
      ]
     },
     "metadata": {},
     "output_type": "display_data"
    },
    {
     "data": {
      "image/png": "[encoded data removed]",
      "text/plain": [
       "<Figure size 432x288 with 1 Axes>"
      ]
     },
     "metadata": {},
     "output_type": "display_data"
    },
    {
     "data": {
      "image/png": "[encoded data removed]",
      "text/plain": [
       "<Figure size 432x288 with 1 Axes>"
      ]
     },
     "metadata": {},
     "output_type": "display_data"
    },
    {
     "data": {
      "image/png": "[encoded data removed]",
      "text/plain": [
       "<Figure size 432x288 with 1 Axes>"
      ]
     },
     "metadata": {},
     "output_type": "display_data"
    },
    {
     "data": {
      "image/png": "[encoded data removed]",
      "text/plain": [
       "<Figure size 432x288 with 1 Axes>"
      ]
     },
     "metadata": {},
     "output_type": "display_data"
    },
    {
     "data": {
      "image/png": "[encoded data removed]",
      "text/plain": [
       "<Figure size 432x288 with 1 Axes>"
      ]
     },
     "metadata": {},
     "output_type": "display_data"
    },
    {
     "data": {
      "image/png": "[encoded data removed]",
      "text/plain": [
       "<Figure size 432x288 with 1 Axes>"
      ]
     },
     "metadata": {},
     "output_type": "display_data"
    },
    {
     "data": {
      "image/png": "[encoded data removed]",
      "text/plain": [
       "<Figure size 432x288 with 1 Axes>"
      ]
     },
     "metadata": {},
     "output_type": "display_data"
    },
    {
     "data": {
      "image/png": "[encoded data removed]",
      "text/plain": [
       "<Figure size 432x288 with 1 Axes>"
      ]
     },
     "metadata": {},
     "output_type": "display_data"
    },
    {
     "data": {
      "image/png": "[encoded data removed]",
      "text/plain": [
       "<Figure size 432x288 with 1 Axes>"
      ]
     },
     "metadata": {},
     "output_type": "display_data"
    },
    {
     "data": {
      "image/png": "[encoded data removed]",
      "text/plain": [
       "<Figure size 432x288 with 1 Axes>"
      ]
     },
     "metadata": {},
     "output_type": "display_data"
    },
    {
     "data": {
      "image/png": "[encoded data removed]",
      "text/plain": [
       "<Figure size 432x288 with 1 Axes>"
      ]
     },
     "metadata": {},
     "output_type": "display_data"
    },
    {
     "data": {
      "image/png": "[encoded data removed]",
      "text/plain": [
       "<Figure size 432x288 with 1 Axes>"
      ]
     },
     "metadata": {},
     "output_type": "display_data"
    },
    {
     "data": {
      "image/png": "[encoded data removed]",
      "text/plain": [
       "<Figure size 432x288 with 1 Axes>"
      ]
     },
     "metadata": {},
     "output_type": "display_data"
    },
    {
     "data": {
      "image/png": "[encoded data removed]",
      "text/plain": [
       "<Figure size 432x288 with 1 Axes>"
      ]
     },
     "metadata": {},
     "output_type": "display_data"
    },
    {
     "data": {
      "image/png": "[encoded data removed]",
      "text/plain": [
       "<Figure size 432x288 with 1 Axes>"
      ]
     },
     "metadata": {},
     "output_type": "display_data"
    },
    {
     "data": {
      "image/png": "[encoded data removed]",
      "text/plain": [
       "<Figure size 432x288 with 1 Axes>"
      ]
     },
     "metadata": {},
     "output_type": "display_data"
    },
    {
     "data": {
      "image/png": "[encoded data removed]",
      "text/plain": [
       "<Figure size 432x288 with 1 Axes>"
      ]
     },
     "metadata": {},
     "output_type": "display_data"
    },
    {
     "data": {
      "image/png": "[encoded data removed]",
      "text/plain": [
       "<Figure size 432x288 with 1 Axes>"
      ]
     },
     "metadata": {},
     "output_type": "display_data"
    },
    {
     "data": {
      "image/png": "[encoded data removed]",
      "text/plain": [
       "<Figure size 432x288 with 1 Axes>"
      ]
     },
     "metadata": {},
     "output_type": "display_data"
    },
    {
     "data": {
      "image/png": "[encoded data removed]",
      "text/plain": [
       "<Figure size 432x288 with 1 Axes>"
      ]
     },
     "metadata": {},
     "output_type": "display_data"
    },
    {
     "data": {
      "image/png": "[encoded data removed]",
      "text/plain": [
       "<Figure size 432x288 with 1 Axes>"
      ]
     },
     "metadata": {},
     "output_type": "display_data"
    },
    {
     "data": {
      "image/png": "[encoded data removed]",
      "text/plain": [
       "<Figure size 432x288 with 1 Axes>"
      ]
     },
     "metadata": {},
     "output_type": "display_data"
    },
    {
     "data": {
      "image/png": "[encoded data removed]",
      "text/plain": [
       "<Figure size 432x288 with 1 Axes>"
      ]
     },
     "metadata": {},
     "output_type": "display_data"
    },
    {
     "data": {
      "image/png": "[encoded data removed]",
      "text/plain": [
       "<Figure size 432x288 with 1 Axes>"
      ]
     },
     "metadata": {},
     "output_type": "display_data"
    },
    {
     "data": {
      "image/png": "[encoded data removed]",
      "text/plain": [
       "<Figure size 432x288 with 1 Axes>"
      ]
     },
     "metadata": {},
     "output_type": "display_data"
    },
    {
     "data": {
      "image/png": "[encoded data removed]",
      "text/plain": [
       "<Figure size 432x288 with 1 Axes>"
      ]
     },
     "metadata": {},
     "output_type": "display_data"
    },
    {
     "data": {
      "image/png": "[encoded data removed]",
      "text/plain": [
       "<Figure size 432x288 with 1 Axes>"
      ]
     },
     "metadata": {},
     "output_type": "display_data"
    },
    {
     "data": {
      "image/png": "[encoded data removed]",
      "text/plain": [
       "<Figure size 432x288 with 1 Axes>"
      ]
     },
     "metadata": {},
     "output_type": "display_data"
    },
    {
     "data": {
      "image/png": "[encoded data removed]",
      "text/plain": [
       "<Figure size 432x288 with 1 Axes>"
      ]
     },
     "metadata": {},
     "output_type": "display_data"
    },
    {
     "data": {
      "image/png": "[encoded data removed]",
      "text/plain": [
       "<Figure size 432x288 with 1 Axes>"
      ]
     },
     "metadata": {},
     "output_type": "display_data"
    }
   ],
   "source": [
    "fxpy.histograms_bins(df)\n",
    "fxpy.boxplots(df)"
   ]
  },
  {
   "cell_type": "markdown",
   "metadata": {},
   "source": [
    "Las variables freetime, goout, y G1, tienen un comportamiento similar a una distribución normal. Traveltimes, failures, Dalc, Walc y absences tienen sus datos distribuidos mayoritariamente bajo la media, con el caso especial de'absences' que presenta su mayor distribución en el valor 0.  \n",
    "Revisando los boxplots, se ven pocos outliers, excepto en la variable 'absences', que presenta su media cercana a 0 pero muchos valores que se escapan de ésta.\n",
    "Ahora revisaremos las variables categóricas"
   ]
  },
  {
   "cell_type": "code",
   "execution_count": 7,
   "metadata": {},
   "outputs": [
    {
     "name": "stdout",
     "output_type": "stream",
     "text": [
      "school :\n",
      "GP    247\n",
      "MS     37\n",
      "Name: school, dtype: int64\n",
      "\n",
      "\n",
      "sex :\n",
      "F    147\n",
      "M    137\n",
      "Name: sex, dtype: int64\n",
      "\n",
      "\n",
      "address :\n",
      "U    214\n",
      "R     70\n",
      "Name: address, dtype: int64\n",
      "\n",
      "\n",
      "famsize :\n",
      "GT3    209\n",
      "LE3     75\n",
      "Name: famsize, dtype: int64\n",
      "\n",
      "\n",
      "Pstatus :\n",
      "T    257\n",
      "A     27\n",
      "Name: Pstatus, dtype: int64\n",
      "\n",
      "\n",
      "Mjob :\n",
      "other       103\n",
      "services     68\n",
      "teacher      44\n",
      "at_home      43\n",
      "health       26\n",
      "Name: Mjob, dtype: int64\n",
      "\n",
      "\n",
      "Fjob :\n",
      "other       159\n",
      "services     80\n",
      "teacher      21\n",
      "health       13\n",
      "at_home      11\n",
      "Name: Fjob, dtype: int64\n",
      "\n",
      "\n",
      "reason :\n",
      "course        102\n",
      "home           78\n",
      "reputation     77\n",
      "other          27\n",
      "Name: reason, dtype: int64\n",
      "\n",
      "\n",
      "guardian :\n",
      "mother    200\n",
      "father     60\n",
      "other      24\n",
      "Name: guardian, dtype: int64\n",
      "\n",
      "\n",
      "schoolsup :\n",
      "no     246\n",
      "yes     38\n",
      "Name: schoolsup, dtype: int64\n",
      "\n",
      "\n",
      "famsup :\n",
      "yes    174\n",
      "no     110\n",
      "Name: famsup, dtype: int64\n",
      "\n",
      "\n",
      "paid :\n",
      "no     158\n",
      "yes    126\n",
      "Name: paid, dtype: int64\n",
      "\n",
      "\n",
      "activities :\n",
      "yes    148\n",
      "no     136\n",
      "Name: activities, dtype: int64\n",
      "\n",
      "\n",
      "nursery :\n",
      "yes    223\n",
      "no      61\n",
      "Name: nursery, dtype: int64\n",
      "\n",
      "\n",
      "higher :\n",
      "yes    269\n",
      "no      15\n",
      "Name: higher, dtype: int64\n",
      "\n",
      "\n",
      "internet :\n",
      "yes    231\n",
      "no      53\n",
      "Name: internet, dtype: int64\n",
      "\n",
      "\n",
      "romantic :\n",
      "no     189\n",
      "yes     95\n",
      "Name: romantic, dtype: int64\n",
      "\n",
      "\n"
     ]
    }
   ],
   "source": [
    "fxpy.valores_ds1(df)"
   ]
  },
  {
   "cell_type": "code",
   "execution_count": 12,
   "metadata": {},
   "outputs": [],
   "source": [
    "df_final = pd.get_dummies(df, columns=['school','sex','address','famsize', 'Pstatus','Mjob','Fjob', 'reason', 'guardian', 'schoolsup','famsup','paid','activities','nursery','higher','internet','romantic'], drop_first=True)"
   ]
  },
  {
   "cell_type": "markdown",
   "metadata": {},
   "source": [
    "Ocupamos la función get_dummies de pandas para binarizar las variables, utilizamos el parámetro drop_first=True, para solo traer K-1 agrupaciones y evitar multicolinealidad  \n",
    "### Modelación descriptiva  \n",
    "Decidimos utilizar una regresión lineal para predecir la variable binaria 'income'"
   ]
  },
  {
   "cell_type": "code",
   "execution_count": 14,
   "metadata": {},
   "outputs": [
    {
     "data": {
      "text/plain": [
       "Index(['age', 'Medu', 'Fedu', 'traveltime', 'studytime', 'failures', 'famrel',\n",
       "       'freetime', 'goout', 'Dalc', 'Walc', 'health', 'absences', 'G1', 'G2',\n",
       "       'G3', 'school_MS', 'sex_M', 'address_U', 'famsize_LE3', 'Pstatus_T',\n",
       "       'Mjob_health', 'Mjob_other', 'Mjob_services', 'Mjob_teacher',\n",
       "       'Fjob_health', 'Fjob_other', 'Fjob_services', 'Fjob_teacher',\n",
       "       'reason_home', 'reason_other', 'reason_reputation', 'guardian_mother',\n",
       "       'guardian_other', 'schoolsup_yes', 'famsup_yes', 'paid_yes',\n",
       "       'activities_yes', 'nursery_yes', 'higher_yes', 'internet_yes',\n",
       "       'romantic_yes'],\n",
       "      dtype='object')"
      ]
     },
     "execution_count": 14,
     "metadata": {},
     "output_type": "execute_result"
    }
   ],
   "source": []
  },
  {
   "cell_type": "code",
   "execution_count": null,
   "metadata": {},
   "outputs": [],
   "source": []
  }
 ],
 "metadata": {
  "kernelspec": {
   "display_name": "Python 3",
   "language": "python",
   "name": "python3"
  },
  "language_info": {
   "codemirror_mode": {
    "name": "ipython",
    "version": 3
   },
   "file_extension": ".py",
   "mimetype": "text/x-python",
   "name": "python",
   "nbconvert_exporter": "python",
   "pygments_lexer": "ipython3",
   "version": "3.6.5"
  }
 },
 "nbformat": 4,
 "nbformat_minor": 2
}
