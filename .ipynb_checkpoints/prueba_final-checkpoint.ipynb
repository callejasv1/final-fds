{
 "cells": [
  {
   "cell_type": "markdown",
   "metadata": {},
   "source": [
    "# Prueba Final, Bootcamp Fundamentos DS, Academia Desafio Latam, Agosto 2018"
   ]
  },
  {
   "cell_type": "markdown",
   "metadata": {},
   "source": [
    "## Primer Problema"
   ]
  },
  {
   "cell_type": "markdown",
   "metadata": {},
   "source": [
    "### Preliminares"
   ]
  },
  {
   "cell_type": "markdown",
   "metadata": {},
   "source": [
    "El objetivo es generar un modelo predictivo sobre la probabilidad que un individuo presente salarios por sobre o bajo los 50.000 dólares anuales, en base a una serie de atributos sociodemográficos. Dado que se trata de una variable binaria (>50k, <50k), se utilizará un modelo de regresión logística, utilizando como métricas de desempeño F1 y el área bajo la curva ROC. Para depurar el modelo, primero se hará un análisis descriptivo de sus variables, y luego se ejecutará un modelamiento descriptivo, para conocer cuales son sus variables más significativas."
   ]
  },
  {
   "cell_type": "markdown",
   "metadata": {},
   "source": [
    "### Aspectos computacionales\n"
   ]
  },
  {
   "cell_type": "code",
   "execution_count": 1,
   "metadata": {},
   "outputs": [],
   "source": [
    "import pandas as pd\n",
    "import numpy as np\n",
    "import matplotlib.pyplot as plt\n",
    "import seaborn as sns\n",
    "from sklearn.model_selection import train_test_split\n",
    "from sklearn.preprocessing import StandardScaler\n",
    "from sklearn.linear_model import LogisticRegression\n",
    "from sklearn.metrics import confusion_matrix\n",
    "from sklearn.metrics import classification_report\n",
    "from sklearn.metrics import roc_curve\n",
    "from sklearn import linear_model\n",
    "from sklearn.metrics import mean_squared_error, r2_score\n",
    "from sklearn.preprocessing import PolynomialFeatures\n",
    "import warnings\n",
    "import scipy.stats as stats\n",
    "import statsmodels.api as sm\n",
    "import statsmodels.formula.api as smf\n",
    "warnings.filterwarnings(action=\"ignore\")\n",
    "import functions as fxpy"
   ]
  },
  {
   "cell_type": "markdown",
   "metadata": {},
   "source": [
    "Se trae la tríada de bibliotecas de DS (pandas, numpy y matplotlib), además de seaborn para ayudarnos en los gráficos. Por otro lado, se trae statsmodels para poder generar el modelo descriptivo y bibliotecas de sklearn para implementar el modelo de regresión y medir sus métricas de desempeño.\n",
    "Finalmente, se crearon funciones especialmente para este notebook, que nos ayudarán a generar gráficos para todo el df y no trabajar columna a columna."
   ]
  },
  {
   "cell_type": "markdown",
   "metadata": {},
   "source": [
    "### Descripción"
   ]
  },
  {
   "cell_type": "markdown",
   "metadata": {},
   "source": [
    "Primero leemos el archivo income-db.csv, reemplazando los valores '?' por NaN. Ademśa recodificamos las variables 'occupation', 'workclass', 'education' y marital status"
   ]
  },
  {
   "cell_type": "code",
   "execution_count": 2,
   "metadata": {},
   "outputs": [],
   "source": [
    "df = pd.read_csv('income-db.csv').replace('?', np.nan)\n",
    "\n",
    "df['collars'] = df['occupation']\n",
    "df['collars'] = df['collars'].replace(['Prof-specialty', 'Exec-managerial', 'Adm-clerical', 'Sales', 'Tech-support'], 'white-collar')\n",
    "df['collars'] = df['collars'].replace(['Craft-repair', 'Machine-op-inspct', 'Transport-moving', 'Handlers-cleaners', 'Farming-fishing', 'Protective-serv', 'Priv-house-serv'], 'blue-collar')\n",
    "df['collars'] = df['collars'].replace(['Other-service', 'Armed-Forces'], 'others')\n",
    "\n",
    "df['workclass_recod'] = df['workclass']\n",
    "df['workclass_recod'] = df['workclass_recod'].replace(['Federal-gov'], 'federal-gov')\n",
    "df['workclass_recod'] = df['workclass_recod'].replace(['State-gov','Local-gov'], 'state-level-gov')\n",
    "df['workclass_recod'] = df['workclass_recod'].replace(['Self-emp-not-inc','Self-emp-inc'], 'self-employed')\n",
    "df['workclass_recod'] = df['workclass_recod'].replace(['Never-worked','Without-pay'], 'unemployed')\n",
    "\n",
    "df['educ_recod'] = df['education']\n",
    "df['educ_recod'] = df['educ_recod'].replace(['Preschool'], 'preschool')\n",
    "df['educ_recod'] = df['educ_recod'].replace(['1st-4th', '5th-6th'], 'elementary-school')\n",
    "df['educ_recod'] = df['educ_recod'].replace(['7th-8th', '9th', '10th','11th', '12th', 'HS-grad'], 'high-school')\n",
    "df['educ_recod'] = df['educ_recod'].replace(['Assoc-voc', 'Assoc-acdm', 'Some-college'], 'college')\n",
    "df['educ_recod'] = df['educ_recod'].replace(['Bachelors', 'Masters', 'Prof-school', 'Doctorate'], 'university')\n",
    "\n",
    "df['civstatus'] = df['marital-status']\n",
    "df['civstatus'] = np.where(df['civstatus'].str.contains('Married'),'married',df['civstatus'])\n",
    "df['civstatus'] = df['civstatus'].str.lower()"
   ]
  },
  {
   "cell_type": "markdown",
   "metadata": {},
   "source": [
    "Ahora utilizando el archivo paises.csv clasificamos por regiones y binarizamos la variable 'income'"
   ]
  },
  {
   "cell_type": "code",
   "execution_count": 3,
   "metadata": {},
   "outputs": [],
   "source": [
    "paises = pd.read_csv('paises.csv')\n",
    "\n",
    "paises = paises.rename(columns={'continente': 'region'})\n",
    "\n",
    "df = df.merge(paises, left_on='native-country', right_on='pais')\n",
    "\n",
    "df['income'] = np.where(df['income']=='<=50K',0,1)"
   ]
  },
  {
   "cell_type": "code",
   "execution_count": 4,
   "metadata": {},
   "outputs": [
    {
     "data": {
      "text/html": [
       "<div>\n",
       "<style scoped>\n",
       "    .dataframe tbody tr th:only-of-type {\n",
       "        vertical-align: middle;\n",
       "    }\n",
       "\n",
       "    .dataframe tbody tr th {\n",
       "        vertical-align: top;\n",
       "    }\n",
       "\n",
       "    .dataframe thead th {\n",
       "        text-align: right;\n",
       "    }\n",
       "</style>\n",
       "<table border=\"1\" class=\"dataframe\">\n",
       "  <thead>\n",
       "    <tr style=\"text-align: right;\">\n",
       "      <th></th>\n",
       "      <th>age</th>\n",
       "      <th>fnlwgt</th>\n",
       "      <th>educational-num</th>\n",
       "      <th>capital-gain</th>\n",
       "      <th>capital-loss</th>\n",
       "      <th>hours-per-week</th>\n",
       "      <th>income</th>\n",
       "    </tr>\n",
       "  </thead>\n",
       "  <tbody>\n",
       "    <tr>\n",
       "      <th>count</th>\n",
       "      <td>47985.000000</td>\n",
       "      <td>4.798500e+04</td>\n",
       "      <td>47985.000000</td>\n",
       "      <td>47985.000000</td>\n",
       "      <td>47985.000000</td>\n",
       "      <td>47985.000000</td>\n",
       "      <td>47985.000000</td>\n",
       "    </tr>\n",
       "    <tr>\n",
       "      <th>mean</th>\n",
       "      <td>38.641284</td>\n",
       "      <td>1.895940e+05</td>\n",
       "      <td>10.067229</td>\n",
       "      <td>1067.032093</td>\n",
       "      <td>87.370553</td>\n",
       "      <td>40.411483</td>\n",
       "      <td>0.238971</td>\n",
       "    </tr>\n",
       "    <tr>\n",
       "      <th>std</th>\n",
       "      <td>13.729622</td>\n",
       "      <td>1.057605e+05</td>\n",
       "      <td>2.560534</td>\n",
       "      <td>7373.256663</td>\n",
       "      <td>402.681462</td>\n",
       "      <td>12.391073</td>\n",
       "      <td>0.426459</td>\n",
       "    </tr>\n",
       "    <tr>\n",
       "      <th>min</th>\n",
       "      <td>17.000000</td>\n",
       "      <td>1.228500e+04</td>\n",
       "      <td>1.000000</td>\n",
       "      <td>0.000000</td>\n",
       "      <td>0.000000</td>\n",
       "      <td>1.000000</td>\n",
       "      <td>0.000000</td>\n",
       "    </tr>\n",
       "    <tr>\n",
       "      <th>25%</th>\n",
       "      <td>28.000000</td>\n",
       "      <td>1.173490e+05</td>\n",
       "      <td>9.000000</td>\n",
       "      <td>0.000000</td>\n",
       "      <td>0.000000</td>\n",
       "      <td>40.000000</td>\n",
       "      <td>0.000000</td>\n",
       "    </tr>\n",
       "    <tr>\n",
       "      <th>50%</th>\n",
       "      <td>37.000000</td>\n",
       "      <td>1.781000e+05</td>\n",
       "      <td>10.000000</td>\n",
       "      <td>0.000000</td>\n",
       "      <td>0.000000</td>\n",
       "      <td>40.000000</td>\n",
       "      <td>0.000000</td>\n",
       "    </tr>\n",
       "    <tr>\n",
       "      <th>75%</th>\n",
       "      <td>48.000000</td>\n",
       "      <td>2.377200e+05</td>\n",
       "      <td>12.000000</td>\n",
       "      <td>0.000000</td>\n",
       "      <td>0.000000</td>\n",
       "      <td>45.000000</td>\n",
       "      <td>0.000000</td>\n",
       "    </tr>\n",
       "    <tr>\n",
       "      <th>max</th>\n",
       "      <td>90.000000</td>\n",
       "      <td>1.490400e+06</td>\n",
       "      <td>16.000000</td>\n",
       "      <td>99999.000000</td>\n",
       "      <td>4356.000000</td>\n",
       "      <td>99.000000</td>\n",
       "      <td>1.000000</td>\n",
       "    </tr>\n",
       "  </tbody>\n",
       "</table>\n",
       "</div>"
      ],
      "text/plain": [
       "                age        fnlwgt  educational-num  capital-gain  \\\n",
       "count  47985.000000  4.798500e+04     47985.000000  47985.000000   \n",
       "mean      38.641284  1.895940e+05        10.067229   1067.032093   \n",
       "std       13.729622  1.057605e+05         2.560534   7373.256663   \n",
       "min       17.000000  1.228500e+04         1.000000      0.000000   \n",
       "25%       28.000000  1.173490e+05         9.000000      0.000000   \n",
       "50%       37.000000  1.781000e+05        10.000000      0.000000   \n",
       "75%       48.000000  2.377200e+05        12.000000      0.000000   \n",
       "max       90.000000  1.490400e+06        16.000000  99999.000000   \n",
       "\n",
       "       capital-loss  hours-per-week        income  \n",
       "count  47985.000000    47985.000000  47985.000000  \n",
       "mean      87.370553       40.411483      0.238971  \n",
       "std      402.681462       12.391073      0.426459  \n",
       "min        0.000000        1.000000      0.000000  \n",
       "25%        0.000000       40.000000      0.000000  \n",
       "50%        0.000000       40.000000      0.000000  \n",
       "75%        0.000000       45.000000      0.000000  \n",
       "max     4356.000000       99.000000      1.000000  "
      ]
     },
     "execution_count": 4,
     "metadata": {},
     "output_type": "execute_result"
    }
   ],
   "source": [
    "df.describe()"
   ]
  },
  {
   "cell_type": "markdown",
   "metadata": {},
   "source": [
    "Notamos que en las variables numéricas tenemos todos los datos, pero que las variables capital-gain y capital-loss se comportan de manera extraña, ya que más de un 75% de los datos están en 0."
   ]
  },
  {
   "cell_type": "code",
   "execution_count": 5,
   "metadata": {},
   "outputs": [
    {
     "data": {
      "text/html": [
       "<div>\n",
       "<style scoped>\n",
       "    .dataframe tbody tr th:only-of-type {\n",
       "        vertical-align: middle;\n",
       "    }\n",
       "\n",
       "    .dataframe tbody tr th {\n",
       "        vertical-align: top;\n",
       "    }\n",
       "\n",
       "    .dataframe thead th {\n",
       "        text-align: right;\n",
       "    }\n",
       "</style>\n",
       "<table border=\"1\" class=\"dataframe\">\n",
       "  <thead>\n",
       "    <tr style=\"text-align: right;\">\n",
       "      <th></th>\n",
       "      <th>workclass</th>\n",
       "      <th>education</th>\n",
       "      <th>marital-status</th>\n",
       "      <th>occupation</th>\n",
       "      <th>relationship</th>\n",
       "      <th>race</th>\n",
       "      <th>gender</th>\n",
       "      <th>native-country</th>\n",
       "      <th>collars</th>\n",
       "      <th>workclass_recod</th>\n",
       "      <th>educ_recod</th>\n",
       "      <th>civstatus</th>\n",
       "      <th>pais</th>\n",
       "      <th>region</th>\n",
       "    </tr>\n",
       "  </thead>\n",
       "  <tbody>\n",
       "    <tr>\n",
       "      <th>count</th>\n",
       "      <td>45232</td>\n",
       "      <td>47985</td>\n",
       "      <td>47985</td>\n",
       "      <td>45222</td>\n",
       "      <td>47985</td>\n",
       "      <td>47985</td>\n",
       "      <td>47985</td>\n",
       "      <td>47985</td>\n",
       "      <td>45222</td>\n",
       "      <td>45232</td>\n",
       "      <td>47985</td>\n",
       "      <td>47985</td>\n",
       "      <td>47985</td>\n",
       "      <td>47870</td>\n",
       "    </tr>\n",
       "    <tr>\n",
       "      <th>unique</th>\n",
       "      <td>8</td>\n",
       "      <td>16</td>\n",
       "      <td>7</td>\n",
       "      <td>14</td>\n",
       "      <td>6</td>\n",
       "      <td>5</td>\n",
       "      <td>2</td>\n",
       "      <td>41</td>\n",
       "      <td>3</td>\n",
       "      <td>5</td>\n",
       "      <td>5</td>\n",
       "      <td>5</td>\n",
       "      <td>41</td>\n",
       "      <td>3</td>\n",
       "    </tr>\n",
       "    <tr>\n",
       "      <th>top</th>\n",
       "      <td>Private</td>\n",
       "      <td>HS-grad</td>\n",
       "      <td>Married-civ-spouse</td>\n",
       "      <td>Craft-repair</td>\n",
       "      <td>Husband</td>\n",
       "      <td>White</td>\n",
       "      <td>Male</td>\n",
       "      <td>United-States</td>\n",
       "      <td>white-collar</td>\n",
       "      <td>Private</td>\n",
       "      <td>high-school</td>\n",
       "      <td>married</td>\n",
       "      <td>United-States</td>\n",
       "      <td>America</td>\n",
       "    </tr>\n",
       "    <tr>\n",
       "      <th>freq</th>\n",
       "      <td>33307</td>\n",
       "      <td>15586</td>\n",
       "      <td>21971</td>\n",
       "      <td>6020</td>\n",
       "      <td>19371</td>\n",
       "      <td>41189</td>\n",
       "      <td>32041</td>\n",
       "      <td>43832</td>\n",
       "      <td>24360</td>\n",
       "      <td>33307</td>\n",
       "      <td>21069</td>\n",
       "      <td>22603</td>\n",
       "      <td>43832</td>\n",
       "      <td>46109</td>\n",
       "    </tr>\n",
       "  </tbody>\n",
       "</table>\n",
       "</div>"
      ],
      "text/plain": [
       "       workclass education      marital-status    occupation relationship  \\\n",
       "count      45232     47985               47985         45222        47985   \n",
       "unique         8        16                   7            14            6   \n",
       "top      Private   HS-grad  Married-civ-spouse  Craft-repair      Husband   \n",
       "freq       33307     15586               21971          6020        19371   \n",
       "\n",
       "         race gender native-country       collars workclass_recod  \\\n",
       "count   47985  47985          47985         45222           45232   \n",
       "unique      5      2             41             3               5   \n",
       "top     White   Male  United-States  white-collar         Private   \n",
       "freq    41189  32041          43832         24360           33307   \n",
       "\n",
       "         educ_recod civstatus           pais   region  \n",
       "count         47985     47985          47985    47870  \n",
       "unique            5         5             41        3  \n",
       "top     high-school   married  United-States  America  \n",
       "freq          21069     22603          43832    46109  "
      ]
     },
     "execution_count": 5,
     "metadata": {},
     "output_type": "execute_result"
    }
   ],
   "source": [
    "df.describe(exclude=np.number)"
   ]
  },
  {
   "cell_type": "markdown",
   "metadata": {},
   "source": [
    "Notamos que los numeros de datos difieren de variable en variable, lo que puede significar valores perdidos. Estados uUnidos es el que tiene mayor representación, con 43832 datos de un total de 47985. Eventualmente esto puede significar que esté sobrerrepresentado y que nuestros modelos puedan predecir muy bien la situación en USA pero no en otros países, lo mismo para las razas"
   ]
  },
  {
   "cell_type": "code",
   "execution_count": 6,
   "metadata": {},
   "outputs": [
    {
     "data": {
      "image/png": "[encoded data removed]",
      "text/plain": [
       "<Figure size 432x288 with 1 Axes>"
      ]
     },
     "metadata": {},
     "output_type": "display_data"
    },
    {
     "data": {
      "image/png": "[encoded data removed]",
      "text/plain": [
       "<Figure size 432x288 with 1 Axes>"
      ]
     },
     "metadata": {},
     "output_type": "display_data"
    },
    {
     "data": {
      "image/png": "[encoded data removed]",
      "text/plain": [
       "<Figure size 432x288 with 1 Axes>"
      ]
     },
     "metadata": {},
     "output_type": "display_data"
    },
    {
     "data": {
      "image/png": "[encoded data removed]",
      "text/plain": [
       "<Figure size 432x288 with 1 Axes>"
      ]
     },
     "metadata": {},
     "output_type": "display_data"
    },
    {
     "data": {
      "image/png": "[encoded data removed]",
      "text/plain": [
       "<Figure size 432x288 with 1 Axes>"
      ]
     },
     "metadata": {},
     "output_type": "display_data"
    },
    {
     "data": {
      "image/png": "[encoded data removed]",
      "text/plain": [
       "<Figure size 432x288 with 1 Axes>"
      ]
     },
     "metadata": {},
     "output_type": "display_data"
    },
    {
     "data": {
      "image/png": "[encoded data removed]",
      "text/plain": [
       "<Figure size 432x288 with 1 Axes>"
      ]
     },
     "metadata": {},
     "output_type": "display_data"
    }
   ],
   "source": [
    "fxpy.histograms(df)"
   ]
  },
  {
   "cell_type": "markdown",
   "metadata": {},
   "source": [
    "Si bien la mayor parte de las variables están concentradas cerca de la media, no hay ninguna que se comporte de forma parecida a la normal. Las variables capitalgain y capitalloss tienen la mayor parte de datos con valor 0. Graficaremos boxplots para revisar si hay outliers"
   ]
  },
  {
   "cell_type": "code",
   "execution_count": 10,
   "metadata": {},
   "outputs": [
    {
     "data": {
      "image/png": "[encoded data removed]",
      "text/plain": [
       "<Figure size 432x288 with 1 Axes>"
      ]
     },
     "metadata": {},
     "output_type": "display_data"
    },
    {
     "data": {
      "image/png": "[encoded data removed]",
      "text/plain": [
       "<Figure size 432x288 with 1 Axes>"
      ]
     },
     "metadata": {},
     "output_type": "display_data"
    },
    {
     "data": {
      "image/png": "[encoded data removed]",
      "text/plain": [
       "<Figure size 432x288 with 1 Axes>"
      ]
     },
     "metadata": {},
     "output_type": "display_data"
    },
    {
     "data": {
      "image/png": "[encoded data removed]",
      "text/plain": [
       "<Figure size 432x288 with 1 Axes>"
      ]
     },
     "metadata": {},
     "output_type": "display_data"
    },
    {
     "data": {
      "image/png": "[encoded data removed]",
      "text/plain": [
       "<Figure size 432x288 with 1 Axes>"
      ]
     },
     "metadata": {},
     "output_type": "display_data"
    },
    {
     "data": {
      "image/png": "[encoded data removed]",
      "text/plain": [
       "<Figure size 432x288 with 1 Axes>"
      ]
     },
     "metadata": {},
     "output_type": "display_data"
    },
    {
     "data": {
      "image/png": "[encoded data removed]",
      "text/plain": [
       "<Figure size 432x288 with 1 Axes>"
      ]
     },
     "metadata": {},
     "output_type": "display_data"
    }
   ],
   "source": [
    "fxpy.boxplots(df)"
   ]
  },
  {
   "cell_type": "markdown",
   "metadata": {},
   "source": [
    "Las variales fnlwgt, capital gain, capital loss, hours per week presentan una gran cantidad de Outliers.  \n",
    "    Ahora contemos la cantidad de datos perdidos que tenemos"
   ]
  },
  {
   "cell_type": "code",
   "execution_count": 11,
   "metadata": {},
   "outputs": [
    {
     "name": "stdout",
     "output_type": "stream",
     "text": [
      "workclass :\n",
      "Private             33307\n",
      "Self-emp-not-inc     3796\n",
      "Local-gov            3100\n",
      "NaN                  2753\n",
      "State-gov            1946\n",
      "Self-emp-inc         1646\n",
      "Federal-gov          1406\n",
      "Without-pay            21\n",
      "Never-worked           10\n",
      "Name: workclass, dtype: int64\n",
      "\n",
      "\n",
      "education :\n",
      "HS-grad         15586\n",
      "Some-college    10723\n",
      "Bachelors        7815\n",
      "Masters          2579\n",
      "Assoc-voc        2038\n",
      "11th             1800\n",
      "Assoc-acdm       1579\n",
      "10th             1372\n",
      "7th-8th           931\n",
      "Prof-school       808\n",
      "9th               745\n",
      "12th              635\n",
      "Doctorate         562\n",
      "5th-6th           490\n",
      "1st-4th           240\n",
      "Preschool          82\n",
      "Name: education, dtype: int64\n",
      "\n",
      "\n",
      "marital-status :\n",
      "Married-civ-spouse       21971\n",
      "Never-married            15816\n",
      "Divorced                  6561\n",
      "Separated                 1507\n",
      "Widowed                   1498\n",
      "Married-spouse-absent      595\n",
      "Married-AF-spouse           37\n",
      "Name: marital-status, dtype: int64\n",
      "\n",
      "\n",
      "occupation :\n",
      "Craft-repair         6020\n",
      "Prof-specialty       6008\n",
      "Exec-managerial      5984\n",
      "Adm-clerical         5540\n",
      "Sales                5408\n",
      "Other-service        4808\n",
      "Machine-op-inspct    2970\n",
      "NaN                  2763\n",
      "Transport-moving     2316\n",
      "Handlers-cleaners    2046\n",
      "Farming-fishing      1480\n",
      "Tech-support         1420\n",
      "Protective-serv       976\n",
      "Priv-house-serv       232\n",
      "Armed-Forces           14\n",
      "Name: occupation, dtype: int64\n",
      "\n",
      "\n",
      "relationship :\n",
      "Husband           19371\n",
      "Not-in-family     12353\n",
      "Own-child          7491\n",
      "Unmarried          5041\n",
      "Wife               2277\n",
      "Other-relative     1452\n",
      "Name: relationship, dtype: int64\n",
      "\n",
      "\n",
      "race :\n",
      "White                 41189\n",
      "Black                  4553\n",
      "Asian-Pac-Islander     1391\n",
      "Amer-Indian-Eskimo      470\n",
      "Other                   382\n",
      "Name: race, dtype: int64\n",
      "\n",
      "\n",
      "gender :\n",
      "Male      32041\n",
      "Female    15944\n",
      "Name: gender, dtype: int64\n",
      "\n",
      "\n",
      "native-country :\n",
      "United-States                 43832\n",
      "Mexico                          951\n",
      "Philippines                     295\n",
      "Germany                         206\n",
      "Puerto-Rico                     184\n",
      "Canada                          182\n",
      "El-Salvador                     155\n",
      "India                           151\n",
      "Cuba                            138\n",
      "England                         127\n",
      "China                           122\n",
      "South                           115\n",
      "Jamaica                         106\n",
      "Italy                           105\n",
      "Dominican-Republic              103\n",
      "Japan                            92\n",
      "Guatemala                        88\n",
      "Poland                           87\n",
      "Vietnam                          86\n",
      "Columbia                         85\n",
      "Haiti                            75\n",
      "Portugal                         67\n",
      "Taiwan                           65\n",
      "Iran                             59\n",
      "Greece                           49\n",
      "Nicaragua                        49\n",
      "Peru                             46\n",
      "Ecuador                          45\n",
      "France                           38\n",
      "Ireland                          37\n",
      "Hong                             30\n",
      "Thailand                         30\n",
      "Cambodia                         28\n",
      "Trinadad&Tobago                  27\n",
      "Laos                             23\n",
      "Outlying-US(Guam-USVI-etc)       23\n",
      "Yugoslavia                       23\n",
      "Scotland                         21\n",
      "Honduras                         20\n",
      "Hungary                          19\n",
      "Holand-Netherlands                1\n",
      "Name: native-country, dtype: int64\n",
      "\n",
      "\n",
      "collars :\n",
      "white-collar    24360\n",
      "blue-collar     16040\n",
      "others           4822\n",
      "NaN              2763\n",
      "Name: collars, dtype: int64\n",
      "\n",
      "\n",
      "workclass_recod :\n",
      "Private            33307\n",
      "self-employed       5442\n",
      "state-level-gov     5046\n",
      "NaN                 2753\n",
      "federal-gov         1406\n",
      "unemployed            31\n",
      "Name: workclass_recod, dtype: int64\n",
      "\n",
      "\n",
      "educ_recod :\n",
      "high-school          21069\n",
      "college              14340\n",
      "university           11764\n",
      "elementary-school      730\n",
      "preschool               82\n",
      "Name: educ_recod, dtype: int64\n",
      "\n",
      "\n",
      "civstatus :\n",
      "married          22603\n",
      "never-married    15816\n",
      "divorced          6561\n",
      "separated         1507\n",
      "widowed           1498\n",
      "Name: civstatus, dtype: int64\n",
      "\n",
      "\n",
      "pais :\n",
      "United-States                 43832\n",
      "Mexico                          951\n",
      "Philippines                     295\n",
      "Germany                         206\n",
      "Puerto-Rico                     184\n",
      "Canada                          182\n",
      "El-Salvador                     155\n",
      "India                           151\n",
      "Cuba                            138\n",
      "England                         127\n",
      "China                           122\n",
      "South                           115\n",
      "Jamaica                         106\n",
      "Italy                           105\n",
      "Dominican-Republic              103\n",
      "Japan                            92\n",
      "Guatemala                        88\n",
      "Poland                           87\n",
      "Vietnam                          86\n",
      "Columbia                         85\n",
      "Haiti                            75\n",
      "Portugal                         67\n",
      "Taiwan                           65\n",
      "Iran                             59\n",
      "Greece                           49\n",
      "Nicaragua                        49\n",
      "Peru                             46\n",
      "Ecuador                          45\n",
      "France                           38\n",
      "Ireland                          37\n",
      "Hong                             30\n",
      "Thailand                         30\n",
      "Cambodia                         28\n",
      "Trinadad&Tobago                  27\n",
      "Laos                             23\n",
      "Outlying-US(Guam-USVI-etc)       23\n",
      "Yugoslavia                       23\n",
      "Scotland                         21\n",
      "Honduras                         20\n",
      "Hungary                          19\n",
      "Holand-Netherlands                1\n",
      "Name: pais, dtype: int64\n",
      "\n",
      "\n",
      "region :\n",
      "America    46109\n",
      "Asia         981\n",
      "Europa       780\n",
      "NaN          115\n",
      "Name: region, dtype: int64\n",
      "\n",
      "\n"
     ]
    }
   ],
   "source": [
    "fxpy.valores_ds1(df)"
   ]
  },
  {
   "cell_type": "markdown",
   "metadata": {},
   "source": [
    "occupation, collars, workclass y region tienen altos valores de missing values, los agruparé por regiṕn para saber si es pérdida aleatoria o está concentrada en alguna región en particular"
   ]
  },
  {
   "cell_type": "code",
   "execution_count": 14,
   "metadata": {},
   "outputs": [
    {
     "name": "stdout",
     "output_type": "stream",
     "text": [
      "workclass :\n",
      "region   workclass       \n",
      "America  Private             0.693834\n",
      "         Self-emp-not-inc    0.078770\n",
      "         Local-gov           0.065670\n",
      "         NaN                 0.057386\n",
      "         State-gov           0.040513\n",
      "         Self-emp-inc        0.033855\n",
      "         Federal-gov         0.029322\n",
      "         Without-pay         0.000434\n",
      "         Never-worked        0.000217\n",
      "Asia     Private             0.723751\n",
      "         Self-emp-not-inc    0.059123\n",
      "         State-gov           0.056065\n",
      "         NaN                 0.051988\n",
      "         Self-emp-inc        0.037717\n",
      "         Local-gov           0.035678\n",
      "         Federal-gov         0.034659\n",
      "         Without-pay         0.001019\n",
      "Europa   Private             0.701282\n",
      "         Self-emp-not-inc    0.100000\n",
      "         NaN                 0.053846\n",
      "         Local-gov           0.047436\n",
      "         Self-emp-inc        0.046154\n",
      "         State-gov           0.028205\n",
      "         Federal-gov         0.023077\n",
      "Name: workclass, dtype: float64\n",
      "\n",
      "\n",
      "education :\n",
      "region   education   \n",
      "America  HS-grad         0.328266\n",
      "         Some-college    0.226030\n",
      "         Bachelors       0.159665\n",
      "         Masters         0.052116\n",
      "         Assoc-voc       0.042703\n",
      "         11th            0.038127\n",
      "         Assoc-acdm      0.032792\n",
      "         10th            0.029105\n",
      "         7th-8th         0.019215\n",
      "         Prof-school     0.016092\n",
      "         9th             0.015745\n",
      "         12th            0.013338\n",
      "         Doctorate       0.010779\n",
      "         5th-6th         0.009803\n",
      "         1st-4th         0.004641\n",
      "         Preschool       0.001583\n",
      "Asia     Bachelors       0.279307\n",
      "         HS-grad         0.185525\n",
      "         Some-college    0.161060\n",
      "         Masters         0.117227\n",
      "         Prof-school     0.051988\n",
      "         Doctorate       0.045872\n",
      "         Assoc-acdm      0.033639\n",
      "         Assoc-voc       0.026504\n",
      "         11th            0.022426\n",
      "         5th-6th         0.020387\n",
      "         7th-8th         0.012232\n",
      "         1st-4th         0.011213\n",
      "         10th            0.010194\n",
      "         9th             0.009174\n",
      "         Preschool       0.008155\n",
      "         12th            0.005097\n",
      "Europa   HS-grad         0.296154\n",
      "         Bachelors       0.191026\n",
      "         Some-college    0.152564\n",
      "         Masters         0.066667\n",
      "         Assoc-voc       0.051282\n",
      "         Assoc-acdm      0.042308\n",
      "         7th-8th         0.041026\n",
      "         10th            0.025641\n",
      "         5th-6th         0.023077\n",
      "         Doctorate       0.023077\n",
      "         11th            0.021795\n",
      "         1st-4th         0.019231\n",
      "         12th            0.016667\n",
      "         Prof-school     0.016667\n",
      "         9th             0.012821\n",
      "Name: education, dtype: float64\n",
      "\n",
      "\n",
      "marital-status :\n",
      "region   marital-status       \n",
      "America  Married-civ-spouse       0.455074\n",
      "         Never-married            0.331302\n",
      "         Divorced                 0.138650\n",
      "         Separated                0.031773\n",
      "         Widowed                  0.031165\n",
      "         Married-spouse-absent    0.011256\n",
      "         Married-AF-spouse        0.000781\n",
      "Asia     Married-civ-spouse       0.539246\n",
      "         Never-married            0.303772\n",
      "         Divorced                 0.064220\n",
      "         Married-spouse-absent    0.050968\n",
      "         Separated                0.020387\n",
      "         Widowed                  0.020387\n",
      "         Married-AF-spouse        0.001019\n",
      "Europa   Married-civ-spouse       0.519231\n",
      "         Never-married            0.260256\n",
      "         Divorced                 0.120513\n",
      "         Widowed                  0.046154\n",
      "         Married-spouse-absent    0.028205\n",
      "         Separated                0.025641\n",
      "Name: marital-status, dtype: float64\n",
      "\n",
      "\n",
      "occupation :\n",
      "region   occupation       \n",
      "America  Craft-repair         0.125854\n",
      "         Exec-managerial      0.124141\n",
      "         Prof-specialty       0.122644\n",
      "         Adm-clerical         0.115704\n",
      "         Sales                0.113492\n",
      "         Other-service        0.099655\n",
      "         Machine-op-inspct    0.061571\n",
      "         NaN                  0.057603\n",
      "         Transport-moving     0.049535\n",
      "         Handlers-cleaners    0.043094\n",
      "         Farming-fishing      0.031556\n",
      "         Tech-support         0.029539\n",
      "         Protective-serv      0.020582\n",
      "         Priv-house-serv      0.004728\n",
      "         Armed-Forces         0.000304\n",
      "Asia     Prof-specialty       0.224261\n",
      "         Other-service        0.128440\n",
      "         Adm-clerical         0.127421\n",
      "         Exec-managerial      0.116208\n",
      "         Sales                0.091743\n",
      "         Craft-repair         0.086646\n",
      "         Machine-op-inspct    0.069317\n",
      "         NaN                  0.051988\n",
      "         Tech-support         0.036697\n",
      "         Handlers-cleaners    0.025484\n",
      "         Transport-moving     0.014271\n",
      "         Farming-fishing      0.012232\n",
      "         Protective-serv      0.012232\n",
      "         Priv-house-serv      0.003058\n",
      "Europa   Exec-managerial      0.162821\n",
      "         Craft-repair         0.155128\n",
      "         Prof-specialty       0.152564\n",
      "         Adm-clerical         0.096154\n",
      "         Other-service        0.092308\n",
      "         Machine-op-inspct    0.075641\n",
      "         Sales                0.071795\n",
      "         NaN                  0.053846\n",
      "         Handlers-cleaners    0.039744\n",
      "         Tech-support         0.028205\n",
      "         Transport-moving     0.021795\n",
      "         Protective-serv      0.019231\n",
      "         Farming-fishing      0.016667\n",
      "         Priv-house-serv      0.014103\n",
      "Name: occupation, dtype: float64\n",
      "\n",
      "\n",
      "relationship :\n",
      "region   relationship  \n",
      "America  Husband           0.402394\n",
      "         Not-in-family     0.258496\n",
      "         Own-child         0.157670\n",
      "         Unmarried         0.105641\n",
      "         Wife              0.046650\n",
      "         Other-relative    0.029148\n",
      "Asia     Husband           0.432212\n",
      "         Not-in-family     0.209990\n",
      "         Own-child         0.121305\n",
      "         Unmarried         0.085627\n",
      "         Other-relative    0.077472\n",
      "         Wife              0.073394\n",
      "Europa   Husband           0.450000\n",
      "         Not-in-family     0.269231\n",
      "         Own-child         0.103846\n",
      "         Unmarried         0.092308\n",
      "         Wife              0.058974\n",
      "         Other-relative    0.025641\n",
      "Name: relationship, dtype: float64\n",
      "\n",
      "\n",
      "race :\n",
      "region   race              \n",
      "America  White                 0.874580\n",
      "         Black                 0.097964\n",
      "         Amer-Indian-Eskimo    0.010085\n",
      "         Asian-Pac-Islander    0.009608\n",
      "         Other                 0.007764\n",
      "Asia     Asian-Pac-Islander    0.841998\n",
      "         White                 0.125382\n",
      "         Other                 0.019368\n",
      "         Black                 0.011213\n",
      "         Amer-Indian-Eskimo    0.002039\n",
      "Europa   White                 0.947436\n",
      "         Black                 0.030769\n",
      "         Asian-Pac-Islander    0.015385\n",
      "         Other                 0.005128\n",
      "         Amer-Indian-Eskimo    0.001282\n",
      "Name: race, dtype: float64\n",
      "\n",
      "\n",
      "gender :\n",
      "region   gender\n",
      "America  Male      0.667072\n",
      "         Female    0.332928\n",
      "Asia     Male      0.696228\n",
      "         Female    0.303772\n",
      "Europa   Male      0.678205\n",
      "         Female    0.321795\n",
      "Name: gender, dtype: float64\n",
      "\n",
      "\n",
      "native-country :\n",
      "region   native-country            \n",
      "America  United-States                 0.950617\n",
      "         Mexico                        0.020625\n",
      "         Puerto-Rico                   0.003991\n",
      "         Canada                        0.003947\n",
      "         El-Salvador                   0.003362\n",
      "         Cuba                          0.002993\n",
      "         Jamaica                       0.002299\n",
      "         Dominican-Republic            0.002234\n",
      "         Guatemala                     0.001909\n",
      "         Columbia                      0.001843\n",
      "         Haiti                         0.001627\n",
      "         Nicaragua                     0.001063\n",
      "         Peru                          0.000998\n",
      "         Ecuador                       0.000976\n",
      "         Trinadad&Tobago               0.000586\n",
      "         Outlying-US(Guam-USVI-etc)    0.000499\n",
      "         Honduras                      0.000434\n",
      "Asia     Philippines                   0.300714\n",
      "         India                         0.153925\n",
      "         China                         0.124363\n",
      "         Japan                         0.093782\n",
      "         Vietnam                       0.087666\n",
      "         Taiwan                        0.066259\n",
      "         Iran                          0.060143\n",
      "         Hong                          0.030581\n",
      "         Thailand                      0.030581\n",
      "         Cambodia                      0.028542\n",
      "         Laos                          0.023445\n",
      "Europa   Germany                       0.264103\n",
      "         England                       0.162821\n",
      "         Italy                         0.134615\n",
      "         Poland                        0.111538\n",
      "         Portugal                      0.085897\n",
      "         Greece                        0.062821\n",
      "         France                        0.048718\n",
      "         Ireland                       0.047436\n",
      "         Yugoslavia                    0.029487\n",
      "         Scotland                      0.026923\n",
      "         Hungary                       0.024359\n",
      "         Holand-Netherlands            0.001282\n",
      "Name: native-country, dtype: float64\n",
      "\n",
      "\n",
      "collars :\n",
      "region   collars     \n",
      "America  white-collar    0.505520\n",
      "         blue-collar     0.336919\n",
      "         others          0.099959\n",
      "         NaN             0.057603\n",
      "Asia     white-collar    0.596330\n",
      "         blue-collar     0.223242\n",
      "         others          0.128440\n",
      "         NaN             0.051988\n",
      "Europa   white-collar    0.511538\n",
      "         blue-collar     0.342308\n",
      "         others          0.092308\n",
      "         NaN             0.053846\n",
      "Name: collars, dtype: float64\n",
      "\n",
      "\n",
      "workclass_recod :\n",
      "region   workclass_recod\n",
      "America  Private            0.693834\n",
      "         self-employed      0.112624\n",
      "         state-level-gov    0.106183\n",
      "         NaN                0.057386\n",
      "         federal-gov        0.029322\n",
      "         unemployed         0.000651\n",
      "Asia     Private            0.723751\n",
      "         self-employed      0.096840\n",
      "         state-level-gov    0.091743\n",
      "         NaN                0.051988\n",
      "         federal-gov        0.034659\n",
      "         unemployed         0.001019\n",
      "Europa   Private            0.701282\n",
      "         self-employed      0.146154\n",
      "         state-level-gov    0.075641\n",
      "         NaN                0.053846\n",
      "         federal-gov        0.023077\n",
      "Name: workclass_recod, dtype: float64\n",
      "\n",
      "\n",
      "educ_recod :\n",
      "region   educ_recod       \n",
      "America  high-school          0.443796\n",
      "         college              0.301525\n",
      "         university           0.238652\n",
      "         elementary-school    0.014444\n",
      "         preschool            0.001583\n",
      "Asia     university           0.494393\n",
      "         high-school          0.244648\n",
      "         college              0.221203\n",
      "         elementary-school    0.031600\n",
      "         preschool            0.008155\n",
      "Europa   high-school          0.414103\n",
      "         university           0.297436\n",
      "         college              0.246154\n",
      "         elementary-school    0.042308\n",
      "Name: educ_recod, dtype: float64\n",
      "\n",
      "\n",
      "civstatus :\n",
      "region   civstatus    \n",
      "America  married          0.467111\n",
      "         never-married    0.331302\n",
      "         divorced         0.138650\n",
      "         separated        0.031773\n",
      "         widowed          0.031165\n",
      "Asia     married          0.591233\n",
      "         never-married    0.303772\n",
      "         divorced         0.064220\n",
      "         separated        0.020387\n",
      "         widowed          0.020387\n",
      "Europa   married          0.547436\n",
      "         never-married    0.260256\n",
      "         divorced         0.120513\n",
      "         widowed          0.046154\n",
      "         separated        0.025641\n",
      "Name: civstatus, dtype: float64\n",
      "\n",
      "\n",
      "pais :\n"
     ]
    },
    {
     "name": "stdout",
     "output_type": "stream",
     "text": [
      "region   pais                      \n",
      "America  United-States                 0.950617\n",
      "         Mexico                        0.020625\n",
      "         Puerto-Rico                   0.003991\n",
      "         Canada                        0.003947\n",
      "         El-Salvador                   0.003362\n",
      "         Cuba                          0.002993\n",
      "         Jamaica                       0.002299\n",
      "         Dominican-Republic            0.002234\n",
      "         Guatemala                     0.001909\n",
      "         Columbia                      0.001843\n",
      "         Haiti                         0.001627\n",
      "         Nicaragua                     0.001063\n",
      "         Peru                          0.000998\n",
      "         Ecuador                       0.000976\n",
      "         Trinadad&Tobago               0.000586\n",
      "         Outlying-US(Guam-USVI-etc)    0.000499\n",
      "         Honduras                      0.000434\n",
      "Asia     Philippines                   0.300714\n",
      "         India                         0.153925\n",
      "         China                         0.124363\n",
      "         Japan                         0.093782\n",
      "         Vietnam                       0.087666\n",
      "         Taiwan                        0.066259\n",
      "         Iran                          0.060143\n",
      "         Hong                          0.030581\n",
      "         Thailand                      0.030581\n",
      "         Cambodia                      0.028542\n",
      "         Laos                          0.023445\n",
      "Europa   Germany                       0.264103\n",
      "         England                       0.162821\n",
      "         Italy                         0.134615\n",
      "         Poland                        0.111538\n",
      "         Portugal                      0.085897\n",
      "         Greece                        0.062821\n",
      "         France                        0.048718\n",
      "         Ireland                       0.047436\n",
      "         Yugoslavia                    0.029487\n",
      "         Scotland                      0.026923\n",
      "         Hungary                       0.024359\n",
      "         Holand-Netherlands            0.001282\n",
      "Name: pais, dtype: float64\n",
      "\n",
      "\n"
     ]
    }
   ],
   "source": [
    "fxpy.valores_ds1_grouped(df)"
   ]
  },
  {
   "cell_type": "markdown",
   "metadata": {},
   "source": [
    "En promedio, los \"missing-values\" son un 5% en cada región, lo que nos asegura que si los eliminamos no estamos dejando a una región subrepresentada (más de lo que ya está la muestra original), decidimos eliminar todos los datos nulos.\n",
    "REcodificamos a variables binarias."
   ]
  },
  {
   "cell_type": "code",
   "execution_count": 15,
   "metadata": {},
   "outputs": [],
   "source": [
    "df['female'] = np.where(df['gender'] == 'Female', 1, 0)\n",
    "df_drop = df.dropna()\n",
    "df_drop.columns = df_drop.columns.map(lambda x: str(x).lower().replace('-', '_'))\n",
    "df_drop.head()\n",
    "df_dummies = pd.get_dummies(df_drop, columns=['region','collars','educ_recod','civstatus'])\n",
    "df_dummies.columns = df_dummies.columns.map(lambda x: str(x).lower().replace('-', '_'))\n",
    "df_dummies = df_dummies.dropna()\n"
   ]
  },
  {
   "cell_type": "markdown",
   "metadata": {},
   "source": [
    "### Modelación descriptiva  \n",
    "Decidimos utilizar una regresión logística para predecir la variable binaria 'income'"
   ]
  },
  {
   "cell_type": "code",
   "execution_count": 16,
   "metadata": {},
   "outputs": [
    {
     "name": "stdout",
     "output_type": "stream",
     "text": [
      "Optimization terminated successfully.\n",
      "         Current function value: 0.337908\n",
      "         Iterations 12\n"
     ]
    },
    {
     "data": {
      "text/html": [
       "<table class=\"simpletable\">\n",
       "<caption>Logit Regression Results</caption>\n",
       "<tr>\n",
       "  <th>Dep. Variable:</th>      <td>income</td>      <th>  No. Observations:  </th>  <td> 45121</td> \n",
       "</tr>\n",
       "<tr>\n",
       "  <th>Model:</th>               <td>Logit</td>      <th>  Df Residuals:      </th>  <td> 45101</td> \n",
       "</tr>\n",
       "<tr>\n",
       "  <th>Method:</th>               <td>MLE</td>       <th>  Df Model:          </th>  <td>    19</td> \n",
       "</tr>\n",
       "<tr>\n",
       "  <th>Date:</th>          <td>Sat, 11 Aug 2018</td> <th>  Pseudo R-squ.:     </th>  <td>0.3967</td> \n",
       "</tr>\n",
       "<tr>\n",
       "  <th>Time:</th>              <td>01:10:20</td>     <th>  Log-Likelihood:    </th> <td> -15247.</td>\n",
       "</tr>\n",
       "<tr>\n",
       "  <th>converged:</th>           <td>True</td>       <th>  LL-Null:           </th> <td> -25273.</td>\n",
       "</tr>\n",
       "<tr>\n",
       "  <th> </th>                      <td> </td>        <th>  LLR p-value:       </th>  <td> 0.000</td> \n",
       "</tr>\n",
       "</table>\n",
       "<table class=\"simpletable\">\n",
       "<tr>\n",
       "                <td></td>                  <th>coef</th>     <th>std err</th>      <th>z</th>      <th>P>|z|</th>  <th>[0.025</th>    <th>0.975]</th>  \n",
       "</tr>\n",
       "<tr>\n",
       "  <th>Intercept</th>                    <td>   -7.8339</td> <td>    0.289</td> <td>  -27.143</td> <td> 0.000</td> <td>   -8.400</td> <td>   -7.268</td>\n",
       "</tr>\n",
       "<tr>\n",
       "  <th>age</th>                          <td>    0.0244</td> <td>    0.001</td> <td>   18.768</td> <td> 0.000</td> <td>    0.022</td> <td>    0.027</td>\n",
       "</tr>\n",
       "<tr>\n",
       "  <th>fnlwgt</th>                       <td> 7.016e-07</td> <td> 1.37e-07</td> <td>    5.107</td> <td> 0.000</td> <td> 4.32e-07</td> <td> 9.71e-07</td>\n",
       "</tr>\n",
       "<tr>\n",
       "  <th>educational_num</th>              <td>    0.2829</td> <td>    0.016</td> <td>   17.735</td> <td> 0.000</td> <td>    0.252</td> <td>    0.314</td>\n",
       "</tr>\n",
       "<tr>\n",
       "  <th>capital_gain</th>                 <td>    0.0003</td> <td> 8.61e-06</td> <td>   37.544</td> <td> 0.000</td> <td>    0.000</td> <td>    0.000</td>\n",
       "</tr>\n",
       "<tr>\n",
       "  <th>capital_loss</th>                 <td>    0.0007</td> <td> 3.07e-05</td> <td>   21.697</td> <td> 0.000</td> <td>    0.001</td> <td>    0.001</td>\n",
       "</tr>\n",
       "<tr>\n",
       "  <th>hours_per_week</th>               <td>    0.0282</td> <td>    0.001</td> <td>   21.951</td> <td> 0.000</td> <td>    0.026</td> <td>    0.031</td>\n",
       "</tr>\n",
       "<tr>\n",
       "  <th>female</th>                       <td>   -0.2950</td> <td>    0.042</td> <td>   -7.089</td> <td> 0.000</td> <td>   -0.377</td> <td>   -0.213</td>\n",
       "</tr>\n",
       "<tr>\n",
       "  <th>region_america</th>               <td>    0.2612</td> <td>    0.098</td> <td>    2.675</td> <td> 0.007</td> <td>    0.070</td> <td>    0.453</td>\n",
       "</tr>\n",
       "<tr>\n",
       "  <th>region_europa</th>                <td>    0.4393</td> <td>    0.142</td> <td>    3.095</td> <td> 0.002</td> <td>    0.161</td> <td>    0.717</td>\n",
       "</tr>\n",
       "<tr>\n",
       "  <th>collars_blue_collar</th>          <td>   -0.6407</td> <td>    0.035</td> <td>  -18.236</td> <td> 0.000</td> <td>   -0.710</td> <td>   -0.572</td>\n",
       "</tr>\n",
       "<tr>\n",
       "  <th>collars_others</th>               <td>   -1.3546</td> <td>    0.085</td> <td>  -15.954</td> <td> 0.000</td> <td>   -1.521</td> <td>   -1.188</td>\n",
       "</tr>\n",
       "<tr>\n",
       "  <th>educ_recod_college</th>           <td>   -0.0794</td> <td>    0.060</td> <td>   -1.316</td> <td> 0.188</td> <td>   -0.198</td> <td>    0.039</td>\n",
       "</tr>\n",
       "<tr>\n",
       "  <th>educ_recod_elementary_school</th> <td>    0.0534</td> <td>    0.265</td> <td>    0.202</td> <td> 0.840</td> <td>   -0.465</td> <td>    0.572</td>\n",
       "</tr>\n",
       "<tr>\n",
       "  <th>educ_recod_high_school</th>       <td>   -0.1347</td> <td>    0.086</td> <td>   -1.574</td> <td> 0.116</td> <td>   -0.303</td> <td>    0.033</td>\n",
       "</tr>\n",
       "<tr>\n",
       "  <th>educ_recod_preschool</th>         <td>   -4.8023</td> <td>    5.995</td> <td>   -0.801</td> <td> 0.423</td> <td>  -16.553</td> <td>    6.948</td>\n",
       "</tr>\n",
       "<tr>\n",
       "  <th>civstatus_divorced</th>           <td>   -0.0030</td> <td>    0.126</td> <td>   -0.024</td> <td> 0.981</td> <td>   -0.250</td> <td>    0.244</td>\n",
       "</tr>\n",
       "<tr>\n",
       "  <th>civstatus_married</th>            <td>    2.1509</td> <td>    0.121</td> <td>   17.839</td> <td> 0.000</td> <td>    1.915</td> <td>    2.387</td>\n",
       "</tr>\n",
       "<tr>\n",
       "  <th>civstatus_never_married</th>      <td>   -0.5082</td> <td>    0.128</td> <td>   -3.961</td> <td> 0.000</td> <td>   -0.760</td> <td>   -0.257</td>\n",
       "</tr>\n",
       "<tr>\n",
       "  <th>civstatus_separated</th>          <td>   -0.0714</td> <td>    0.168</td> <td>   -0.424</td> <td> 0.671</td> <td>   -0.401</td> <td>    0.258</td>\n",
       "</tr>\n",
       "</table>"
      ],
      "text/plain": [
       "<class 'statsmodels.iolib.summary.Summary'>\n",
       "\"\"\"\n",
       "                           Logit Regression Results                           \n",
       "==============================================================================\n",
       "Dep. Variable:                 income   No. Observations:                45121\n",
       "Model:                          Logit   Df Residuals:                    45101\n",
       "Method:                           MLE   Df Model:                           19\n",
       "Date:                Sat, 11 Aug 2018   Pseudo R-squ.:                  0.3967\n",
       "Time:                        01:10:20   Log-Likelihood:                -15247.\n",
       "converged:                       True   LL-Null:                       -25273.\n",
       "                                        LLR p-value:                     0.000\n",
       "================================================================================================\n",
       "                                   coef    std err          z      P>|z|      [0.025      0.975]\n",
       "------------------------------------------------------------------------------------------------\n",
       "Intercept                       -7.8339      0.289    -27.143      0.000      -8.400      -7.268\n",
       "age                              0.0244      0.001     18.768      0.000       0.022       0.027\n",
       "fnlwgt                        7.016e-07   1.37e-07      5.107      0.000    4.32e-07    9.71e-07\n",
       "educational_num                  0.2829      0.016     17.735      0.000       0.252       0.314\n",
       "capital_gain                     0.0003   8.61e-06     37.544      0.000       0.000       0.000\n",
       "capital_loss                     0.0007   3.07e-05     21.697      0.000       0.001       0.001\n",
       "hours_per_week                   0.0282      0.001     21.951      0.000       0.026       0.031\n",
       "female                          -0.2950      0.042     -7.089      0.000      -0.377      -0.213\n",
       "region_america                   0.2612      0.098      2.675      0.007       0.070       0.453\n",
       "region_europa                    0.4393      0.142      3.095      0.002       0.161       0.717\n",
       "collars_blue_collar             -0.6407      0.035    -18.236      0.000      -0.710      -0.572\n",
       "collars_others                  -1.3546      0.085    -15.954      0.000      -1.521      -1.188\n",
       "educ_recod_college              -0.0794      0.060     -1.316      0.188      -0.198       0.039\n",
       "educ_recod_elementary_school     0.0534      0.265      0.202      0.840      -0.465       0.572\n",
       "educ_recod_high_school          -0.1347      0.086     -1.574      0.116      -0.303       0.033\n",
       "educ_recod_preschool            -4.8023      5.995     -0.801      0.423     -16.553       6.948\n",
       "civstatus_divorced              -0.0030      0.126     -0.024      0.981      -0.250       0.244\n",
       "civstatus_married                2.1509      0.121     17.839      0.000       1.915       2.387\n",
       "civstatus_never_married         -0.5082      0.128     -3.961      0.000      -0.760      -0.257\n",
       "civstatus_separated             -0.0714      0.168     -0.424      0.671      -0.401       0.258\n",
       "================================================================================================\n",
       "\"\"\""
      ]
     },
     "execution_count": 16,
     "metadata": {},
     "output_type": "execute_result"
    }
   ],
   "source": [
    "model1 = smf.logit('income ~ age + fnlwgt + educational_num + capital_gain + capital_loss + hours_per_week + female + region_america + region_europa + collars_blue_collar + collars_others + educ_recod_college + educ_recod_elementary_school + educ_recod_high_school + educ_recod_preschool + civstatus_divorced + civstatus_married + civstatus_never_married + civstatus_separated', data = df_dummies).fit()\n",
    "model1.summary()"
   ]
  },
  {
   "cell_type": "markdown",
   "metadata": {},
   "source": [
    "En primera instancia notamos que hay variables no significativas, como educ_recod, civstatus_divorced y civstatus separated. Es interesante que las variables educativas no son significativas, probablemente porque ya se encuentra la variable educational number.  \n",
    "El hecho de que la región sea de Europa, influye casi en el doble que si la región es americana. Por otro lado, el hecho de haberse casado también influye positivamente, en cambio los no casados al parecer tienen menor probabilidad de tener ingresos sobre 50k"
   ]
  },
  {
   "cell_type": "markdown",
   "metadata": {},
   "source": [
    "### Modelación predictiva"
   ]
  },
  {
   "cell_type": "markdown",
   "metadata": {},
   "source": [
    "Utilizaremos un modelo saturado para la primera iteración"
   ]
  },
  {
   "cell_type": "code",
   "execution_count": 28,
   "metadata": {},
   "outputs": [
    {
     "name": "stdout",
     "output_type": "stream",
     "text": [
      "Matriz de confusión: \n",
      " [[10406   821]\n",
      " [ 1466  2197]]\n",
      "\n",
      " Classification Report: \n",
      "\n",
      "             precision    recall  f1-score   support\n",
      "\n",
      "          0       0.88      0.93      0.90     11227\n",
      "          1       0.73      0.60      0.66      3663\n",
      "\n",
      "avg / total       0.84      0.85      0.84     14890\n",
      "\n"
     ]
    }
   ],
   "source": [
    "\n",
    "X_train, X_test, y_train, y_test = train_test_split(df_dummies[['age','educational_num','capital_gain','capital_loss','hours_per_week','female','region_asia', 'region_europa', 'collars_blue_collar', 'collars_others',\n",
    "       'educ_recod_college',\n",
    "       'educ_recod_elementary_school', 'educ_recod_high_school',\n",
    "       'educ_recod_preschool', 'civstatus_divorced',\n",
    "       'civstatus_married', 'civstatus_never_married', 'civstatus_separated']],\n",
    "                                                   df_dummies['income'],\n",
    "                                                   test_size=.33,\n",
    "                                                   random_state=3249436)\n",
    "\n",
    "\n",
    "# estandarizamos la matriz de entrenamiento\n",
    "X_train_std = StandardScaler().fit_transform(X_train)\n",
    "# estandarizamos la matriz de validación\n",
    "X_test_std = StandardScaler().fit_transform(X_test)\n",
    "\n",
    "# iniciamos el modelo con la clase LogisticRegression y pasamos los datos en fit.\n",
    "default_model = LogisticRegression().fit(X_train_std, y_train)\n",
    "\n",
    "yhat = default_model.predict(X_test_std)\n",
    "m1_confusion = confusion_matrix(y_test, yhat)\n",
    "print('Matriz de confusión: \\n',m1_confusion)\n",
    "print('\\n Classification Report: \\n')\n",
    "print(classification_report(y_test, yhat))"
   ]
  },
  {
   "cell_type": "markdown",
   "metadata": {},
   "source": [
    "Los verdaderos positivos y negativos son mucho mayores que los falsos positivos y negativos. Por otro lado, nuestro puntaje f1 es de un 0.84 %. Revisemos la curva ROC:"
   ]
  },
  {
   "cell_type": "code",
   "execution_count": 29,
   "metadata": {},
   "outputs": [
    {
     "name": "stdout",
     "output_type": "stream",
     "text": [
      "El área bajo la curva es: 0.9\n"
     ]
    },
    {
     "data": {
      "image/png": "[encoded data removed]",
      "text/plain": [
       "<Figure size 432x288 with 1 Axes>"
      ]
     },
     "metadata": {},
     "output_type": "display_data"
    }
   ],
   "source": [
    "# reestimamos los valores predichos de nuestro modelo para obtener la probabilidad entre 0 y 1.\n",
    "yhat = default_model.predict_proba(X_test_std)[:, 1]\n",
    "# generamos los objetos de roc_cruve\n",
    "false_positive, true_positive, threshold = roc_curve(y_test, yhat)\n",
    "# Plot ROC curve\n",
    "plt.title('Curva ROC')\n",
    "plt.plot(false_positive, true_positive, lw=1)\n",
    "plt.plot([0, 1], ls=\"--\", lw=1)\n",
    "plt.plot([0, 0], [1, 0] , c='limegreen', lw=3), plt.plot([1, 1] , c='limegreen', lw=3)\n",
    "plt.ylabel('Verdaderos Positivos')\n",
    "plt.xlabel('Falsos Positivos');\n",
    "from sklearn.metrics import roc_auc_score\n",
    "print('El área bajo la curva es:',round(roc_auc_score(y_test, yhat),2))"
   ]
  },
  {
   "cell_type": "markdown",
   "metadata": {},
   "source": [
    "0.9 habla muy bien de nuestro modelo predictivo (0.4 más efectivo que el caso aleatorio)  \n",
    "Depuraremos nuestro modelo ahora para intentar mejorarlo. Utilizaremos solo las variables significativas"
   ]
  },
  {
   "cell_type": "code",
   "execution_count": 33,
   "metadata": {},
   "outputs": [
    {
     "name": "stdout",
     "output_type": "stream",
     "text": [
      "Matriz de confusión: \n",
      " [[10408   819]\n",
      " [ 1466  2197]]\n",
      "\n",
      " Classification Report: \n",
      "\n",
      "             precision    recall  f1-score   support\n",
      "\n",
      "          0       0.88      0.93      0.90     11227\n",
      "          1       0.73      0.60      0.66      3663\n",
      "\n",
      "avg / total       0.84      0.85      0.84     14890\n",
      "\n"
     ]
    }
   ],
   "source": [
    "X_train, X_test, y_train, y_test = train_test_split(df_dummies[['age','educational_num','capital_gain','capital_loss','hours_per_week','female','region_asia', 'region_europa', 'collars_blue_collar', 'collars_others',\n",
    "    \n",
    "       'civstatus_married', 'civstatus_never_married']],\n",
    "                                                   df_dummies['income'],\n",
    "                                                   test_size=.33,\n",
    "                                                   random_state=3249436)\n",
    "\n",
    "\n",
    "# estandarizamos la matriz de entrenamiento\n",
    "X_train_std = StandardScaler().fit_transform(X_train)\n",
    "# estandarizamos la matriz de validación\n",
    "X_test_std = StandardScaler().fit_transform(X_test)\n",
    "\n",
    "# iniciamos el modelo con la clase LogisticRegression y pasamos los datos en fit.\n",
    "default_model = LogisticRegression().fit(X_train_std, y_train)\n",
    "\n",
    "yhat = default_model.predict(X_test_std)\n",
    "m1_confusion = confusion_matrix(y_test, yhat)\n",
    "print('Matriz de confusión: \\n',m1_confusion)\n",
    "print('\\n Classification Report: \\n')\n",
    "print(classification_report(y_test, yhat))"
   ]
  },
  {
   "cell_type": "markdown",
   "metadata": {},
   "source": [
    "EL modelo es muy similar, pero mejoramos su predicción en 2 casos positivos"
   ]
  },
  {
   "cell_type": "code",
   "execution_count": 34,
   "metadata": {},
   "outputs": [
    {
     "name": "stdout",
     "output_type": "stream",
     "text": [
      "El área bajo la curva es: 0.9\n"
     ]
    },
    {
     "data": {
      "image/png": "[encoded data removed]",
      "text/plain": [
       "<Figure size 432x288 with 1 Axes>"
      ]
     },
     "metadata": {},
     "output_type": "display_data"
    }
   ],
   "source": [
    "# reestimamos los valores predichos de nuestro modelo para obtener la probabilidad entre 0 y 1.\n",
    "yhat = default_model.predict_proba(X_test_std)[:, 1]\n",
    "\n",
    "# generamos los objetos de roc_cruve\n",
    "false_positive, true_positive, threshold = roc_curve(y_test, yhat)\n",
    "# Plot ROC curve\n",
    "plt.title('Curva ROC')\n",
    "plt.plot(false_positive, true_positive, lw=1)\n",
    "plt.plot([0, 1], ls=\"--\", lw=1)\n",
    "plt.plot([0, 0], [1, 0] , c='limegreen', lw=3), plt.plot([1, 1] , c='limegreen', lw=3)\n",
    "plt.ylabel('Verdaderos Positivos')\n",
    "plt.xlabel('Falsos Positivos');\n",
    "from sklearn.metrics import roc_auc_score\n",
    "print('El área bajo la curva es:',round(roc_auc_score(y_test, yhat),2))"
   ]
  },
  {
   "cell_type": "markdown",
   "metadata": {},
   "source": [
    "La curva ROC es similar también"
   ]
  },
  {
   "cell_type": "markdown",
   "metadata": {},
   "source": [
    "Para el 3er modelo compararemos un modelo polinomial de segundo grado, utilizando las mismas variables del modelo anterior (estadísticamente significativas)\n"
   ]
  },
  {
   "cell_type": "code",
   "execution_count": null,
   "metadata": {},
   "outputs": [
    {
     "name": "stdout",
     "output_type": "stream",
     "text": [
      "Orden: 1, cantidad de atributos estimables: 12. AUC estimada: 0.899\n",
      "Matriz de confusión: \n",
      " [[10405   822]\n",
      " [ 1463  2200]]\n",
      "\n",
      " Classification Report: \n",
      "\n",
      "             precision    recall  f1-score   support\n",
      "\n",
      "          0       0.88      0.93      0.90     11227\n",
      "          1       0.73      0.60      0.66      3663\n",
      "\n",
      "avg / total       0.84      0.85      0.84     14890\n",
      "\n",
      "Orden: 2, cantidad de atributos estimables: 90. AUC estimada: 0.906\n",
      "Matriz de confusión: \n",
      " [[10385   842]\n",
      " [ 1367  2296]]\n",
      "\n",
      " Classification Report: \n",
      "\n",
      "             precision    recall  f1-score   support\n",
      "\n",
      "          0       0.88      0.93      0.90     11227\n",
      "          1       0.73      0.63      0.68      3663\n",
      "\n",
      "avg / total       0.85      0.85      0.85     14890\n",
      "\n"
     ]
    }
   ],
   "source": [
    "std_matrix = StandardScaler().fit_transform(df_dummies[['age','educational_num','capital_gain','capital_loss','hours_per_week','female','region_asia', 'region_europa', 'collars_blue_collar', 'collars_others',\n",
    "    \n",
    "       'civstatus_married', 'civstatus_never_married']])\n",
    "polynomial_order = [1,2,3]\n",
    "# por cada elemento del array\n",
    "for i in polynomial_order:\n",
    "    #generamos muestras segmentadas\n",
    "    X_train_tmp, X_test_tmp, y_train_tmp, y_test_tmp = train_test_split(std_matrix,\n",
    "                                                   df_dummies['income'],\n",
    "                                                   test_size=.33,\n",
    "                                                   random_state=3249436)\n",
    "    # Transformamos la muestra de entrenamiento por i polinomio\n",
    "    X_train_tmp = PolynomialFeatures(degree=i,\n",
    "                                     interaction_only=False,\n",
    "                                     include_bias=False).fit_transform(X_train_tmp)\n",
    "    # Transformamos la muestra de evaluación por i polinomio\n",
    "    X_test_tmp = PolynomialFeatures(degree=i,\n",
    "                                    interaction_only=False,\n",
    "                                    include_bias=False).fit_transform(X_test_tmp)\n",
    "    # Generamos el modelo predictivo\n",
    "    tmp_model = LogisticRegression().fit(X_train_tmp, y_train_tmp)\n",
    "    # Guardamos las predicciones de probabilidad\n",
    "    tmp_pred = tmp_model.predict_proba(X_test_tmp)[:,1]\n",
    "    \n",
    "    #Generamos la matriz de confusión y el reporte de clasificación\n",
    "    yhat = tmp_model.predict(X_test_tmp)\n",
    "    m1_confusion = confusion_matrix(y_test_tmp, yhat)\n",
    "   \n",
    " \n",
    "    # generamos los arrays con roc_curve\n",
    "    false_positive, true_positive, threshold = roc_curve(y_test_tmp,\n",
    "                                                         tmp_pred)\n",
    " \n",
    "\n",
    "    # redondeamos los valores del puntaje AUC\n",
    "    roc_auc_tmp = round(roc_auc_score(y_test_tmp, tmp_pred), 3)\n",
    "    # graficamos\n",
    "    plt.plot(false_positive,\n",
    "             true_positive,\n",
    "             label = 'Orden: {0} - AUC: {1}'.format(i, roc_auc_tmp))\n",
    "    plt.plot([0, 1], ls=\"--\")\n",
    "    plt.plot([0, 0], [1, 0] , c='limegreen', lw=3),\n",
    "    plt.plot([1, 1] , c='limegreen', lw=3)\n",
    "    plt.ylabel('True Positive Rate')\n",
    "    plt.xlabel('False Positive Rate')\n",
    "    plt.legend()\n",
    "    # solicitamos información de iteración\n",
    "    print(\"Orden: {0}, cantidad de atributos estimables: {1}. AUC estimada: {2}\".format(i, X_train_tmp.shape[1], roc_auc_tmp))    \n",
    "    print('Matriz de confusión: \\n',m1_confusion)\n",
    "    print('\\n Classification Report: \\n')\n",
    "    print(classification_report(y_test, yhat))"
   ]
  },
  {
   "cell_type": "markdown",
   "metadata": {},
   "source": [
    "El modelo polinomial mejora el f1 en 0.01 y el área roc en 0.007. Tenemos menos verdaderos positivos pero es mejor predictor en el caso de los casos negativos. De todas maneras, nuestras métricas son la curva ROC y el F1, por lo que el modelo mejor comportado es el N°3, sólo variables relevantes y polinomial de grado 2"
   ]
  },
  {
   "cell_type": "markdown",
   "metadata": {},
   "source": [
    "## Segundo Problema"
   ]
  },
  {
   "cell_type": "markdown",
   "metadata": {},
   "source": [
    "### Preliminares\n",
    "El objetivo es generar un modelo predictivo que identifique aquellos alumnos que presentan un bajo desempeño académico. En este caso desarrollaremos una descripción y un modelo descriptivo de la muestra, para luego realizar una regresión lineal basada en los atributos más relevantes encontrados en la parte descriptiva. Para elegir el mejor modelo de regresión ocuparemos el MSE\n",
    "### Aspectos computacionales\n",
    "\n",
    "Se trae la tríada de bibliotecas de DS (pandas, numpy y matplotlib), además de seaborn para ayudarnos en los gráficos. Por otro lado, se trae statsmodels para poder generar el modelo descriptivo y bibliotecas de sklearn para implementar el modelo de regresión y medir sus métricas de desempeño. Finalmente, se crearon funciones especialmente para este notebook, que nos ayudarán a generar gráficos para todo el df y no trabajar columna a columna."
   ]
  },
  {
   "cell_type": "markdown",
   "metadata": {},
   "source": [
    "## Descripción"
   ]
  },
  {
   "cell_type": "markdown",
   "metadata": {},
   "source": [
    "Leemos el archivo csv y pasamos las variables age, health y goout a numéricas"
   ]
  },
  {
   "cell_type": "code",
   "execution_count": 2,
   "metadata": {},
   "outputs": [],
   "source": [
    "df = pd.read_csv('students.csv', sep = '|',index_col=0).replace(['sem validade', 'nulidade', 'zero'], np.nan).dropna()\n",
    "for i in ['age','health','goout','Medu','Fedu','traveltime','studytime','failures','famrel','freetime','absences','Dalc','Walc','G1','G3']:\n",
    "\n",
    "    df[i] = df[i].str.replace('\\\"', '').astype(int)"
   ]
  },
  {
   "cell_type": "code",
   "execution_count": 3,
   "metadata": {},
   "outputs": [
    {
     "data": {
      "text/plain": [
       "Index(['school', 'sex', 'age', 'address', 'famsize', 'Pstatus', 'Medu', 'Fedu',\n",
       "       'Mjob', 'Fjob', 'reason', 'guardian', 'traveltime', 'studytime',\n",
       "       'failures', 'schoolsup', 'famsup', 'paid', 'activities', 'nursery',\n",
       "       'higher', 'internet', 'romantic', 'famrel', 'freetime', 'goout', 'Dalc',\n",
       "       'Walc', 'health', 'absences', 'G1', 'G2', 'G3'],\n",
       "      dtype='object')"
      ]
     },
     "execution_count": 3,
     "metadata": {},
     "output_type": "execute_result"
    }
   ],
   "source": [
    "df.columns"
   ]
  },
  {
   "cell_type": "code",
   "execution_count": 4,
   "metadata": {},
   "outputs": [
    {
     "data": {
      "text/html": [
       "<div>\n",
       "<style scoped>\n",
       "    .dataframe tbody tr th:only-of-type {\n",
       "        vertical-align: middle;\n",
       "    }\n",
       "\n",
       "    .dataframe tbody tr th {\n",
       "        vertical-align: top;\n",
       "    }\n",
       "\n",
       "    .dataframe thead th {\n",
       "        text-align: right;\n",
       "    }\n",
       "</style>\n",
       "<table border=\"1\" class=\"dataframe\">\n",
       "  <thead>\n",
       "    <tr style=\"text-align: right;\">\n",
       "      <th></th>\n",
       "      <th>age</th>\n",
       "      <th>Medu</th>\n",
       "      <th>Fedu</th>\n",
       "      <th>traveltime</th>\n",
       "      <th>studytime</th>\n",
       "      <th>failures</th>\n",
       "      <th>famrel</th>\n",
       "      <th>freetime</th>\n",
       "      <th>goout</th>\n",
       "      <th>Dalc</th>\n",
       "      <th>Walc</th>\n",
       "      <th>health</th>\n",
       "      <th>absences</th>\n",
       "      <th>G1</th>\n",
       "      <th>G2</th>\n",
       "      <th>G3</th>\n",
       "    </tr>\n",
       "  </thead>\n",
       "  <tbody>\n",
       "    <tr>\n",
       "      <th>count</th>\n",
       "      <td>284.000000</td>\n",
       "      <td>284.000000</td>\n",
       "      <td>284.000000</td>\n",
       "      <td>284.000000</td>\n",
       "      <td>284.000000</td>\n",
       "      <td>284.000000</td>\n",
       "      <td>284.000000</td>\n",
       "      <td>284.00000</td>\n",
       "      <td>284.000000</td>\n",
       "      <td>284.000000</td>\n",
       "      <td>284.000000</td>\n",
       "      <td>284.000000</td>\n",
       "      <td>284.000000</td>\n",
       "      <td>284.000000</td>\n",
       "      <td>284.000000</td>\n",
       "      <td>284.000000</td>\n",
       "    </tr>\n",
       "    <tr>\n",
       "      <th>mean</th>\n",
       "      <td>16.707746</td>\n",
       "      <td>2.774648</td>\n",
       "      <td>2.521127</td>\n",
       "      <td>1.475352</td>\n",
       "      <td>2.049296</td>\n",
       "      <td>0.334507</td>\n",
       "      <td>3.940141</td>\n",
       "      <td>3.18662</td>\n",
       "      <td>3.084507</td>\n",
       "      <td>1.482394</td>\n",
       "      <td>2.239437</td>\n",
       "      <td>3.626761</td>\n",
       "      <td>5.588028</td>\n",
       "      <td>10.933099</td>\n",
       "      <td>10.640845</td>\n",
       "      <td>10.394366</td>\n",
       "    </tr>\n",
       "    <tr>\n",
       "      <th>std</th>\n",
       "      <td>1.284238</td>\n",
       "      <td>1.095409</td>\n",
       "      <td>1.091038</td>\n",
       "      <td>0.695334</td>\n",
       "      <td>0.843411</td>\n",
       "      <td>0.730994</td>\n",
       "      <td>0.881659</td>\n",
       "      <td>1.02117</td>\n",
       "      <td>1.076527</td>\n",
       "      <td>0.879512</td>\n",
       "      <td>1.285580</td>\n",
       "      <td>1.319113</td>\n",
       "      <td>8.156335</td>\n",
       "      <td>3.289199</td>\n",
       "      <td>3.789220</td>\n",
       "      <td>4.565902</td>\n",
       "    </tr>\n",
       "    <tr>\n",
       "      <th>min</th>\n",
       "      <td>15.000000</td>\n",
       "      <td>0.000000</td>\n",
       "      <td>0.000000</td>\n",
       "      <td>1.000000</td>\n",
       "      <td>1.000000</td>\n",
       "      <td>0.000000</td>\n",
       "      <td>1.000000</td>\n",
       "      <td>1.00000</td>\n",
       "      <td>1.000000</td>\n",
       "      <td>1.000000</td>\n",
       "      <td>1.000000</td>\n",
       "      <td>1.000000</td>\n",
       "      <td>0.000000</td>\n",
       "      <td>4.000000</td>\n",
       "      <td>0.000000</td>\n",
       "      <td>0.000000</td>\n",
       "    </tr>\n",
       "    <tr>\n",
       "      <th>25%</th>\n",
       "      <td>16.000000</td>\n",
       "      <td>2.000000</td>\n",
       "      <td>2.000000</td>\n",
       "      <td>1.000000</td>\n",
       "      <td>1.000000</td>\n",
       "      <td>0.000000</td>\n",
       "      <td>4.000000</td>\n",
       "      <td>3.00000</td>\n",
       "      <td>2.000000</td>\n",
       "      <td>1.000000</td>\n",
       "      <td>1.000000</td>\n",
       "      <td>3.000000</td>\n",
       "      <td>0.000000</td>\n",
       "      <td>8.000000</td>\n",
       "      <td>9.000000</td>\n",
       "      <td>8.000000</td>\n",
       "    </tr>\n",
       "    <tr>\n",
       "      <th>50%</th>\n",
       "      <td>17.000000</td>\n",
       "      <td>3.000000</td>\n",
       "      <td>3.000000</td>\n",
       "      <td>1.000000</td>\n",
       "      <td>2.000000</td>\n",
       "      <td>0.000000</td>\n",
       "      <td>4.000000</td>\n",
       "      <td>3.00000</td>\n",
       "      <td>3.000000</td>\n",
       "      <td>1.000000</td>\n",
       "      <td>2.000000</td>\n",
       "      <td>4.000000</td>\n",
       "      <td>4.000000</td>\n",
       "      <td>11.000000</td>\n",
       "      <td>10.500000</td>\n",
       "      <td>11.000000</td>\n",
       "    </tr>\n",
       "    <tr>\n",
       "      <th>75%</th>\n",
       "      <td>18.000000</td>\n",
       "      <td>4.000000</td>\n",
       "      <td>3.000000</td>\n",
       "      <td>2.000000</td>\n",
       "      <td>2.000000</td>\n",
       "      <td>0.000000</td>\n",
       "      <td>5.000000</td>\n",
       "      <td>4.00000</td>\n",
       "      <td>4.000000</td>\n",
       "      <td>2.000000</td>\n",
       "      <td>3.000000</td>\n",
       "      <td>5.000000</td>\n",
       "      <td>7.000000</td>\n",
       "      <td>13.000000</td>\n",
       "      <td>13.000000</td>\n",
       "      <td>13.000000</td>\n",
       "    </tr>\n",
       "    <tr>\n",
       "      <th>max</th>\n",
       "      <td>21.000000</td>\n",
       "      <td>4.000000</td>\n",
       "      <td>4.000000</td>\n",
       "      <td>4.000000</td>\n",
       "      <td>4.000000</td>\n",
       "      <td>3.000000</td>\n",
       "      <td>5.000000</td>\n",
       "      <td>5.00000</td>\n",
       "      <td>5.000000</td>\n",
       "      <td>5.000000</td>\n",
       "      <td>5.000000</td>\n",
       "      <td>5.000000</td>\n",
       "      <td>75.000000</td>\n",
       "      <td>19.000000</td>\n",
       "      <td>19.000000</td>\n",
       "      <td>20.000000</td>\n",
       "    </tr>\n",
       "  </tbody>\n",
       "</table>\n",
       "</div>"
      ],
      "text/plain": [
       "              age        Medu        Fedu  traveltime   studytime    failures  \\\n",
       "count  284.000000  284.000000  284.000000  284.000000  284.000000  284.000000   \n",
       "mean    16.707746    2.774648    2.521127    1.475352    2.049296    0.334507   \n",
       "std      1.284238    1.095409    1.091038    0.695334    0.843411    0.730994   \n",
       "min     15.000000    0.000000    0.000000    1.000000    1.000000    0.000000   \n",
       "25%     16.000000    2.000000    2.000000    1.000000    1.000000    0.000000   \n",
       "50%     17.000000    3.000000    3.000000    1.000000    2.000000    0.000000   \n",
       "75%     18.000000    4.000000    3.000000    2.000000    2.000000    0.000000   \n",
       "max     21.000000    4.000000    4.000000    4.000000    4.000000    3.000000   \n",
       "\n",
       "           famrel   freetime       goout        Dalc        Walc      health  \\\n",
       "count  284.000000  284.00000  284.000000  284.000000  284.000000  284.000000   \n",
       "mean     3.940141    3.18662    3.084507    1.482394    2.239437    3.626761   \n",
       "std      0.881659    1.02117    1.076527    0.879512    1.285580    1.319113   \n",
       "min      1.000000    1.00000    1.000000    1.000000    1.000000    1.000000   \n",
       "25%      4.000000    3.00000    2.000000    1.000000    1.000000    3.000000   \n",
       "50%      4.000000    3.00000    3.000000    1.000000    2.000000    4.000000   \n",
       "75%      5.000000    4.00000    4.000000    2.000000    3.000000    5.000000   \n",
       "max      5.000000    5.00000    5.000000    5.000000    5.000000    5.000000   \n",
       "\n",
       "         absences          G1          G2          G3  \n",
       "count  284.000000  284.000000  284.000000  284.000000  \n",
       "mean     5.588028   10.933099   10.640845   10.394366  \n",
       "std      8.156335    3.289199    3.789220    4.565902  \n",
       "min      0.000000    4.000000    0.000000    0.000000  \n",
       "25%      0.000000    8.000000    9.000000    8.000000  \n",
       "50%      4.000000   11.000000   10.500000   11.000000  \n",
       "75%      7.000000   13.000000   13.000000   13.000000  \n",
       "max     75.000000   19.000000   19.000000   20.000000  "
      ]
     },
     "execution_count": 4,
     "metadata": {},
     "output_type": "execute_result"
    }
   ],
   "source": [
    "df.describe()"
   ]
  },
  {
   "cell_type": "markdown",
   "metadata": {},
   "source": [
    "Tenemos 284 observaciones, con una media de dedad de 16,7 años. Se vislumbra una gran varianza en la variable 'absences' y haremos una observación de histogramas para ver de que forma se distribuyen las variables. Los resultados en G1 tienden a ser ligeramente superiores que G2, mas la varianza de G2 es mayor."
   ]
  },
  {
   "cell_type": "code",
   "execution_count": 5,
   "metadata": {},
   "outputs": [
    {
     "data": {
      "image/png": "[encoded data removed]",
      "text/plain": [
       "<Figure size 432x288 with 1 Axes>"
      ]
     },
     "metadata": {},
     "output_type": "display_data"
    },
    {
     "data": {
      "image/png": "[encoded data removed]",
      "text/plain": [
       "<Figure size 432x288 with 1 Axes>"
      ]
     },
     "metadata": {},
     "output_type": "display_data"
    },
    {
     "data": {
      "image/png": "[encoded data removed]",
      "text/plain": [
       "<Figure size 432x288 with 1 Axes>"
      ]
     },
     "metadata": {},
     "output_type": "display_data"
    },
    {
     "data": {
      "image/png": "[encoded data removed]",
      "text/plain": [
       "<Figure size 432x288 with 1 Axes>"
      ]
     },
     "metadata": {},
     "output_type": "display_data"
    },
    {
     "data": {
      "image/png": "[encoded data removed]",
      "text/plain": [
       "<Figure size 432x288 with 1 Axes>"
      ]
     },
     "metadata": {},
     "output_type": "display_data"
    },
    {
     "data": {
      "image/png": "[encoded data removed]",
      "text/plain": [
       "<Figure size 432x288 with 1 Axes>"
      ]
     },
     "metadata": {},
     "output_type": "display_data"
    },
    {
     "data": {
      "image/png": "[encoded data removed]",
      "text/plain": [
       "<Figure size 432x288 with 1 Axes>"
      ]
     },
     "metadata": {},
     "output_type": "display_data"
    },
    {
     "data": {
      "image/png": "[encoded data removed]",
      "text/plain": [
       "<Figure size 432x288 with 1 Axes>"
      ]
     },
     "metadata": {},
     "output_type": "display_data"
    },
    {
     "data": {
      "image/png": "[encoded data removed]",
      "text/plain": [
       "<Figure size 432x288 with 1 Axes>"
      ]
     },
     "metadata": {},
     "output_type": "display_data"
    },
    {
     "data": {
      "image/png": "[encoded data removed]",
      "text/plain": [
       "<Figure size 432x288 with 1 Axes>"
      ]
     },
     "metadata": {},
     "output_type": "display_data"
    },
    {
     "data": {
      "image/png": "[encoded data removed]",
      "text/plain": [
       "<Figure size 432x288 with 1 Axes>"
      ]
     },
     "metadata": {},
     "output_type": "display_data"
    },
    {
     "data": {
      "image/png": "[encoded data removed]",
      "text/plain": [
       "<Figure size 432x288 with 1 Axes>"
      ]
     },
     "metadata": {},
     "output_type": "display_data"
    },
    {
     "data": {
      "image/png": "[encoded data removed]",
      "text/plain": [
       "<Figure size 432x288 with 1 Axes>"
      ]
     },
     "metadata": {},
     "output_type": "display_data"
    },
    {
     "data": {
      "image/png": "[encoded data removed]",
      "text/plain": [
       "<Figure size 432x288 with 1 Axes>"
      ]
     },
     "metadata": {},
     "output_type": "display_data"
    },
    {
     "data": {
      "image/png": "[encoded data removed]",
      "text/plain": [
       "<Figure size 432x288 with 1 Axes>"
      ]
     },
     "metadata": {},
     "output_type": "display_data"
    },
    {
     "data": {
      "image/png": "[encoded data removed]",
      "text/plain": [
       "<Figure size 432x288 with 1 Axes>"
      ]
     },
     "metadata": {},
     "output_type": "display_data"
    },
    {
     "data": {
      "image/png": "[encoded data removed]",
      "text/plain": [
       "<Figure size 432x288 with 1 Axes>"
      ]
     },
     "metadata": {},
     "output_type": "display_data"
    },
    {
     "data": {
      "image/png": "[encoded data removed]",
      "text/plain": [
       "<Figure size 432x288 with 1 Axes>"
      ]
     },
     "metadata": {},
     "output_type": "display_data"
    },
    {
     "data": {
      "image/png": "[encoded data removed]",
      "text/plain": [
       "<Figure size 432x288 with 1 Axes>"
      ]
     },
     "metadata": {},
     "output_type": "display_data"
    },
    {
     "data": {
      "image/png": "[encoded data removed]",
      "text/plain": [
       "<Figure size 432x288 with 1 Axes>"
      ]
     },
     "metadata": {},
     "output_type": "display_data"
    },
    {
     "data": {
      "image/png": "[encoded data removed]",
      "text/plain": [
       "<Figure size 432x288 with 1 Axes>"
      ]
     },
     "metadata": {},
     "output_type": "display_data"
    },
    {
     "data": {
      "image/png": "[encoded data removed]",
      "text/plain": [
       "<Figure size 432x288 with 1 Axes>"
      ]
     },
     "metadata": {},
     "output_type": "display_data"
    },
    {
     "data": {
      "image/png": "[encoded data removed]",
      "text/plain": [
       "<Figure size 432x288 with 1 Axes>"
      ]
     },
     "metadata": {},
     "output_type": "display_data"
    },
    {
     "data": {
      "image/png": "[encoded data removed]",
      "text/plain": [
       "<Figure size 432x288 with 1 Axes>"
      ]
     },
     "metadata": {},
     "output_type": "display_data"
    },
    {
     "data": {
      "image/png": "[encoded data removed]",
      "text/plain": [
       "<Figure size 432x288 with 1 Axes>"
      ]
     },
     "metadata": {},
     "output_type": "display_data"
    },
    {
     "data": {
      "image/png": "[encoded data removed]",
      "text/plain": [
       "<Figure size 432x288 with 1 Axes>"
      ]
     },
     "metadata": {},
     "output_type": "display_data"
    },
    {
     "data": {
      "image/png": "[encoded data removed]",
      "text/plain": [
       "<Figure size 432x288 with 1 Axes>"
      ]
     },
     "metadata": {},
     "output_type": "display_data"
    },
    {
     "data": {
      "image/png": "[encoded data removed]",
      "text/plain": [
       "<Figure size 432x288 with 1 Axes>"
      ]
     },
     "metadata": {},
     "output_type": "display_data"
    },
    {
     "data": {
      "image/png": "[encoded data removed]",
      "text/plain": [
       "<Figure size 432x288 with 1 Axes>"
      ]
     },
     "metadata": {},
     "output_type": "display_data"
    },
    {
     "data": {
      "image/png": "[encoded data removed]",
      "text/plain": [
       "<Figure size 432x288 with 1 Axes>"
      ]
     },
     "metadata": {},
     "output_type": "display_data"
    },
    {
     "data": {
      "image/png": "[encoded data removed]",
      "text/plain": [
       "<Figure size 432x288 with 1 Axes>"
      ]
     },
     "metadata": {},
     "output_type": "display_data"
    },
    {
     "data": {
      "image/png": "[encoded data removed]",
      "text/plain": [
       "<Figure size 432x288 with 1 Axes>"
      ]
     },
     "metadata": {},
     "output_type": "display_data"
    }
   ],
   "source": [
    "fxpy.histograms_bins(df)\n",
    "fxpy.boxplots(df)"
   ]
  },
  {
   "cell_type": "markdown",
   "metadata": {},
   "source": [
    "Las variables freetime, goout, y G1, tienen un comportamiento similar a una distribución normal. Traveltimes, failures, Dalc, Walc y absences tienen sus datos distribuidos mayoritariamente bajo la media, con el caso especial de'absences' que presenta su mayor distribución en el valor 0.  \n",
    "Revisando los boxplots, se ven pocos outliers, excepto en la variable 'absences', que presenta su media cercana a 0 pero muchos valores que se escapan de ésta.\n",
    "Ahora revisaremos las variables categóricas"
   ]
  },
  {
   "cell_type": "code",
   "execution_count": 6,
   "metadata": {},
   "outputs": [
    {
     "name": "stdout",
     "output_type": "stream",
     "text": [
      "school :\n",
      "GP    247\n",
      "MS     37\n",
      "Name: school, dtype: int64\n",
      "\n",
      "\n",
      "sex :\n",
      "F    147\n",
      "M    137\n",
      "Name: sex, dtype: int64\n",
      "\n",
      "\n",
      "address :\n",
      "U    214\n",
      "R     70\n",
      "Name: address, dtype: int64\n",
      "\n",
      "\n",
      "famsize :\n",
      "GT3    209\n",
      "LE3     75\n",
      "Name: famsize, dtype: int64\n",
      "\n",
      "\n",
      "Pstatus :\n",
      "T    257\n",
      "A     27\n",
      "Name: Pstatus, dtype: int64\n",
      "\n",
      "\n",
      "Mjob :\n",
      "other       103\n",
      "services     68\n",
      "teacher      44\n",
      "at_home      43\n",
      "health       26\n",
      "Name: Mjob, dtype: int64\n",
      "\n",
      "\n",
      "Fjob :\n",
      "other       159\n",
      "services     80\n",
      "teacher      21\n",
      "health       13\n",
      "at_home      11\n",
      "Name: Fjob, dtype: int64\n",
      "\n",
      "\n",
      "reason :\n",
      "course        102\n",
      "home           78\n",
      "reputation     77\n",
      "other          27\n",
      "Name: reason, dtype: int64\n",
      "\n",
      "\n",
      "guardian :\n",
      "mother    200\n",
      "father     60\n",
      "other      24\n",
      "Name: guardian, dtype: int64\n",
      "\n",
      "\n",
      "schoolsup :\n",
      "no     246\n",
      "yes     38\n",
      "Name: schoolsup, dtype: int64\n",
      "\n",
      "\n",
      "famsup :\n",
      "yes    174\n",
      "no     110\n",
      "Name: famsup, dtype: int64\n",
      "\n",
      "\n",
      "paid :\n",
      "no     158\n",
      "yes    126\n",
      "Name: paid, dtype: int64\n",
      "\n",
      "\n",
      "activities :\n",
      "yes    148\n",
      "no     136\n",
      "Name: activities, dtype: int64\n",
      "\n",
      "\n",
      "nursery :\n",
      "yes    223\n",
      "no      61\n",
      "Name: nursery, dtype: int64\n",
      "\n",
      "\n",
      "higher :\n",
      "yes    269\n",
      "no      15\n",
      "Name: higher, dtype: int64\n",
      "\n",
      "\n",
      "internet :\n",
      "yes    231\n",
      "no      53\n",
      "Name: internet, dtype: int64\n",
      "\n",
      "\n",
      "romantic :\n",
      "no     189\n",
      "yes     95\n",
      "Name: romantic, dtype: int64\n",
      "\n",
      "\n"
     ]
    }
   ],
   "source": [
    "fxpy.valores_ds1(df)"
   ]
  },
  {
   "cell_type": "code",
   "execution_count": 7,
   "metadata": {},
   "outputs": [],
   "source": [
    "df_final = pd.get_dummies(df, columns=['school','sex','address','famsize', 'Pstatus','Mjob','Fjob', 'reason', 'guardian', 'schoolsup','famsup','paid','activities','nursery','higher','internet','romantic'], drop_first=True)"
   ]
  },
  {
   "cell_type": "markdown",
   "metadata": {},
   "source": [
    "Ocupamos la función get_dummies de pandas para binarizar las variables, utilizamos el parámetro drop_first=True, para solo traer K-1 agrupaciones y evitar multicolinealidad  "
   ]
  },
  {
   "cell_type": "code",
   "execution_count": 8,
   "metadata": {},
   "outputs": [
    {
     "data": {
      "image/png": "[encoded data removed]",
      "text/plain": [
       "<Figure size 1440x1440 with 2 Axes>"
      ]
     },
     "metadata": {},
     "output_type": "display_data"
    }
   ],
   "source": [
    "corr_mat = df_final.corr()\n",
    "plt.subplots(figsize=(20,20))\n",
    "sns.heatmap(corr_mat, cmap='Blues');"
   ]
  },
  {
   "cell_type": "markdown",
   "metadata": {},
   "source": [
    "Notamos colinealididad en variables como, obviamente G1, G2 y G3, además entre la educación de los padres, yentre el consumo de alcohol en la semana y el fin de semana. Al haber muchas variables, el gráfico no nos entrega mucha información"
   ]
  },
  {
   "cell_type": "markdown",
   "metadata": {},
   "source": [
    "### Modelación descriptiva  \n",
    "Decidimos utilizar una regresión lineal para predecir la variable 'G1', 'G2' y 'G3'"
   ]
  },
  {
   "cell_type": "code",
   "execution_count": 9,
   "metadata": {},
   "outputs": [
    {
     "data": {
      "text/html": [
       "<table class=\"simpletable\">\n",
       "<caption>OLS Regression Results</caption>\n",
       "<tr>\n",
       "  <th>Dep. Variable:</th>           <td>G1</td>        <th>  R-squared:         </th> <td>   0.331</td>\n",
       "</tr>\n",
       "<tr>\n",
       "  <th>Model:</th>                   <td>OLS</td>       <th>  Adj. R-squared:    </th> <td>   0.224</td>\n",
       "</tr>\n",
       "<tr>\n",
       "  <th>Method:</th>             <td>Least Squares</td>  <th>  F-statistic:       </th> <td>   3.090</td>\n",
       "</tr>\n",
       "<tr>\n",
       "  <th>Date:</th>             <td>Sun, 12 Aug 2018</td> <th>  Prob (F-statistic):</th> <td>5.75e-08</td>\n",
       "</tr>\n",
       "<tr>\n",
       "  <th>Time:</th>                 <td>21:42:24</td>     <th>  Log-Likelihood:    </th> <td> -683.63</td>\n",
       "</tr>\n",
       "<tr>\n",
       "  <th>No. Observations:</th>      <td>   284</td>      <th>  AIC:               </th> <td>   1447.</td>\n",
       "</tr>\n",
       "<tr>\n",
       "  <th>Df Residuals:</th>          <td>   244</td>      <th>  BIC:               </th> <td>   1593.</td>\n",
       "</tr>\n",
       "<tr>\n",
       "  <th>Df Model:</th>              <td>    39</td>      <th>                     </th>     <td> </td>   \n",
       "</tr>\n",
       "<tr>\n",
       "  <th>Covariance Type:</th>      <td>nonrobust</td>    <th>                     </th>     <td> </td>   \n",
       "</tr>\n",
       "</table>\n",
       "<table class=\"simpletable\">\n",
       "<tr>\n",
       "          <td></td>             <th>coef</th>     <th>std err</th>      <th>t</th>      <th>P>|t|</th>  <th>[0.025</th>    <th>0.975]</th>  \n",
       "</tr>\n",
       "<tr>\n",
       "  <th>Intercept</th>         <td>   10.1487</td> <td>    3.682</td> <td>    2.756</td> <td> 0.006</td> <td>    2.895</td> <td>   17.402</td>\n",
       "</tr>\n",
       "<tr>\n",
       "  <th>age</th>               <td>    0.0772</td> <td>    0.185</td> <td>    0.418</td> <td> 0.677</td> <td>   -0.287</td> <td>    0.441</td>\n",
       "</tr>\n",
       "<tr>\n",
       "  <th>Medu</th>              <td>    0.1809</td> <td>    0.282</td> <td>    0.642</td> <td> 0.521</td> <td>   -0.374</td> <td>    0.736</td>\n",
       "</tr>\n",
       "<tr>\n",
       "  <th>Fedu</th>              <td>    0.1527</td> <td>    0.236</td> <td>    0.646</td> <td> 0.519</td> <td>   -0.313</td> <td>    0.618</td>\n",
       "</tr>\n",
       "<tr>\n",
       "  <th>traveltime</th>        <td>   -0.0215</td> <td>    0.291</td> <td>   -0.074</td> <td> 0.941</td> <td>   -0.594</td> <td>    0.551</td>\n",
       "</tr>\n",
       "<tr>\n",
       "  <th>studytime</th>         <td>    0.5074</td> <td>    0.245</td> <td>    2.068</td> <td> 0.040</td> <td>    0.024</td> <td>    0.991</td>\n",
       "</tr>\n",
       "<tr>\n",
       "  <th>failures</th>          <td>   -1.1235</td> <td>    0.282</td> <td>   -3.977</td> <td> 0.000</td> <td>   -1.680</td> <td>   -0.567</td>\n",
       "</tr>\n",
       "<tr>\n",
       "  <th>famrel</th>            <td>    0.1449</td> <td>    0.213</td> <td>    0.681</td> <td> 0.497</td> <td>   -0.274</td> <td>    0.564</td>\n",
       "</tr>\n",
       "<tr>\n",
       "  <th>freetime</th>          <td>    0.3778</td> <td>    0.193</td> <td>    1.959</td> <td> 0.051</td> <td>   -0.002</td> <td>    0.758</td>\n",
       "</tr>\n",
       "<tr>\n",
       "  <th>goout</th>             <td>   -0.7691</td> <td>    0.199</td> <td>   -3.873</td> <td> 0.000</td> <td>   -1.160</td> <td>   -0.378</td>\n",
       "</tr>\n",
       "<tr>\n",
       "  <th>Dalc</th>              <td>   -0.0730</td> <td>    0.286</td> <td>   -0.255</td> <td> 0.799</td> <td>   -0.636</td> <td>    0.490</td>\n",
       "</tr>\n",
       "<tr>\n",
       "  <th>Walc</th>              <td>    0.1585</td> <td>    0.210</td> <td>    0.756</td> <td> 0.451</td> <td>   -0.255</td> <td>    0.572</td>\n",
       "</tr>\n",
       "<tr>\n",
       "  <th>health</th>            <td>   -0.2918</td> <td>    0.142</td> <td>   -2.062</td> <td> 0.040</td> <td>   -0.571</td> <td>   -0.013</td>\n",
       "</tr>\n",
       "<tr>\n",
       "  <th>absences</th>          <td>   -0.0048</td> <td>    0.024</td> <td>   -0.196</td> <td> 0.845</td> <td>   -0.053</td> <td>    0.043</td>\n",
       "</tr>\n",
       "<tr>\n",
       "  <th>school_MS</th>         <td>   -0.3886</td> <td>    0.666</td> <td>   -0.583</td> <td> 0.560</td> <td>   -1.701</td> <td>    0.924</td>\n",
       "</tr>\n",
       "<tr>\n",
       "  <th>sex_M</th>             <td>    0.7631</td> <td>    0.432</td> <td>    1.768</td> <td> 0.078</td> <td>   -0.087</td> <td>    1.613</td>\n",
       "</tr>\n",
       "<tr>\n",
       "  <th>address_U</th>         <td>    0.0205</td> <td>    0.487</td> <td>    0.042</td> <td> 0.966</td> <td>   -0.939</td> <td>    0.980</td>\n",
       "</tr>\n",
       "<tr>\n",
       "  <th>famsize_LE3</th>       <td>    0.3125</td> <td>    0.440</td> <td>    0.710</td> <td> 0.478</td> <td>   -0.555</td> <td>    1.180</td>\n",
       "</tr>\n",
       "<tr>\n",
       "  <th>Pstatus_T</th>         <td>   -0.1872</td> <td>    0.650</td> <td>   -0.288</td> <td> 0.774</td> <td>   -1.468</td> <td>    1.094</td>\n",
       "</tr>\n",
       "<tr>\n",
       "  <th>Mjob_health</th>       <td>    1.0251</td> <td>    0.918</td> <td>    1.116</td> <td> 0.265</td> <td>   -0.784</td> <td>    2.834</td>\n",
       "</tr>\n",
       "<tr>\n",
       "  <th>Mjob_other</th>        <td>   -0.5423</td> <td>    0.598</td> <td>   -0.907</td> <td> 0.365</td> <td>   -1.720</td> <td>    0.636</td>\n",
       "</tr>\n",
       "<tr>\n",
       "  <th>Mjob_services</th>     <td>    0.3913</td> <td>    0.676</td> <td>    0.579</td> <td> 0.563</td> <td>   -0.939</td> <td>    1.722</td>\n",
       "</tr>\n",
       "<tr>\n",
       "  <th>Mjob_teacher</th>      <td>   -1.0850</td> <td>    0.836</td> <td>   -1.298</td> <td> 0.195</td> <td>   -2.731</td> <td>    0.561</td>\n",
       "</tr>\n",
       "<tr>\n",
       "  <th>Fjob_health</th>       <td>   -1.0572</td> <td>    1.304</td> <td>   -0.810</td> <td> 0.418</td> <td>   -3.626</td> <td>    1.512</td>\n",
       "</tr>\n",
       "<tr>\n",
       "  <th>Fjob_other</th>        <td>   -1.4765</td> <td>    0.984</td> <td>   -1.500</td> <td> 0.135</td> <td>   -3.415</td> <td>    0.462</td>\n",
       "</tr>\n",
       "<tr>\n",
       "  <th>Fjob_services</th>     <td>   -0.8524</td> <td>    0.990</td> <td>   -0.861</td> <td> 0.390</td> <td>   -2.801</td> <td>    1.097</td>\n",
       "</tr>\n",
       "<tr>\n",
       "  <th>Fjob_teacher</th>      <td>    0.8167</td> <td>    1.196</td> <td>    0.683</td> <td> 0.495</td> <td>   -1.540</td> <td>    3.173</td>\n",
       "</tr>\n",
       "<tr>\n",
       "  <th>reason_home</th>       <td>    0.3701</td> <td>    0.473</td> <td>    0.783</td> <td> 0.434</td> <td>   -0.561</td> <td>    1.301</td>\n",
       "</tr>\n",
       "<tr>\n",
       "  <th>reason_other</th>      <td>    0.1005</td> <td>    0.675</td> <td>    0.149</td> <td> 0.882</td> <td>   -1.230</td> <td>    1.431</td>\n",
       "</tr>\n",
       "<tr>\n",
       "  <th>reason_reputation</th> <td>    0.5312</td> <td>    0.487</td> <td>    1.090</td> <td> 0.277</td> <td>   -0.429</td> <td>    1.491</td>\n",
       "</tr>\n",
       "<tr>\n",
       "  <th>guardian_mother</th>   <td>    0.2087</td> <td>    0.479</td> <td>    0.436</td> <td> 0.663</td> <td>   -0.734</td> <td>    1.152</td>\n",
       "</tr>\n",
       "<tr>\n",
       "  <th>guardian_other</th>    <td>    0.2967</td> <td>    0.850</td> <td>    0.349</td> <td> 0.727</td> <td>   -1.377</td> <td>    1.971</td>\n",
       "</tr>\n",
       "<tr>\n",
       "  <th>schoolsup_yes</th>     <td>   -1.7737</td> <td>    0.564</td> <td>   -3.145</td> <td> 0.002</td> <td>   -2.885</td> <td>   -0.663</td>\n",
       "</tr>\n",
       "<tr>\n",
       "  <th>famsup_yes</th>        <td>   -1.0062</td> <td>    0.411</td> <td>   -2.447</td> <td> 0.015</td> <td>   -1.816</td> <td>   -0.196</td>\n",
       "</tr>\n",
       "<tr>\n",
       "  <th>paid_yes</th>          <td>    0.0321</td> <td>    0.403</td> <td>    0.080</td> <td> 0.937</td> <td>   -0.762</td> <td>    0.826</td>\n",
       "</tr>\n",
       "<tr>\n",
       "  <th>activities_yes</th>    <td>   -0.4719</td> <td>    0.370</td> <td>   -1.276</td> <td> 0.203</td> <td>   -1.201</td> <td>    0.257</td>\n",
       "</tr>\n",
       "<tr>\n",
       "  <th>nursery_yes</th>       <td>   -0.0255</td> <td>    0.455</td> <td>   -0.056</td> <td> 0.955</td> <td>   -0.922</td> <td>    0.871</td>\n",
       "</tr>\n",
       "<tr>\n",
       "  <th>higher_yes</th>        <td>    1.1077</td> <td>    0.876</td> <td>    1.265</td> <td> 0.207</td> <td>   -0.617</td> <td>    2.833</td>\n",
       "</tr>\n",
       "<tr>\n",
       "  <th>internet_yes</th>      <td>    0.0671</td> <td>    0.502</td> <td>    0.134</td> <td> 0.894</td> <td>   -0.921</td> <td>    1.055</td>\n",
       "</tr>\n",
       "<tr>\n",
       "  <th>romantic_yes</th>      <td>   -0.0842</td> <td>    0.399</td> <td>   -0.211</td> <td> 0.833</td> <td>   -0.870</td> <td>    0.702</td>\n",
       "</tr>\n",
       "</table>\n",
       "<table class=\"simpletable\">\n",
       "<tr>\n",
       "  <th>Omnibus:</th>       <td> 6.431</td> <th>  Durbin-Watson:     </th> <td>   2.003</td>\n",
       "</tr>\n",
       "<tr>\n",
       "  <th>Prob(Omnibus):</th> <td> 0.040</td> <th>  Jarque-Bera (JB):  </th> <td>   4.178</td>\n",
       "</tr>\n",
       "<tr>\n",
       "  <th>Skew:</th>          <td> 0.128</td> <th>  Prob(JB):          </th> <td>   0.124</td>\n",
       "</tr>\n",
       "<tr>\n",
       "  <th>Kurtosis:</th>      <td> 2.464</td> <th>  Cond. No.          </th> <td>    437.</td>\n",
       "</tr>\n",
       "</table><br/><br/>Warnings:<br/>[1] Standard Errors assume that the covariance matrix of the errors is correctly specified."
      ],
      "text/plain": [
       "<class 'statsmodels.iolib.summary.Summary'>\n",
       "\"\"\"\n",
       "                            OLS Regression Results                            \n",
       "==============================================================================\n",
       "Dep. Variable:                     G1   R-squared:                       0.331\n",
       "Model:                            OLS   Adj. R-squared:                  0.224\n",
       "Method:                 Least Squares   F-statistic:                     3.090\n",
       "Date:                Sun, 12 Aug 2018   Prob (F-statistic):           5.75e-08\n",
       "Time:                        21:42:24   Log-Likelihood:                -683.63\n",
       "No. Observations:                 284   AIC:                             1447.\n",
       "Df Residuals:                     244   BIC:                             1593.\n",
       "Df Model:                          39                                         \n",
       "Covariance Type:            nonrobust                                         \n",
       "=====================================================================================\n",
       "                        coef    std err          t      P>|t|      [0.025      0.975]\n",
       "-------------------------------------------------------------------------------------\n",
       "Intercept            10.1487      3.682      2.756      0.006       2.895      17.402\n",
       "age                   0.0772      0.185      0.418      0.677      -0.287       0.441\n",
       "Medu                  0.1809      0.282      0.642      0.521      -0.374       0.736\n",
       "Fedu                  0.1527      0.236      0.646      0.519      -0.313       0.618\n",
       "traveltime           -0.0215      0.291     -0.074      0.941      -0.594       0.551\n",
       "studytime             0.5074      0.245      2.068      0.040       0.024       0.991\n",
       "failures             -1.1235      0.282     -3.977      0.000      -1.680      -0.567\n",
       "famrel                0.1449      0.213      0.681      0.497      -0.274       0.564\n",
       "freetime              0.3778      0.193      1.959      0.051      -0.002       0.758\n",
       "goout                -0.7691      0.199     -3.873      0.000      -1.160      -0.378\n",
       "Dalc                 -0.0730      0.286     -0.255      0.799      -0.636       0.490\n",
       "Walc                  0.1585      0.210      0.756      0.451      -0.255       0.572\n",
       "health               -0.2918      0.142     -2.062      0.040      -0.571      -0.013\n",
       "absences             -0.0048      0.024     -0.196      0.845      -0.053       0.043\n",
       "school_MS            -0.3886      0.666     -0.583      0.560      -1.701       0.924\n",
       "sex_M                 0.7631      0.432      1.768      0.078      -0.087       1.613\n",
       "address_U             0.0205      0.487      0.042      0.966      -0.939       0.980\n",
       "famsize_LE3           0.3125      0.440      0.710      0.478      -0.555       1.180\n",
       "Pstatus_T            -0.1872      0.650     -0.288      0.774      -1.468       1.094\n",
       "Mjob_health           1.0251      0.918      1.116      0.265      -0.784       2.834\n",
       "Mjob_other           -0.5423      0.598     -0.907      0.365      -1.720       0.636\n",
       "Mjob_services         0.3913      0.676      0.579      0.563      -0.939       1.722\n",
       "Mjob_teacher         -1.0850      0.836     -1.298      0.195      -2.731       0.561\n",
       "Fjob_health          -1.0572      1.304     -0.810      0.418      -3.626       1.512\n",
       "Fjob_other           -1.4765      0.984     -1.500      0.135      -3.415       0.462\n",
       "Fjob_services        -0.8524      0.990     -0.861      0.390      -2.801       1.097\n",
       "Fjob_teacher          0.8167      1.196      0.683      0.495      -1.540       3.173\n",
       "reason_home           0.3701      0.473      0.783      0.434      -0.561       1.301\n",
       "reason_other          0.1005      0.675      0.149      0.882      -1.230       1.431\n",
       "reason_reputation     0.5312      0.487      1.090      0.277      -0.429       1.491\n",
       "guardian_mother       0.2087      0.479      0.436      0.663      -0.734       1.152\n",
       "guardian_other        0.2967      0.850      0.349      0.727      -1.377       1.971\n",
       "schoolsup_yes        -1.7737      0.564     -3.145      0.002      -2.885      -0.663\n",
       "famsup_yes           -1.0062      0.411     -2.447      0.015      -1.816      -0.196\n",
       "paid_yes              0.0321      0.403      0.080      0.937      -0.762       0.826\n",
       "activities_yes       -0.4719      0.370     -1.276      0.203      -1.201       0.257\n",
       "nursery_yes          -0.0255      0.455     -0.056      0.955      -0.922       0.871\n",
       "higher_yes            1.1077      0.876      1.265      0.207      -0.617       2.833\n",
       "internet_yes          0.0671      0.502      0.134      0.894      -0.921       1.055\n",
       "romantic_yes         -0.0842      0.399     -0.211      0.833      -0.870       0.702\n",
       "==============================================================================\n",
       "Omnibus:                        6.431   Durbin-Watson:                   2.003\n",
       "Prob(Omnibus):                  0.040   Jarque-Bera (JB):                4.178\n",
       "Skew:                           0.128   Prob(JB):                        0.124\n",
       "Kurtosis:                       2.464   Cond. No.                         437.\n",
       "==============================================================================\n",
       "\n",
       "Warnings:\n",
       "[1] Standard Errors assume that the covariance matrix of the errors is correctly specified.\n",
       "\"\"\""
      ]
     },
     "execution_count": 9,
     "metadata": {},
     "output_type": "execute_result"
    }
   ],
   "source": [
    "model1 = smf.ols('G1 ~ age + Medu + Fedu + traveltime + studytime + failures + famrel + freetime + goout + Dalc + Walc + health + absences + school_MS +sex_M + address_U + famsize_LE3 + Pstatus_T +Mjob_health + Mjob_other + Mjob_services + Mjob_teacher + Fjob_health + Fjob_other + Fjob_services + Fjob_teacher +reason_home + reason_other + reason_reputation + guardian_mother + guardian_other + schoolsup_yes + famsup_yes + paid_yes + activities_yes + nursery_yes + higher_yes + internet_yes +romantic_yes', data = df_final)\n",
    "model1 = model1.fit()\n",
    "model1.summary()"
   ]
  },
  {
   "cell_type": "markdown",
   "metadata": {},
   "source": [
    "Tenemos un R^2 bajo, y pocas variables significativas:  'failures', 'goout', 'health', , 'fam_sup_yes'. EL intercepto también califica como estadisticamente significativo. Veamos ahora G2"
   ]
  },
  {
   "cell_type": "code",
   "execution_count": 10,
   "metadata": {},
   "outputs": [
    {
     "data": {
      "text/html": [
       "<table class=\"simpletable\">\n",
       "<caption>OLS Regression Results</caption>\n",
       "<tr>\n",
       "  <th>Dep. Variable:</th>           <td>G2</td>        <th>  R-squared:         </th> <td>   0.301</td>\n",
       "</tr>\n",
       "<tr>\n",
       "  <th>Model:</th>                   <td>OLS</td>       <th>  Adj. R-squared:    </th> <td>   0.189</td>\n",
       "</tr>\n",
       "<tr>\n",
       "  <th>Method:</th>             <td>Least Squares</td>  <th>  F-statistic:       </th> <td>   2.693</td>\n",
       "</tr>\n",
       "<tr>\n",
       "  <th>Date:</th>             <td>Sun, 12 Aug 2018</td> <th>  Prob (F-statistic):</th> <td>2.14e-06</td>\n",
       "</tr>\n",
       "<tr>\n",
       "  <th>Time:</th>                 <td>21:42:26</td>     <th>  Log-Likelihood:    </th> <td> -729.98</td>\n",
       "</tr>\n",
       "<tr>\n",
       "  <th>No. Observations:</th>      <td>   284</td>      <th>  AIC:               </th> <td>   1540.</td>\n",
       "</tr>\n",
       "<tr>\n",
       "  <th>Df Residuals:</th>          <td>   244</td>      <th>  BIC:               </th> <td>   1686.</td>\n",
       "</tr>\n",
       "<tr>\n",
       "  <th>Df Model:</th>              <td>    39</td>      <th>                     </th>     <td> </td>   \n",
       "</tr>\n",
       "<tr>\n",
       "  <th>Covariance Type:</th>      <td>nonrobust</td>    <th>                     </th>     <td> </td>   \n",
       "</tr>\n",
       "</table>\n",
       "<table class=\"simpletable\">\n",
       "<tr>\n",
       "          <td></td>             <th>coef</th>     <th>std err</th>      <th>t</th>      <th>P>|t|</th>  <th>[0.025</th>    <th>0.975]</th>  \n",
       "</tr>\n",
       "<tr>\n",
       "  <th>Intercept</th>         <td>   12.3513</td> <td>    4.335</td> <td>    2.849</td> <td> 0.005</td> <td>    3.812</td> <td>   20.891</td>\n",
       "</tr>\n",
       "<tr>\n",
       "  <th>age</th>               <td>   -0.0696</td> <td>    0.218</td> <td>   -0.320</td> <td> 0.749</td> <td>   -0.498</td> <td>    0.359</td>\n",
       "</tr>\n",
       "<tr>\n",
       "  <th>Medu</th>              <td>    0.3221</td> <td>    0.332</td> <td>    0.971</td> <td> 0.332</td> <td>   -0.331</td> <td>    0.975</td>\n",
       "</tr>\n",
       "<tr>\n",
       "  <th>Fedu</th>              <td>   -0.1232</td> <td>    0.278</td> <td>   -0.443</td> <td> 0.658</td> <td>   -0.671</td> <td>    0.425</td>\n",
       "</tr>\n",
       "<tr>\n",
       "  <th>traveltime</th>        <td>   -0.2211</td> <td>    0.342</td> <td>   -0.646</td> <td> 0.519</td> <td>   -0.896</td> <td>    0.453</td>\n",
       "</tr>\n",
       "<tr>\n",
       "  <th>studytime</th>         <td>    0.4171</td> <td>    0.289</td> <td>    1.444</td> <td> 0.150</td> <td>   -0.152</td> <td>    0.986</td>\n",
       "</tr>\n",
       "<tr>\n",
       "  <th>failures</th>          <td>   -1.1293</td> <td>    0.333</td> <td>   -3.396</td> <td> 0.001</td> <td>   -1.784</td> <td>   -0.474</td>\n",
       "</tr>\n",
       "<tr>\n",
       "  <th>famrel</th>            <td>    0.0282</td> <td>    0.251</td> <td>    0.112</td> <td> 0.911</td> <td>   -0.466</td> <td>    0.522</td>\n",
       "</tr>\n",
       "<tr>\n",
       "  <th>freetime</th>          <td>    0.3319</td> <td>    0.227</td> <td>    1.462</td> <td> 0.145</td> <td>   -0.115</td> <td>    0.779</td>\n",
       "</tr>\n",
       "<tr>\n",
       "  <th>goout</th>             <td>   -0.9655</td> <td>    0.234</td> <td>   -4.130</td> <td> 0.000</td> <td>   -1.426</td> <td>   -0.505</td>\n",
       "</tr>\n",
       "<tr>\n",
       "  <th>Dalc</th>              <td>   -0.2099</td> <td>    0.337</td> <td>   -0.624</td> <td> 0.533</td> <td>   -0.873</td> <td>    0.453</td>\n",
       "</tr>\n",
       "<tr>\n",
       "  <th>Walc</th>              <td>    0.3593</td> <td>    0.247</td> <td>    1.455</td> <td> 0.147</td> <td>   -0.127</td> <td>    0.846</td>\n",
       "</tr>\n",
       "<tr>\n",
       "  <th>health</th>            <td>   -0.3901</td> <td>    0.167</td> <td>   -2.342</td> <td> 0.020</td> <td>   -0.718</td> <td>   -0.062</td>\n",
       "</tr>\n",
       "<tr>\n",
       "  <th>absences</th>          <td>   -0.0079</td> <td>    0.029</td> <td>   -0.274</td> <td> 0.785</td> <td>   -0.064</td> <td>    0.049</td>\n",
       "</tr>\n",
       "<tr>\n",
       "  <th>school_MS</th>         <td>    0.2397</td> <td>    0.785</td> <td>    0.305</td> <td> 0.760</td> <td>   -1.306</td> <td>    1.785</td>\n",
       "</tr>\n",
       "<tr>\n",
       "  <th>sex_M</th>             <td>    0.8885</td> <td>    0.508</td> <td>    1.748</td> <td> 0.082</td> <td>   -0.112</td> <td>    1.889</td>\n",
       "</tr>\n",
       "<tr>\n",
       "  <th>address_U</th>         <td>    0.7540</td> <td>    0.573</td> <td>    1.315</td> <td> 0.190</td> <td>   -0.375</td> <td>    1.883</td>\n",
       "</tr>\n",
       "<tr>\n",
       "  <th>famsize_LE3</th>       <td>    0.4639</td> <td>    0.518</td> <td>    0.895</td> <td> 0.372</td> <td>   -0.557</td> <td>    1.485</td>\n",
       "</tr>\n",
       "<tr>\n",
       "  <th>Pstatus_T</th>         <td>   -0.5952</td> <td>    0.766</td> <td>   -0.777</td> <td> 0.438</td> <td>   -2.103</td> <td>    0.913</td>\n",
       "</tr>\n",
       "<tr>\n",
       "  <th>Mjob_health</th>       <td>    1.3034</td> <td>    1.081</td> <td>    1.205</td> <td> 0.229</td> <td>   -0.827</td> <td>    3.433</td>\n",
       "</tr>\n",
       "<tr>\n",
       "  <th>Mjob_other</th>        <td>   -0.0448</td> <td>    0.704</td> <td>   -0.064</td> <td> 0.949</td> <td>   -1.432</td> <td>    1.342</td>\n",
       "</tr>\n",
       "<tr>\n",
       "  <th>Mjob_services</th>     <td>    0.5276</td> <td>    0.795</td> <td>    0.663</td> <td> 0.508</td> <td>   -1.039</td> <td>    2.094</td>\n",
       "</tr>\n",
       "<tr>\n",
       "  <th>Mjob_teacher</th>      <td>   -0.9595</td> <td>    0.984</td> <td>   -0.975</td> <td> 0.330</td> <td>   -2.898</td> <td>    0.979</td>\n",
       "</tr>\n",
       "<tr>\n",
       "  <th>Fjob_health</th>       <td>   -0.3798</td> <td>    1.536</td> <td>   -0.247</td> <td> 0.805</td> <td>   -3.405</td> <td>    2.645</td>\n",
       "</tr>\n",
       "<tr>\n",
       "  <th>Fjob_other</th>        <td>   -0.6572</td> <td>    1.159</td> <td>   -0.567</td> <td> 0.571</td> <td>   -2.940</td> <td>    1.625</td>\n",
       "</tr>\n",
       "<tr>\n",
       "  <th>Fjob_services</th>     <td>    0.2459</td> <td>    1.165</td> <td>    0.211</td> <td> 0.833</td> <td>   -2.049</td> <td>    2.541</td>\n",
       "</tr>\n",
       "<tr>\n",
       "  <th>Fjob_teacher</th>      <td>    1.0391</td> <td>    1.408</td> <td>    0.738</td> <td> 0.461</td> <td>   -1.735</td> <td>    3.813</td>\n",
       "</tr>\n",
       "<tr>\n",
       "  <th>reason_home</th>       <td>    0.4672</td> <td>    0.556</td> <td>    0.840</td> <td> 0.402</td> <td>   -0.629</td> <td>    1.563</td>\n",
       "</tr>\n",
       "<tr>\n",
       "  <th>reason_other</th>      <td>    0.7999</td> <td>    0.795</td> <td>    1.006</td> <td> 0.315</td> <td>   -0.766</td> <td>    2.366</td>\n",
       "</tr>\n",
       "<tr>\n",
       "  <th>reason_reputation</th> <td>    0.6478</td> <td>    0.574</td> <td>    1.129</td> <td> 0.260</td> <td>   -0.482</td> <td>    1.778</td>\n",
       "</tr>\n",
       "<tr>\n",
       "  <th>guardian_mother</th>   <td>    0.0425</td> <td>    0.564</td> <td>    0.075</td> <td> 0.940</td> <td>   -1.067</td> <td>    1.152</td>\n",
       "</tr>\n",
       "<tr>\n",
       "  <th>guardian_other</th>    <td>    0.0403</td> <td>    1.001</td> <td>    0.040</td> <td> 0.968</td> <td>   -1.931</td> <td>    2.011</td>\n",
       "</tr>\n",
       "<tr>\n",
       "  <th>schoolsup_yes</th>     <td>   -1.0396</td> <td>    0.664</td> <td>   -1.566</td> <td> 0.119</td> <td>   -2.347</td> <td>    0.268</td>\n",
       "</tr>\n",
       "<tr>\n",
       "  <th>famsup_yes</th>        <td>   -1.0023</td> <td>    0.484</td> <td>   -2.071</td> <td> 0.039</td> <td>   -1.956</td> <td>   -0.049</td>\n",
       "</tr>\n",
       "<tr>\n",
       "  <th>paid_yes</th>          <td>    0.4781</td> <td>    0.474</td> <td>    1.008</td> <td> 0.315</td> <td>   -0.457</td> <td>    1.413</td>\n",
       "</tr>\n",
       "<tr>\n",
       "  <th>activities_yes</th>    <td>   -0.2109</td> <td>    0.436</td> <td>   -0.484</td> <td> 0.629</td> <td>   -1.069</td> <td>    0.647</td>\n",
       "</tr>\n",
       "<tr>\n",
       "  <th>nursery_yes</th>       <td>    0.1439</td> <td>    0.536</td> <td>    0.269</td> <td> 0.789</td> <td>   -0.911</td> <td>    1.199</td>\n",
       "</tr>\n",
       "<tr>\n",
       "  <th>higher_yes</th>        <td>    1.1094</td> <td>    1.031</td> <td>    1.076</td> <td> 0.283</td> <td>   -0.921</td> <td>    3.140</td>\n",
       "</tr>\n",
       "<tr>\n",
       "  <th>internet_yes</th>      <td>    0.4415</td> <td>    0.590</td> <td>    0.748</td> <td> 0.455</td> <td>   -0.722</td> <td>    1.605</td>\n",
       "</tr>\n",
       "<tr>\n",
       "  <th>romantic_yes</th>      <td>   -0.7324</td> <td>    0.470</td> <td>   -1.559</td> <td> 0.120</td> <td>   -1.658</td> <td>    0.193</td>\n",
       "</tr>\n",
       "</table>\n",
       "<table class=\"simpletable\">\n",
       "<tr>\n",
       "  <th>Omnibus:</th>       <td>12.830</td> <th>  Durbin-Watson:     </th> <td>   1.773</td>\n",
       "</tr>\n",
       "<tr>\n",
       "  <th>Prob(Omnibus):</th> <td> 0.002</td> <th>  Jarque-Bera (JB):  </th> <td>  14.472</td>\n",
       "</tr>\n",
       "<tr>\n",
       "  <th>Skew:</th>          <td>-0.426</td> <th>  Prob(JB):          </th> <td>0.000720</td>\n",
       "</tr>\n",
       "<tr>\n",
       "  <th>Kurtosis:</th>      <td> 3.705</td> <th>  Cond. No.          </th> <td>    437.</td>\n",
       "</tr>\n",
       "</table><br/><br/>Warnings:<br/>[1] Standard Errors assume that the covariance matrix of the errors is correctly specified."
      ],
      "text/plain": [
       "<class 'statsmodels.iolib.summary.Summary'>\n",
       "\"\"\"\n",
       "                            OLS Regression Results                            \n",
       "==============================================================================\n",
       "Dep. Variable:                     G2   R-squared:                       0.301\n",
       "Model:                            OLS   Adj. R-squared:                  0.189\n",
       "Method:                 Least Squares   F-statistic:                     2.693\n",
       "Date:                Sun, 12 Aug 2018   Prob (F-statistic):           2.14e-06\n",
       "Time:                        21:42:26   Log-Likelihood:                -729.98\n",
       "No. Observations:                 284   AIC:                             1540.\n",
       "Df Residuals:                     244   BIC:                             1686.\n",
       "Df Model:                          39                                         \n",
       "Covariance Type:            nonrobust                                         \n",
       "=====================================================================================\n",
       "                        coef    std err          t      P>|t|      [0.025      0.975]\n",
       "-------------------------------------------------------------------------------------\n",
       "Intercept            12.3513      4.335      2.849      0.005       3.812      20.891\n",
       "age                  -0.0696      0.218     -0.320      0.749      -0.498       0.359\n",
       "Medu                  0.3221      0.332      0.971      0.332      -0.331       0.975\n",
       "Fedu                 -0.1232      0.278     -0.443      0.658      -0.671       0.425\n",
       "traveltime           -0.2211      0.342     -0.646      0.519      -0.896       0.453\n",
       "studytime             0.4171      0.289      1.444      0.150      -0.152       0.986\n",
       "failures             -1.1293      0.333     -3.396      0.001      -1.784      -0.474\n",
       "famrel                0.0282      0.251      0.112      0.911      -0.466       0.522\n",
       "freetime              0.3319      0.227      1.462      0.145      -0.115       0.779\n",
       "goout                -0.9655      0.234     -4.130      0.000      -1.426      -0.505\n",
       "Dalc                 -0.2099      0.337     -0.624      0.533      -0.873       0.453\n",
       "Walc                  0.3593      0.247      1.455      0.147      -0.127       0.846\n",
       "health               -0.3901      0.167     -2.342      0.020      -0.718      -0.062\n",
       "absences             -0.0079      0.029     -0.274      0.785      -0.064       0.049\n",
       "school_MS             0.2397      0.785      0.305      0.760      -1.306       1.785\n",
       "sex_M                 0.8885      0.508      1.748      0.082      -0.112       1.889\n",
       "address_U             0.7540      0.573      1.315      0.190      -0.375       1.883\n",
       "famsize_LE3           0.4639      0.518      0.895      0.372      -0.557       1.485\n",
       "Pstatus_T            -0.5952      0.766     -0.777      0.438      -2.103       0.913\n",
       "Mjob_health           1.3034      1.081      1.205      0.229      -0.827       3.433\n",
       "Mjob_other           -0.0448      0.704     -0.064      0.949      -1.432       1.342\n",
       "Mjob_services         0.5276      0.795      0.663      0.508      -1.039       2.094\n",
       "Mjob_teacher         -0.9595      0.984     -0.975      0.330      -2.898       0.979\n",
       "Fjob_health          -0.3798      1.536     -0.247      0.805      -3.405       2.645\n",
       "Fjob_other           -0.6572      1.159     -0.567      0.571      -2.940       1.625\n",
       "Fjob_services         0.2459      1.165      0.211      0.833      -2.049       2.541\n",
       "Fjob_teacher          1.0391      1.408      0.738      0.461      -1.735       3.813\n",
       "reason_home           0.4672      0.556      0.840      0.402      -0.629       1.563\n",
       "reason_other          0.7999      0.795      1.006      0.315      -0.766       2.366\n",
       "reason_reputation     0.6478      0.574      1.129      0.260      -0.482       1.778\n",
       "guardian_mother       0.0425      0.564      0.075      0.940      -1.067       1.152\n",
       "guardian_other        0.0403      1.001      0.040      0.968      -1.931       2.011\n",
       "schoolsup_yes        -1.0396      0.664     -1.566      0.119      -2.347       0.268\n",
       "famsup_yes           -1.0023      0.484     -2.071      0.039      -1.956      -0.049\n",
       "paid_yes              0.4781      0.474      1.008      0.315      -0.457       1.413\n",
       "activities_yes       -0.2109      0.436     -0.484      0.629      -1.069       0.647\n",
       "nursery_yes           0.1439      0.536      0.269      0.789      -0.911       1.199\n",
       "higher_yes            1.1094      1.031      1.076      0.283      -0.921       3.140\n",
       "internet_yes          0.4415      0.590      0.748      0.455      -0.722       1.605\n",
       "romantic_yes         -0.7324      0.470     -1.559      0.120      -1.658       0.193\n",
       "==============================================================================\n",
       "Omnibus:                       12.830   Durbin-Watson:                   1.773\n",
       "Prob(Omnibus):                  0.002   Jarque-Bera (JB):               14.472\n",
       "Skew:                          -0.426   Prob(JB):                     0.000720\n",
       "Kurtosis:                       3.705   Cond. No.                         437.\n",
       "==============================================================================\n",
       "\n",
       "Warnings:\n",
       "[1] Standard Errors assume that the covariance matrix of the errors is correctly specified.\n",
       "\"\"\""
      ]
     },
     "execution_count": 10,
     "metadata": {},
     "output_type": "execute_result"
    }
   ],
   "source": [
    "model1 = smf.ols('G2 ~ age + Medu + Fedu + traveltime + studytime + failures + famrel + freetime + goout + Dalc + Walc + health + absences + school_MS +sex_M + address_U + famsize_LE3 + Pstatus_T +Mjob_health + Mjob_other + Mjob_services + Mjob_teacher + Fjob_health + Fjob_other + Fjob_services + Fjob_teacher +reason_home + reason_other + reason_reputation + guardian_mother + guardian_other + schoolsup_yes + famsup_yes + paid_yes + activities_yes + nursery_yes + higher_yes + internet_yes +romantic_yes', data = df_final)\n",
    "model1 = model1.fit()\n",
    "model1.summary()"
   ]
  },
  {
   "cell_type": "markdown",
   "metadata": {},
   "source": [
    "Mismas variables significativas que el caso anterior, el intercepto es más alto en este caso"
   ]
  },
  {
   "cell_type": "code",
   "execution_count": 11,
   "metadata": {},
   "outputs": [
    {
     "data": {
      "text/html": [
       "<table class=\"simpletable\">\n",
       "<caption>OLS Regression Results</caption>\n",
       "<tr>\n",
       "  <th>Dep. Variable:</th>           <td>G3</td>        <th>  R-squared:         </th> <td>   0.312</td>\n",
       "</tr>\n",
       "<tr>\n",
       "  <th>Model:</th>                   <td>OLS</td>       <th>  Adj. R-squared:    </th> <td>   0.201</td>\n",
       "</tr>\n",
       "<tr>\n",
       "  <th>Method:</th>             <td>Least Squares</td>  <th>  F-statistic:       </th> <td>   2.831</td>\n",
       "</tr>\n",
       "<tr>\n",
       "  <th>Date:</th>             <td>Sun, 12 Aug 2018</td> <th>  Prob (F-statistic):</th> <td>6.14e-07</td>\n",
       "</tr>\n",
       "<tr>\n",
       "  <th>Time:</th>                 <td>21:42:28</td>     <th>  Log-Likelihood:    </th> <td> -780.76</td>\n",
       "</tr>\n",
       "<tr>\n",
       "  <th>No. Observations:</th>      <td>   284</td>      <th>  AIC:               </th> <td>   1642.</td>\n",
       "</tr>\n",
       "<tr>\n",
       "  <th>Df Residuals:</th>          <td>   244</td>      <th>  BIC:               </th> <td>   1787.</td>\n",
       "</tr>\n",
       "<tr>\n",
       "  <th>Df Model:</th>              <td>    39</td>      <th>                     </th>     <td> </td>   \n",
       "</tr>\n",
       "<tr>\n",
       "  <th>Covariance Type:</th>      <td>nonrobust</td>    <th>                     </th>     <td> </td>   \n",
       "</tr>\n",
       "</table>\n",
       "<table class=\"simpletable\">\n",
       "<tr>\n",
       "          <td></td>             <th>coef</th>     <th>std err</th>      <th>t</th>      <th>P>|t|</th>  <th>[0.025</th>    <th>0.975]</th>  \n",
       "</tr>\n",
       "<tr>\n",
       "  <th>Intercept</th>         <td>   11.8343</td> <td>    5.184</td> <td>    2.283</td> <td> 0.023</td> <td>    1.623</td> <td>   22.046</td>\n",
       "</tr>\n",
       "<tr>\n",
       "  <th>age</th>               <td>   -0.1608</td> <td>    0.260</td> <td>   -0.618</td> <td> 0.537</td> <td>   -0.673</td> <td>    0.352</td>\n",
       "</tr>\n",
       "<tr>\n",
       "  <th>Medu</th>              <td>    0.5017</td> <td>    0.397</td> <td>    1.265</td> <td> 0.207</td> <td>   -0.279</td> <td>    1.283</td>\n",
       "</tr>\n",
       "<tr>\n",
       "  <th>Fedu</th>              <td>   -0.3060</td> <td>    0.333</td> <td>   -0.920</td> <td> 0.358</td> <td>   -0.961</td> <td>    0.349</td>\n",
       "</tr>\n",
       "<tr>\n",
       "  <th>traveltime</th>        <td>   -0.1333</td> <td>    0.409</td> <td>   -0.326</td> <td> 0.745</td> <td>   -0.940</td> <td>    0.673</td>\n",
       "</tr>\n",
       "<tr>\n",
       "  <th>studytime</th>         <td>    0.3779</td> <td>    0.345</td> <td>    1.094</td> <td> 0.275</td> <td>   -0.302</td> <td>    1.058</td>\n",
       "</tr>\n",
       "<tr>\n",
       "  <th>failures</th>          <td>   -1.4767</td> <td>    0.398</td> <td>   -3.713</td> <td> 0.000</td> <td>   -2.260</td> <td>   -0.693</td>\n",
       "</tr>\n",
       "<tr>\n",
       "  <th>famrel</th>            <td>    0.4857</td> <td>    0.300</td> <td>    1.621</td> <td> 0.106</td> <td>   -0.105</td> <td>    1.076</td>\n",
       "</tr>\n",
       "<tr>\n",
       "  <th>freetime</th>          <td>    0.4721</td> <td>    0.271</td> <td>    1.739</td> <td> 0.083</td> <td>   -0.063</td> <td>    1.007</td>\n",
       "</tr>\n",
       "<tr>\n",
       "  <th>goout</th>             <td>   -1.2396</td> <td>    0.280</td> <td>   -4.434</td> <td> 0.000</td> <td>   -1.790</td> <td>   -0.689</td>\n",
       "</tr>\n",
       "<tr>\n",
       "  <th>Dalc</th>              <td>   -0.5493</td> <td>    0.402</td> <td>   -1.365</td> <td> 0.174</td> <td>   -1.342</td> <td>    0.243</td>\n",
       "</tr>\n",
       "<tr>\n",
       "  <th>Walc</th>              <td>    0.7566</td> <td>    0.295</td> <td>    2.562</td> <td> 0.011</td> <td>    0.175</td> <td>    1.338</td>\n",
       "</tr>\n",
       "<tr>\n",
       "  <th>health</th>            <td>   -0.3936</td> <td>    0.199</td> <td>   -1.976</td> <td> 0.049</td> <td>   -0.786</td> <td>   -0.001</td>\n",
       "</tr>\n",
       "<tr>\n",
       "  <th>absences</th>          <td>    0.0336</td> <td>    0.034</td> <td>    0.977</td> <td> 0.329</td> <td>   -0.034</td> <td>    0.101</td>\n",
       "</tr>\n",
       "<tr>\n",
       "  <th>school_MS</th>         <td>    0.9206</td> <td>    0.938</td> <td>    0.981</td> <td> 0.327</td> <td>   -0.927</td> <td>    2.769</td>\n",
       "</tr>\n",
       "<tr>\n",
       "  <th>sex_M</th>             <td>    1.0108</td> <td>    0.608</td> <td>    1.663</td> <td> 0.098</td> <td>   -0.186</td> <td>    2.208</td>\n",
       "</tr>\n",
       "<tr>\n",
       "  <th>address_U</th>         <td>    0.8873</td> <td>    0.686</td> <td>    1.294</td> <td> 0.197</td> <td>   -0.463</td> <td>    2.238</td>\n",
       "</tr>\n",
       "<tr>\n",
       "  <th>famsize_LE3</th>       <td>    0.3597</td> <td>    0.620</td> <td>    0.580</td> <td> 0.562</td> <td>   -0.861</td> <td>    1.580</td>\n",
       "</tr>\n",
       "<tr>\n",
       "  <th>Pstatus_T</th>         <td>   -1.0103</td> <td>    0.916</td> <td>   -1.103</td> <td> 0.271</td> <td>   -2.814</td> <td>    0.793</td>\n",
       "</tr>\n",
       "<tr>\n",
       "  <th>Mjob_health</th>       <td>    1.3603</td> <td>    1.293</td> <td>    1.052</td> <td> 0.294</td> <td>   -1.187</td> <td>    3.907</td>\n",
       "</tr>\n",
       "<tr>\n",
       "  <th>Mjob_other</th>        <td>    0.2651</td> <td>    0.842</td> <td>    0.315</td> <td> 0.753</td> <td>   -1.393</td> <td>    1.924</td>\n",
       "</tr>\n",
       "<tr>\n",
       "  <th>Mjob_services</th>     <td>    0.7422</td> <td>    0.951</td> <td>    0.780</td> <td> 0.436</td> <td>   -1.131</td> <td>    2.616</td>\n",
       "</tr>\n",
       "<tr>\n",
       "  <th>Mjob_teacher</th>      <td>   -1.0447</td> <td>    1.177</td> <td>   -0.888</td> <td> 0.376</td> <td>   -3.362</td> <td>    1.273</td>\n",
       "</tr>\n",
       "<tr>\n",
       "  <th>Fjob_health</th>       <td>   -0.6401</td> <td>    1.836</td> <td>   -0.349</td> <td> 0.728</td> <td>   -4.257</td> <td>    2.977</td>\n",
       "</tr>\n",
       "<tr>\n",
       "  <th>Fjob_other</th>        <td>   -1.4023</td> <td>    1.386</td> <td>   -1.012</td> <td> 0.313</td> <td>   -4.132</td> <td>    1.327</td>\n",
       "</tr>\n",
       "<tr>\n",
       "  <th>Fjob_services</th>     <td>   -0.5543</td> <td>    1.393</td> <td>   -0.398</td> <td> 0.691</td> <td>   -3.298</td> <td>    2.190</td>\n",
       "</tr>\n",
       "<tr>\n",
       "  <th>Fjob_teacher</th>      <td>    0.7959</td> <td>    1.684</td> <td>    0.473</td> <td> 0.637</td> <td>   -2.522</td> <td>    4.113</td>\n",
       "</tr>\n",
       "<tr>\n",
       "  <th>reason_home</th>       <td>    0.2428</td> <td>    0.665</td> <td>    0.365</td> <td> 0.715</td> <td>   -1.067</td> <td>    1.553</td>\n",
       "</tr>\n",
       "<tr>\n",
       "  <th>reason_other</th>      <td>    0.9620</td> <td>    0.951</td> <td>    1.012</td> <td> 0.313</td> <td>   -0.911</td> <td>    2.835</td>\n",
       "</tr>\n",
       "<tr>\n",
       "  <th>reason_reputation</th> <td>    0.9431</td> <td>    0.686</td> <td>    1.375</td> <td> 0.171</td> <td>   -0.408</td> <td>    2.295</td>\n",
       "</tr>\n",
       "<tr>\n",
       "  <th>guardian_mother</th>   <td>    0.2893</td> <td>    0.674</td> <td>    0.429</td> <td> 0.668</td> <td>   -1.038</td> <td>    1.617</td>\n",
       "</tr>\n",
       "<tr>\n",
       "  <th>guardian_other</th>    <td>   -0.3567</td> <td>    1.197</td> <td>   -0.298</td> <td> 0.766</td> <td>   -2.714</td> <td>    2.000</td>\n",
       "</tr>\n",
       "<tr>\n",
       "  <th>schoolsup_yes</th>     <td>   -1.0615</td> <td>    0.794</td> <td>   -1.337</td> <td> 0.182</td> <td>   -2.625</td> <td>    0.502</td>\n",
       "</tr>\n",
       "<tr>\n",
       "  <th>famsup_yes</th>        <td>   -0.9381</td> <td>    0.579</td> <td>   -1.621</td> <td> 0.106</td> <td>   -2.078</td> <td>    0.202</td>\n",
       "</tr>\n",
       "<tr>\n",
       "  <th>paid_yes</th>          <td>    0.5265</td> <td>    0.567</td> <td>    0.928</td> <td> 0.354</td> <td>   -0.591</td> <td>    1.644</td>\n",
       "</tr>\n",
       "<tr>\n",
       "  <th>activities_yes</th>    <td>   -0.6244</td> <td>    0.521</td> <td>   -1.199</td> <td> 0.232</td> <td>   -1.650</td> <td>    0.402</td>\n",
       "</tr>\n",
       "<tr>\n",
       "  <th>nursery_yes</th>       <td>    0.0846</td> <td>    0.641</td> <td>    0.132</td> <td> 0.895</td> <td>   -1.177</td> <td>    1.347</td>\n",
       "</tr>\n",
       "<tr>\n",
       "  <th>higher_yes</th>        <td>    1.7295</td> <td>    1.233</td> <td>    1.403</td> <td> 0.162</td> <td>   -0.699</td> <td>    4.158</td>\n",
       "</tr>\n",
       "<tr>\n",
       "  <th>internet_yes</th>      <td>    0.4170</td> <td>    0.706</td> <td>    0.591</td> <td> 0.555</td> <td>   -0.974</td> <td>    1.808</td>\n",
       "</tr>\n",
       "<tr>\n",
       "  <th>romantic_yes</th>      <td>   -0.8878</td> <td>    0.562</td> <td>   -1.581</td> <td> 0.115</td> <td>   -1.994</td> <td>    0.219</td>\n",
       "</tr>\n",
       "</table>\n",
       "<table class=\"simpletable\">\n",
       "<tr>\n",
       "  <th>Omnibus:</th>       <td>12.840</td> <th>  Durbin-Watson:     </th> <td>   1.821</td>\n",
       "</tr>\n",
       "<tr>\n",
       "  <th>Prob(Omnibus):</th> <td> 0.002</td> <th>  Jarque-Bera (JB):  </th> <td>  13.547</td>\n",
       "</tr>\n",
       "<tr>\n",
       "  <th>Skew:</th>          <td>-0.533</td> <th>  Prob(JB):          </th> <td> 0.00114</td>\n",
       "</tr>\n",
       "<tr>\n",
       "  <th>Kurtosis:</th>      <td> 3.085</td> <th>  Cond. No.          </th> <td>    437.</td>\n",
       "</tr>\n",
       "</table><br/><br/>Warnings:<br/>[1] Standard Errors assume that the covariance matrix of the errors is correctly specified."
      ],
      "text/plain": [
       "<class 'statsmodels.iolib.summary.Summary'>\n",
       "\"\"\"\n",
       "                            OLS Regression Results                            \n",
       "==============================================================================\n",
       "Dep. Variable:                     G3   R-squared:                       0.312\n",
       "Model:                            OLS   Adj. R-squared:                  0.201\n",
       "Method:                 Least Squares   F-statistic:                     2.831\n",
       "Date:                Sun, 12 Aug 2018   Prob (F-statistic):           6.14e-07\n",
       "Time:                        21:42:28   Log-Likelihood:                -780.76\n",
       "No. Observations:                 284   AIC:                             1642.\n",
       "Df Residuals:                     244   BIC:                             1787.\n",
       "Df Model:                          39                                         \n",
       "Covariance Type:            nonrobust                                         \n",
       "=====================================================================================\n",
       "                        coef    std err          t      P>|t|      [0.025      0.975]\n",
       "-------------------------------------------------------------------------------------\n",
       "Intercept            11.8343      5.184      2.283      0.023       1.623      22.046\n",
       "age                  -0.1608      0.260     -0.618      0.537      -0.673       0.352\n",
       "Medu                  0.5017      0.397      1.265      0.207      -0.279       1.283\n",
       "Fedu                 -0.3060      0.333     -0.920      0.358      -0.961       0.349\n",
       "traveltime           -0.1333      0.409     -0.326      0.745      -0.940       0.673\n",
       "studytime             0.3779      0.345      1.094      0.275      -0.302       1.058\n",
       "failures             -1.4767      0.398     -3.713      0.000      -2.260      -0.693\n",
       "famrel                0.4857      0.300      1.621      0.106      -0.105       1.076\n",
       "freetime              0.4721      0.271      1.739      0.083      -0.063       1.007\n",
       "goout                -1.2396      0.280     -4.434      0.000      -1.790      -0.689\n",
       "Dalc                 -0.5493      0.402     -1.365      0.174      -1.342       0.243\n",
       "Walc                  0.7566      0.295      2.562      0.011       0.175       1.338\n",
       "health               -0.3936      0.199     -1.976      0.049      -0.786      -0.001\n",
       "absences              0.0336      0.034      0.977      0.329      -0.034       0.101\n",
       "school_MS             0.9206      0.938      0.981      0.327      -0.927       2.769\n",
       "sex_M                 1.0108      0.608      1.663      0.098      -0.186       2.208\n",
       "address_U             0.8873      0.686      1.294      0.197      -0.463       2.238\n",
       "famsize_LE3           0.3597      0.620      0.580      0.562      -0.861       1.580\n",
       "Pstatus_T            -1.0103      0.916     -1.103      0.271      -2.814       0.793\n",
       "Mjob_health           1.3603      1.293      1.052      0.294      -1.187       3.907\n",
       "Mjob_other            0.2651      0.842      0.315      0.753      -1.393       1.924\n",
       "Mjob_services         0.7422      0.951      0.780      0.436      -1.131       2.616\n",
       "Mjob_teacher         -1.0447      1.177     -0.888      0.376      -3.362       1.273\n",
       "Fjob_health          -0.6401      1.836     -0.349      0.728      -4.257       2.977\n",
       "Fjob_other           -1.4023      1.386     -1.012      0.313      -4.132       1.327\n",
       "Fjob_services        -0.5543      1.393     -0.398      0.691      -3.298       2.190\n",
       "Fjob_teacher          0.7959      1.684      0.473      0.637      -2.522       4.113\n",
       "reason_home           0.2428      0.665      0.365      0.715      -1.067       1.553\n",
       "reason_other          0.9620      0.951      1.012      0.313      -0.911       2.835\n",
       "reason_reputation     0.9431      0.686      1.375      0.171      -0.408       2.295\n",
       "guardian_mother       0.2893      0.674      0.429      0.668      -1.038       1.617\n",
       "guardian_other       -0.3567      1.197     -0.298      0.766      -2.714       2.000\n",
       "schoolsup_yes        -1.0615      0.794     -1.337      0.182      -2.625       0.502\n",
       "famsup_yes           -0.9381      0.579     -1.621      0.106      -2.078       0.202\n",
       "paid_yes              0.5265      0.567      0.928      0.354      -0.591       1.644\n",
       "activities_yes       -0.6244      0.521     -1.199      0.232      -1.650       0.402\n",
       "nursery_yes           0.0846      0.641      0.132      0.895      -1.177       1.347\n",
       "higher_yes            1.7295      1.233      1.403      0.162      -0.699       4.158\n",
       "internet_yes          0.4170      0.706      0.591      0.555      -0.974       1.808\n",
       "romantic_yes         -0.8878      0.562     -1.581      0.115      -1.994       0.219\n",
       "==============================================================================\n",
       "Omnibus:                       12.840   Durbin-Watson:                   1.821\n",
       "Prob(Omnibus):                  0.002   Jarque-Bera (JB):               13.547\n",
       "Skew:                          -0.533   Prob(JB):                      0.00114\n",
       "Kurtosis:                       3.085   Cond. No.                         437.\n",
       "==============================================================================\n",
       "\n",
       "Warnings:\n",
       "[1] Standard Errors assume that the covariance matrix of the errors is correctly specified.\n",
       "\"\"\""
      ]
     },
     "execution_count": 11,
     "metadata": {},
     "output_type": "execute_result"
    }
   ],
   "source": [
    "model1 = smf.ols('G3 ~ age + Medu + Fedu + traveltime + studytime + failures + famrel + freetime + goout + Dalc + Walc + health + absences + school_MS +sex_M + address_U + famsize_LE3 + Pstatus_T +Mjob_health + Mjob_other + Mjob_services + Mjob_teacher + Fjob_health + Fjob_other + Fjob_services + Fjob_teacher +reason_home + reason_other + reason_reputation + guardian_mother + guardian_other + schoolsup_yes + famsup_yes + paid_yes + activities_yes + nursery_yes + higher_yes + internet_yes +romantic_yes', data = df_final)\n",
    "model1 = model1.fit()\n",
    "model1.summary()"
   ]
  },
  {
   "cell_type": "markdown",
   "metadata": {},
   "source": [
    "Sorprendentemente, las variables significativas son failures, goout, Walc, health. Para el modelo de Machine Learning probaremos el método saturado, y los dos grupos de variables significativas que encontramos (El para G1 y G2, y el de G3). "
   ]
  },
  {
   "cell_type": "markdown",
   "metadata": {},
   "source": [
    "### Modelación predictiva  \n",
    "Utilizamos el modelo saturado:"
   ]
  },
  {
   "cell_type": "code",
   "execution_count": 30,
   "metadata": {},
   "outputs": [
    {
     "name": "stdout",
     "output_type": "stream",
     "text": [
      "Mean Squared Error:  23.4\n",
      "R-cuadrado:  -0.24\n"
     ]
    }
   ],
   "source": [
    "y_vec = df_final.loc[:, 'G3']\n",
    "x_vec = df_final.drop(['G1','G2','G3'],axis=1)\n",
    "\n",
    "X_train, X_test, y_train, y_test1 = train_test_split(x_vec, y_vec, test_size=.33, random_state=3)\n",
    "\n",
    "modelo1 = linear_model.LinearRegression(fit_intercept=True, normalize=True)\n",
    "modelo1.fit(X_train, y_train)\n",
    "medv_1 = modelo1.predict(X_test)\n",
    "\n",
    "fxpy.report_scores(y_test1, medv_1)"
   ]
  },
  {
   "cell_type": "markdown",
   "metadata": {},
   "source": [
    "El R2 es negativo, situación que courre en la lógica computacional, se interpreta tal como si fuera 0.\n",
    "Dada la lógica del Machine Learning, generaremos otros dos modelos con las variables significativas en ambos modelos descriptivos anteriores y compararemos todas las métricas"
   ]
  },
  {
   "cell_type": "code",
   "execution_count": 32,
   "metadata": {},
   "outputs": [
    {
     "name": "stdout",
     "output_type": "stream",
     "text": [
      "Mean Squared Error:  17.2\n",
      "R-cuadrado:  0.09\n"
     ]
    }
   ],
   "source": [
    "y_vec = df_final.loc[:, 'G3']\n",
    "x_vec = df_final.loc[:,['failures', 'goout', 'health', 'famsup_yes']]\n",
    "\n",
    "X_train, X_test, y_train, y_test2 = train_test_split(x_vec, y_vec, test_size=.33, random_state=3)\n",
    "\n",
    "modelo1 = linear_model.LinearRegression(fit_intercept=True, normalize=True)\n",
    "modelo1.fit(X_train, y_train)\n",
    "medv_2 = modelo1.predict(X_test)\n",
    "\n",
    "fxpy.report_scores(y_test2, medv_2)"
   ]
  },
  {
   "cell_type": "code",
   "execution_count": 33,
   "metadata": {},
   "outputs": [
    {
     "name": "stdout",
     "output_type": "stream",
     "text": [
      "Mean Squared Error:  17.7\n",
      "R-cuadrado:  0.06\n"
     ]
    }
   ],
   "source": [
    "y_vec = df_final.loc[:, 'G3']\n",
    "x_vec = df_final.loc[:,['failures', 'goout', 'health', 'Walc']]\n",
    "\n",
    "X_train, X_test, y_train, y_test3 = train_test_split(x_vec, y_vec, test_size=.33, random_state=3)\n",
    "\n",
    "modelo1 = linear_model.LinearRegression(fit_intercept=True, normalize=True)\n",
    "modelo1.fit(X_train, y_train)\n",
    "medv_3 = modelo1.predict(X_test)\n",
    "\n",
    "fxpy.report_scores(y_test3, medv_3)"
   ]
  },
  {
   "cell_type": "code",
   "execution_count": 38,
   "metadata": {},
   "outputs": [
    {
     "data": {
      "image/png": "[encoded data removed]",
      "text/plain": [
       "<Figure size 432x288 with 2 Axes>"
      ]
     },
     "metadata": {},
     "output_type": "display_data"
    }
   ],
   "source": [
    "plt.subplot(2,1,1)\n",
    "plt.barh(['Modelo 1', 'Modelo 2', 'Modelo 3'], [mean_squared_error(y_test1, medv_1).round(1), mean_squared_error(y_test2, medv_2).round(1), mean_squared_error(y_test3, medv_3).round(1)])\n",
    "plt.title(\"Promedio Error Cuadrático\")\n",
    "plt.subplot(2,1, 2)\n",
    "plt.barh(['Modelo 1', 'Modelo 2','Modelo 3'], [max(0,r2_score(y_test1, medv_1.round(1))), r2_score(y_test2, medv_2).round(2),r2_score(y_test3, medv_3).round(2)])\n",
    "plt.title(\"R cuadrado\");\n",
    "plt.tight_layout()"
   ]
  },
  {
   "cell_type": "markdown",
   "metadata": {},
   "source": [
    "Utilizando la lógica del Machine Learning, el mejor Modelo es el Modelo 2, que tiene menor MSE y un R2 más alto, aunque no deja de ser bajo. Es deducible que el mejor modelo es aquel que explica mejor las variables G1 y G2, que la que explica G3 por si sola, ya que G3 es una variable dependiente de G1 y G2"
   ]
  },
  {
   "cell_type": "code",
   "execution_count": null,
   "metadata": {},
   "outputs": [],
   "source": []
  }
 ],
 "metadata": {
  "kernelspec": {
   "display_name": "Python 3",
   "language": "python",
   "name": "python3"
  },
  "language_info": {
   "codemirror_mode": {
    "name": "ipython",
    "version": 3
   },
   "file_extension": ".py",
   "mimetype": "text/x-python",
   "name": "python",
   "nbconvert_exporter": "python",
   "pygments_lexer": "ipython3",
   "version": "3.6.5"
  }
 },
 "nbformat": 4,
 "nbformat_minor": 2
}
